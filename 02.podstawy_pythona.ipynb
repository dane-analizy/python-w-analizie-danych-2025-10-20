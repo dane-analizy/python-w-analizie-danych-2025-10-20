{
 "cells": [
  {
   "cell_type": "markdown",
   "id": "83bb46c2-77e4-4825-98ab-86009b951333",
   "metadata": {},
   "source": [
    "# Podstawowe typy i struktury danych  "
   ]
  },
  {
   "cell_type": "markdown",
   "id": "f7c85029-149d-47cc-b31f-a4132c3087c1",
   "metadata": {},
   "source": [
    "## liczby"
   ]
  },
  {
   "cell_type": "code",
   "execution_count": null,
   "id": "e2b4e5e6-92c1-4d3e-a493-809e9a67cd12",
   "metadata": {},
   "outputs": [],
   "source": [
    "# zmienna liczbowa - int, float\n",
    "a = 1\n",
    "b = 1.23456"
   ]
  },
  {
   "cell_type": "code",
   "execution_count": null,
   "id": "681b289a-1997-48f1-8a7f-fa0d5ae2896b",
   "metadata": {},
   "outputs": [],
   "source": [
    "print(a)"
   ]
  },
  {
   "cell_type": "code",
   "execution_count": 3,
   "id": "18801c97-e7c7-4089-9ca0-4d84f3514ecd",
   "metadata": {},
   "outputs": [
    {
     "name": "stdout",
     "output_type": "stream",
     "text": [
      "1.23456\n"
     ]
    }
   ],
   "source": [
    "print(b)"
   ]
  },
  {
   "cell_type": "code",
   "execution_count": null,
   "id": "160b5ac6-6463-45a8-95ed-3cf78b5c83dd",
   "metadata": {},
   "outputs": [],
   "source": [
    "a\n"
   ]
  },
  {
   "cell_type": "code",
   "execution_count": null,
   "id": "7ec48b51-ae76-4e9a-962e-5d862014a97c",
   "metadata": {},
   "outputs": [],
   "source": [
    "b"
   ]
  },
  {
   "cell_type": "code",
   "execution_count": null,
   "id": "e5fb53a4-f19e-4c9c-97b0-b7ccd18d595a",
   "metadata": {},
   "outputs": [],
   "source": [
    "aa = 1\n",
    "bb = 2\n",
    "cc = 3\n",
    "\n",
    "print(aa)\n",
    "print(bb)\n",
    "print(cc)"
   ]
  },
  {
   "cell_type": "code",
   "execution_count": null,
   "id": "b28df8dd-2337-41c8-ad0f-d7acda4f7d9f",
   "metadata": {},
   "outputs": [],
   "source": [
    "aa = aa + 10\n",
    "\n",
    "aa"
   ]
  },
  {
   "cell_type": "code",
   "execution_count": null,
   "id": "30952ff0-a947-4afe-9566-a0b4a36591a8",
   "metadata": {},
   "outputs": [],
   "source": [
    "aa = 3\n",
    "\n",
    "aa"
   ]
  },
  {
   "cell_type": "code",
   "execution_count": null,
   "id": "a7bc38fa-f49d-49a9-942c-f37852f7f3dd",
   "metadata": {},
   "outputs": [],
   "source": [
    "123/11"
   ]
  },
  {
   "cell_type": "markdown",
   "id": "479b3515-8409-4265-9bbd-222dc56a8e4b",
   "metadata": {},
   "source": [
    "## lista"
   ]
  },
  {
   "cell_type": "code",
   "execution_count": null,
   "id": "dc80c089-00dc-4a53-9ccb-46c6960cb7f9",
   "metadata": {},
   "outputs": [],
   "source": [
    "liczby = [1,2,3,4,5 ]\n",
    "liczby"
   ]
  },
  {
   "cell_type": "code",
   "execution_count": null,
   "id": "dd181d96-549d-479c-bbf9-8307495f590b",
   "metadata": {},
   "outputs": [],
   "source": [
    "napisy = ['ala', 'ma', 'kota']\n",
    "napisy"
   ]
  },
  {
   "cell_type": "code",
   "execution_count": null,
   "id": "56fee00b-76ab-4f6f-8acd-587d435dfcc1",
   "metadata": {},
   "outputs": [],
   "source": [
    "lista_mieszana = [1,2,\"ala\",3,4, \"ma\", \"kota\"]\n",
    "lista_mieszana"
   ]
  },
  {
   "cell_type": "code",
   "execution_count": null,
   "id": "07a597bd-50a6-4132-882e-ebeed864bd18",
   "metadata": {},
   "outputs": [],
   "source": [
    "# dodawanie elementu do listy - na koniec\n",
    "lista_mieszana.append(10)"
   ]
  },
  {
   "cell_type": "code",
   "execution_count": null,
   "id": "26d43e75-5793-42b8-a52b-be03b0724ebe",
   "metadata": {},
   "outputs": [],
   "source": [
    "lista_mieszana"
   ]
  },
  {
   "cell_type": "markdown",
   "id": "019cc890-e284-44b9-90e3-ac2396eacc66",
   "metadata": {},
   "source": [
    "## napisy"
   ]
  },
  {
   "cell_type": "code",
   "execution_count": null,
   "id": "5d07902f-a4e3-4e82-b81e-838bdb871adf",
   "metadata": {},
   "outputs": [],
   "source": [
    "napis = \"python jest fajny i łatwy\"\n",
    "napis"
   ]
  },
  {
   "cell_type": "code",
   "execution_count": null,
   "id": "68cc3600-5556-4a27-ab32-14eb1ff5ec4d",
   "metadata": {},
   "outputs": [],
   "source": [
    "napis.upper() # zmiana liter na wielkie"
   ]
  },
  {
   "cell_type": "code",
   "execution_count": null,
   "id": "83d57a97-69cf-4e14-9a1d-e7d7a9ee4a68",
   "metadata": {},
   "outputs": [],
   "source": [
    "napis"
   ]
  },
  {
   "cell_type": "code",
   "execution_count": null,
   "id": "5602d3c8-2be0-4119-b0e9-d7fbcf0f276b",
   "metadata": {},
   "outputs": [],
   "source": [
    "napis.title()"
   ]
  },
  {
   "cell_type": "code",
   "execution_count": null,
   "id": "54cada98-88ca-48df-a438-0901920fd2d7",
   "metadata": {},
   "outputs": [],
   "source": [
    "napis"
   ]
  },
  {
   "cell_type": "markdown",
   "id": "8fff0afd-f6df-4d91-a6a3-8ff0799e1c92",
   "metadata": {},
   "source": [
    "# krotka = tuple\n",
    "\n",
    "taka lista tylko do odczytu"
   ]
  },
  {
   "cell_type": "code",
   "execution_count": null,
   "id": "6b9e4307-20a0-4c30-9834-00bbd807f1f9",
   "metadata": {},
   "outputs": [],
   "source": [
    "krotka = (1,2,\"ala\",3,4, \"ma\", \"kota\")\n",
    "krotka"
   ]
  },
  {
   "cell_type": "code",
   "execution_count": null,
   "id": "aff0581d-020b-43fd-9d5d-fbcf10fd634f",
   "metadata": {},
   "outputs": [],
   "source": [
    "krotka.append(\"nowa wartość\")"
   ]
  },
  {
   "cell_type": "code",
   "execution_count": null,
   "id": "b1d8f44d-de55-4cce-90bb-8b6bb28df67d",
   "metadata": {},
   "outputs": [],
   "source": [
    "# jak z krotki zrobić listę? -> rzutowanie = casting\n",
    "lista_z_krotki = list(krotka)\n",
    "lista_z_krotki"
   ]
  },
  {
   "cell_type": "code",
   "execution_count": null,
   "id": "1580c062-dcf4-4017-81c9-35285723fd26",
   "metadata": {},
   "outputs": [],
   "source": [
    "lista_z_krotki.append(\"nowa wartość\")\n",
    "lista_z_krotki"
   ]
  },
  {
   "cell_type": "code",
   "execution_count": null,
   "id": "bf9d6599-a231-44f8-a740-c184f9a41c4e",
   "metadata": {},
   "outputs": [],
   "source": [
    "# krotka z listy\n",
    "krotka_z_listy = tuple(lista_mieszana)\n",
    "krotka_z_listy"
   ]
  },
  {
   "cell_type": "code",
   "execution_count": null,
   "id": "5365be92-cd91-4dee-a7d0-795dd1901733",
   "metadata": {},
   "outputs": [],
   "source": [
    "# rzutowanie dla liczb\n",
    "a = 1\n",
    "b = 1.8\n",
    "\n",
    "print(int(b))\n",
    "print(float(a))\n"
   ]
  },
  {
   "cell_type": "markdown",
   "id": "025d5096-22b5-46f5-be97-5312cb2acf07",
   "metadata": {},
   "source": [
    "## zbiory "
   ]
  },
  {
   "cell_type": "code",
   "execution_count": null,
   "id": "2ac71cd8-3a46-40f6-9d42-1235feaddebd",
   "metadata": {},
   "outputs": [],
   "source": [
    "# zbiór = set\n",
    "lista_z_powtorzeniami = [ 1, 2, 1, 1, 2, 3, 4, 5 ]\n",
    "lista_z_powtorzeniami"
   ]
  },
  {
   "cell_type": "code",
   "execution_count": null,
   "id": "6feb79d2-4042-40e4-833d-0961b2fc6de7",
   "metadata": {},
   "outputs": [],
   "source": [
    "zbior = set( lista_z_powtorzeniami )\n",
    "zbior"
   ]
  },
  {
   "cell_type": "code",
   "execution_count": null,
   "id": "cda1d66d-36b8-4c33-bd29-720946a34c89",
   "metadata": {},
   "outputs": [],
   "source": [
    "# metody uniwersalne dla list, krotek i zbiorów (iteratorów)"
   ]
  },
  {
   "cell_type": "code",
   "execution_count": null,
   "id": "176c3ee3-9512-4e2c-8deb-c37a560b593b",
   "metadata": {},
   "outputs": [],
   "source": [
    "len(lista_z_powtorzeniami)"
   ]
  },
  {
   "cell_type": "code",
   "execution_count": null,
   "id": "cb4920c2-a216-4b8c-9d06-c33f8dfb29ca",
   "metadata": {},
   "outputs": [],
   "source": [
    "len(zbior)"
   ]
  },
  {
   "cell_type": "code",
   "execution_count": null,
   "id": "2629e432-ec5a-40d7-9254-4b010acd4ea5",
   "metadata": {},
   "outputs": [],
   "source": [
    "## indeksowanie = wybieranie elementów z iteratorów\n",
    "\n",
    "# indeks = 0 => pierwszy element na liście\n",
    "lista_z_powtorzeniami[0]"
   ]
  },
  {
   "cell_type": "code",
   "execution_count": null,
   "id": "e4133bf5-37f7-46df-8c37-1753ad70a906",
   "metadata": {},
   "outputs": [],
   "source": [
    "lista_z_powtorzeniami[6]"
   ]
  },
  {
   "cell_type": "code",
   "execution_count": null,
   "id": "0f4f6b1f-7063-4a24-8a75-9a07d3cab85a",
   "metadata": {},
   "outputs": [],
   "source": [
    "## ostatnie od końca\n",
    "lista_z_powtorzeniami[-1]"
   ]
  },
  {
   "cell_type": "code",
   "execution_count": null,
   "id": "42ace126-8e58-4913-aec9-5b9ad95204f1",
   "metadata": {},
   "outputs": [],
   "source": [
    "## prezdostatnie od końca\n",
    "lista_z_powtorzeniami[-2]"
   ]
  },
  {
   "cell_type": "code",
   "execution_count": null,
   "id": "73875647-d889-4c54-a423-de1e7bee5cab",
   "metadata": {},
   "outputs": [],
   "source": [
    "lista_z_powtorzeniami"
   ]
  },
  {
   "cell_type": "code",
   "execution_count": null,
   "id": "c0eb9220-fd5a-471a-8bae-bff91d25b483",
   "metadata": {},
   "outputs": [],
   "source": [
    "## zakres\n",
    "lista_z_powtorzeniami[ 3:6  ] "
   ]
  },
  {
   "cell_type": "code",
   "execution_count": null,
   "id": "e10846ed-b72b-4f6a-b806-6d14f39ac78c",
   "metadata": {},
   "outputs": [],
   "source": [
    "## co drugi element\n",
    "lista_z_powtorzeniami[ 0 : -1 : 2 ]"
   ]
  },
  {
   "cell_type": "code",
   "execution_count": null,
   "id": "3b71bd75-29a2-411a-8760-ff84b38b4966",
   "metadata": {},
   "outputs": [],
   "source": [
    "lista_z_powtorzeniami[ 0 : -1 : 3 ]"
   ]
  },
  {
   "cell_type": "code",
   "execution_count": null,
   "id": "538bb0a9-b0e2-4f56-8618-5d12cebac237",
   "metadata": {},
   "outputs": [],
   "source": [
    "## odwrócenie kolejności"
   ]
  },
  {
   "cell_type": "code",
   "execution_count": null,
   "id": "2078a42d-16cf-42a6-aa0b-652c937cde4b",
   "metadata": {},
   "outputs": [],
   "source": [
    "lista_z_powtorzeniami[ ::-1 ]"
   ]
  },
  {
   "cell_type": "code",
   "execution_count": null,
   "id": "fca60edd-386e-4813-9f0e-ebaa79062a05",
   "metadata": {},
   "outputs": [],
   "source": [
    "# napis jest listą znaków\n",
    "napis = \"to jest jakiś napis\"\n",
    "\n",
    "napis[ :5 ] "
   ]
  },
  {
   "cell_type": "code",
   "execution_count": null,
   "id": "7979d3e1-fd5c-41a4-93af-6402a57ce4a5",
   "metadata": {},
   "outputs": [],
   "source": [
    "napis[ 5:] "
   ]
  },
  {
   "cell_type": "code",
   "execution_count": null,
   "id": "70e8dc3f-af43-4091-9259-feb28a0cf0d2",
   "metadata": {},
   "outputs": [],
   "source": [
    "napis[::-1]"
   ]
  },
  {
   "cell_type": "code",
   "execution_count": null,
   "id": "3dccf03c-c83e-4895-89e1-f746c988a919",
   "metadata": {},
   "outputs": [],
   "source": [
    "# połączenie dwóch list\n",
    "lista_1 = [1, 2, 3]\n",
    "lista_2 = [10, 20, 30]\n",
    "\n",
    "lista_1 + lista_2"
   ]
  },
  {
   "cell_type": "code",
   "execution_count": null,
   "id": "92017cc2-3632-4c8d-a96a-1fef13d754d0",
   "metadata": {},
   "outputs": [],
   "source": [
    "lista_2 + lista_1"
   ]
  },
  {
   "cell_type": "code",
   "execution_count": null,
   "id": "6bbeb66b-a671-4d39-9bf6-cb452b900bc3",
   "metadata": {},
   "outputs": [],
   "source": [
    "alfabet = 'abcdefghijklmnopqrstuvwxyz'\n",
    "alfabet[:5] + alfabet[10:4:-1]"
   ]
  },
  {
   "cell_type": "code",
   "execution_count": null,
   "id": "2e3b23ac-7a93-45aa-8e09-cade6f6f9b39",
   "metadata": {},
   "outputs": [],
   "source": [
    "krotka"
   ]
  },
  {
   "cell_type": "code",
   "execution_count": null,
   "id": "2c72fa3c-a393-43bb-a63c-14bec5a84369",
   "metadata": {},
   "outputs": [],
   "source": [
    "krotka[3:6]"
   ]
  },
  {
   "cell_type": "code",
   "execution_count": null,
   "id": "f7d78b51-b2f1-4246-8ce4-6c3b68a62cc1",
   "metadata": {},
   "outputs": [],
   "source": [
    "zbior"
   ]
  },
  {
   "cell_type": "code",
   "execution_count": null,
   "id": "ab555f90-3433-4ce7-89a6-51725d667f32",
   "metadata": {},
   "outputs": [],
   "source": [
    "list(zbior)[3]"
   ]
  },
  {
   "cell_type": "markdown",
   "id": "5edfb7ca-1be5-4476-8f8d-3b2ebf11b1c8",
   "metadata": {},
   "source": [
    "## Zadanie\n",
    "\n",
    "Zbuduj listę dni tygodnia. Dodaj (spróbuj przez `.append()`) do niej dotatkowy wtorek i piątek. A następnie stwórz zbiór z unikalnymi dniami tygodnia i go wyświelt."
   ]
  },
  {
   "cell_type": "code",
   "execution_count": null,
   "id": "2d35bdd3-40d9-47df-9e93-8aaf901c3f53",
   "metadata": {},
   "outputs": [],
   "source": [
    "dni_tygodnia = [\"pn\", \"wt\", \"sr\", \"czw\", \"pt\", \"sb\", \"nd\"]\n",
    "dni_tygodnia"
   ]
  },
  {
   "cell_type": "code",
   "execution_count": null,
   "id": "d96cb0d4-0a55-4de2-bbea-0ca952a81249",
   "metadata": {},
   "outputs": [],
   "source": [
    "dni_tygodnia.append(\"pt\")\n",
    "dni_tygodnia.append(\"wt\")\n",
    "dni_tygodnia"
   ]
  },
  {
   "cell_type": "code",
   "execution_count": null,
   "id": "aa07ca25-37b6-4d8b-b3dd-e07b8d86c155",
   "metadata": {},
   "outputs": [],
   "source": [
    "dni_tygodnia = set(dni_tygodnia)"
   ]
  },
  {
   "cell_type": "code",
   "execution_count": null,
   "id": "23b9b223-5ee2-4292-a99e-27cc0ef05a8f",
   "metadata": {},
   "outputs": [],
   "source": [
    "dni_tygodnia"
   ]
  },
  {
   "cell_type": "markdown",
   "id": "23f63406-a558-4842-9b41-2f627a9c42ee",
   "metadata": {},
   "source": [
    "# Sortowanie list itp"
   ]
  },
  {
   "cell_type": "code",
   "execution_count": null,
   "id": "75352f2a-2976-4bf3-826f-e1518c788c8e",
   "metadata": {},
   "outputs": [],
   "source": [
    "lista = [123, 7536,1, 15, 726, 124, 167,835,157]\n",
    "lista"
   ]
  },
  {
   "cell_type": "code",
   "execution_count": null,
   "id": "49d74bc9-2519-41bf-b25d-cb98e1f2896e",
   "metadata": {},
   "outputs": [],
   "source": [
    "set(lista)"
   ]
  },
  {
   "cell_type": "code",
   "execution_count": null,
   "id": "a7f60e07-ae38-4b04-8529-199c89db2d6b",
   "metadata": {},
   "outputs": [],
   "source": [
    "## sortowanie \"w miejscu\"\n",
    "lista.sort()"
   ]
  },
  {
   "cell_type": "code",
   "execution_count": null,
   "id": "c843eac6-89ab-4d05-a7b4-0230b7bcc7fe",
   "metadata": {},
   "outputs": [],
   "source": [
    "lista"
   ]
  },
  {
   "cell_type": "code",
   "execution_count": null,
   "id": "f795c779-3757-4c3c-a948-8eeb64105572",
   "metadata": {},
   "outputs": [],
   "source": [
    "## sortowanie bez zmiany samej listy"
   ]
  },
  {
   "cell_type": "code",
   "execution_count": null,
   "id": "2bc0b604-bd42-4313-835e-c162fd12e498",
   "metadata": {},
   "outputs": [],
   "source": [
    "lista = [123, 7536,1, 15, 726, 124, 167,835,157]\n",
    "lista"
   ]
  },
  {
   "cell_type": "code",
   "execution_count": null,
   "id": "64eda604-ca34-4017-bdee-80b01ba1b481",
   "metadata": {},
   "outputs": [],
   "source": [
    "lista_posortowana = sorted(lista)"
   ]
  },
  {
   "cell_type": "code",
   "execution_count": null,
   "id": "9b8328d0-677c-4ff9-829c-e1480e80af87",
   "metadata": {},
   "outputs": [],
   "source": [
    "lista_posortowana"
   ]
  },
  {
   "cell_type": "code",
   "execution_count": null,
   "id": "fdbefbcd-0a13-45c4-91a0-395ed7899525",
   "metadata": {},
   "outputs": [],
   "source": [
    "lista"
   ]
  },
  {
   "cell_type": "code",
   "execution_count": null,
   "id": "a36be2ef-9a5d-41b7-b0f3-cac1c9949e37",
   "metadata": {},
   "outputs": [],
   "source": [
    "dni_tygodnia = [\"pn\", \"wt\", \"sr\", \"czw\", \"pt\", \"sb\", \"nd\"]\n",
    "sorted(dni_tygodnia)"
   ]
  },
  {
   "cell_type": "code",
   "execution_count": null,
   "id": "fc57b8f0-e313-4cf5-a695-56b6fd3ca5b2",
   "metadata": {},
   "outputs": [],
   "source": [
    "dni_tygodnia_krotki = [\n",
    "    (1, \"pn\"),\n",
    "    (2, \"wt\"),\n",
    "    (3, \"sr\"),\n",
    "    (4, \"czw\"),\n",
    "    (5, \"pt\"),\n",
    "    (6, \"sb\"),\n",
    "    (7, \"nd\")\n",
    "]\n",
    "\n",
    "dni_tygodnia_krotki"
   ]
  },
  {
   "cell_type": "code",
   "execution_count": null,
   "id": "41a47dd4-be41-4c9d-acb3-950989d3f159",
   "metadata": {},
   "outputs": [],
   "source": [
    "dni_tygodnia_krotki[3]"
   ]
  },
  {
   "cell_type": "code",
   "execution_count": null,
   "id": "ad94915c-7edc-49bb-b83b-1951a6d036cd",
   "metadata": {
    "scrolled": true
   },
   "outputs": [],
   "source": [
    "dni_tygodnia_krotki[3][1]"
   ]
  },
  {
   "cell_type": "code",
   "execution_count": null,
   "id": "3a45a899-5fa0-4770-8dad-76cd13d7df0e",
   "metadata": {},
   "outputs": [],
   "source": [
    "dni_tygodnia_krotki[3][1][1]"
   ]
  },
  {
   "cell_type": "code",
   "execution_count": null,
   "id": "2d0ab23e-4ac8-4e74-ac92-78cea55cd571",
   "metadata": {},
   "outputs": [],
   "source": [
    "set(dni_tygodnia_krotki)"
   ]
  },
  {
   "cell_type": "code",
   "execution_count": null,
   "id": "efd546c6-2ed0-40a6-ba82-8cec41a5763a",
   "metadata": {},
   "outputs": [],
   "source": [
    "dni_tygodnia_krotki = [\n",
    "    (1, \"pn\"),\n",
    "    (5, \"pt\"),\n",
    "    (2, \"wt\"),\n",
    "    (6, \"sb\"),\n",
    "    (3, \"sr\"),\n",
    "    (7, \"nd\"),\n",
    "    (4, \"czw\"),\n",
    "]\n",
    "dni_tygodnia_krotki"
   ]
  },
  {
   "cell_type": "code",
   "execution_count": null,
   "id": "205a65b4-c59c-443a-8291-de4fd45c647c",
   "metadata": {},
   "outputs": [],
   "source": [
    "sorted(dni_tygodnia_krotki)"
   ]
  },
  {
   "cell_type": "code",
   "execution_count": null,
   "id": "1e5cefee-eeb5-494b-b626-5f2b98c5e629",
   "metadata": {},
   "outputs": [],
   "source": [
    "dni_tygodnia_krotki_2 = [\n",
    "    (\"pn\", 1),\n",
    "    (\"pt\", 5),\n",
    "    (\"wt\", 2),\n",
    "    (\"sb\", 6),\n",
    "    (\"sr\", 3),\n",
    "    (\"nd\", 7),\n",
    "    (\"czw\", 4),\n",
    "]\n",
    "dni_tygodnia_krotki_2"
   ]
  },
  {
   "cell_type": "code",
   "execution_count": null,
   "id": "a666b256-1721-452d-9c53-e4a6b8edb5ae",
   "metadata": {},
   "outputs": [],
   "source": [
    "sorted(dni_tygodnia_krotki_2)"
   ]
  },
  {
   "cell_type": "code",
   "execution_count": null,
   "id": "85ad41b1-6064-4855-a442-bf9d2fd2f96c",
   "metadata": {},
   "outputs": [],
   "source": [
    "sorted(dni_tygodnia_krotki_2, key=lambda x: x[1])"
   ]
  },
  {
   "cell_type": "code",
   "execution_count": null,
   "id": "a0b0f225-cfc7-4693-8495-0220a8b88fc3",
   "metadata": {},
   "outputs": [],
   "source": [
    "# uwaga na porównywanie!\n",
    "dni_tygodnia_krotki_3 = [\n",
    "    (\"pn\", 1),\n",
    "    (\"pt\", 5),\n",
    "    (\"wt\", 2),\n",
    "    (\"sb\", 6),\n",
    "    (\"sr\", 3),\n",
    "    (\"nd\", 7),\n",
    "    (\"czw\", \"07\"),\n",
    "]\n",
    "\n",
    "sorted(dni_tygodnia_krotki_3, key=lambda x: str(x[1]))"
   ]
  },
  {
   "cell_type": "markdown",
   "id": "78a87a2c-7d41-4a05-b100-915b02ce677e",
   "metadata": {},
   "source": [
    "# Słowniki = dict"
   ]
  },
  {
   "cell_type": "code",
   "execution_count": null,
   "id": "cd2bb3d7-fa74-4c74-88d8-91e112f198ee",
   "metadata": {},
   "outputs": [],
   "source": [
    "zbior = {1,2,34,5,5,5}\n",
    "zbior"
   ]
  },
  {
   "cell_type": "code",
   "execution_count": null,
   "id": "bd1aff17-1a52-448d-8c47-46da6442e475",
   "metadata": {},
   "outputs": [],
   "source": [
    "slownik = {\n",
    "    \"klucz\": \"wartosc\",\n",
    "    \"klucz_a\": 1,\n",
    "    \"klucz_b\": [1,2,3],\n",
    "    (\"pn\", 1): {\"temp\": 10, \"cisnienie\": 1024}\n",
    "}\n",
    "\n",
    "slownik"
   ]
  },
  {
   "cell_type": "code",
   "execution_count": null,
   "id": "ac312da1-5c03-472d-9c56-98ccf4e7aaae",
   "metadata": {},
   "outputs": [],
   "source": [
    "lista_slownikow = [slownik, {\n",
    "    \"klucz_a\": 10,\n",
    "    \"klucz_b\": ['a','b','c'],\n",
    "    (\"pn\", 1): {\"temp\": 10, \"cisnienie\": 1024}\n",
    "}]"
   ]
  },
  {
   "cell_type": "code",
   "execution_count": null,
   "id": "e7a8d740-69c3-465a-ab75-0a94209e39cb",
   "metadata": {},
   "outputs": [],
   "source": [
    "lista_slownikow"
   ]
  },
  {
   "cell_type": "code",
   "execution_count": null,
   "id": "5c2ebe95-97ba-467b-b013-ad57cadeff45",
   "metadata": {},
   "outputs": [],
   "source": [
    "slownik['klucz_b']"
   ]
  },
  {
   "cell_type": "code",
   "execution_count": null,
   "id": "244ee09a-f0f3-414e-a7b9-eb3b7e5a0437",
   "metadata": {},
   "outputs": [],
   "source": [
    "slownik[0]"
   ]
  },
  {
   "cell_type": "code",
   "execution_count": null,
   "id": "94888f8e-508a-4d29-8a0d-a3d56fe332b9",
   "metadata": {},
   "outputs": [],
   "source": [
    "slownik[0] = 'wartosc dla klucza zero'"
   ]
  },
  {
   "cell_type": "code",
   "execution_count": null,
   "id": "52871fe0-bc43-452d-9343-88c316a0e29f",
   "metadata": {},
   "outputs": [],
   "source": [
    "slownik\n"
   ]
  },
  {
   "cell_type": "code",
   "execution_count": null,
   "id": "e478dd6d-311e-4201-b408-71d078937a70",
   "metadata": {},
   "outputs": [],
   "source": [
    "slownik['klucz_a'] = 'druga wartość dla klucz_a'"
   ]
  },
  {
   "cell_type": "code",
   "execution_count": null,
   "id": "b6cc0092-6940-4b6c-84d8-0f4b119d5ec4",
   "metadata": {},
   "outputs": [],
   "source": [
    "slownik"
   ]
  },
  {
   "cell_type": "code",
   "execution_count": null,
   "id": "3752a959-b7f7-4121-89f0-d8b648022bc6",
   "metadata": {},
   "outputs": [],
   "source": [
    "slownik_temperatury = {\n",
    "    (2025,10,10): 23,\n",
    "    (2025,10,11): 22,\n",
    "    (2025,10,12): 26,\n",
    "}"
   ]
  },
  {
   "cell_type": "code",
   "execution_count": null,
   "id": "fbdee888-ded3-4369-9fa3-6e3e65550f2b",
   "metadata": {},
   "outputs": [],
   "source": [
    "rok = 2025\n",
    "miesiac = 10\n",
    "dzien = 13\n",
    "\n",
    "slownik_temperatury[ (rok, miesiac, dzien) ]"
   ]
  },
  {
   "cell_type": "code",
   "execution_count": null,
   "id": "22f2c5e9-4098-4f8b-8011-e957e100caeb",
   "metadata": {},
   "outputs": [],
   "source": [
    "slownik"
   ]
  },
  {
   "cell_type": "code",
   "execution_count": null,
   "id": "6cce02a1-9737-4083-ab94-9aceb5336a91",
   "metadata": {},
   "outputs": [],
   "source": [
    "slownik['klucz_nie_istnienjacy']"
   ]
  },
  {
   "cell_type": "code",
   "execution_count": null,
   "id": "9b9de02e-524d-4097-b38e-809d85b0e6d4",
   "metadata": {},
   "outputs": [],
   "source": [
    "print(slownik.get('klucz_nie_istnienjacy'))"
   ]
  },
  {
   "cell_type": "code",
   "execution_count": null,
   "id": "83b9dab8-5f2c-41e3-a1d0-4228d079e62e",
   "metadata": {},
   "outputs": [],
   "source": [
    "print(slownik.get('klucz_nie_istnienjacy', \"brak wartości\"))"
   ]
  },
  {
   "cell_type": "code",
   "execution_count": null,
   "id": "911d3fd1-7384-4959-ae0e-a3a592a6af54",
   "metadata": {},
   "outputs": [],
   "source": [
    "slownik_temperatury.get( (2024, miesiac, dzien), \"brak pomiaru\" )"
   ]
  },
  {
   "cell_type": "markdown",
   "id": "1717b9ed-a12c-4111-82a4-32b57f684c50",
   "metadata": {},
   "source": [
    "## Zadanie\n",
    "\n",
    "Zbuduj słownik zawierający imię i nazwisko.\n",
    "Dodaj do niego klucz z wiekiem.\n",
    "\n",
    "A potem zbuduj słownik dla kolejnej osoby - od razu z imieniem, nazwiskiem i wiekiem.\n",
    "Z obu słowników zbuduj listę.\n"
   ]
  },
  {
   "cell_type": "code",
   "execution_count": null,
   "id": "4554da34-871a-43b5-a020-b8e11f4dad6b",
   "metadata": {},
   "outputs": [],
   "source": [
    "osoba_1 = {\n",
    "    \"imie\": \"Jan\",\n",
    "    \"nazwisko\": \"Nowak\",\n",
    "}\n",
    "osoba_1['wiek'] = 50\n",
    "\n",
    "osoba_2 = {\n",
    "    \"imie\": \"Anna\",\n",
    "    \"nazwisko\": \"Kowalska\",\n",
    "    \"wiek\": 30\n",
    "}\n",
    "\n",
    "ludzie = [osoba_1, osoba_2]\n",
    "ludzie"
   ]
  },
  {
   "cell_type": "code",
   "execution_count": null,
   "id": "b0b530d5-8246-49ed-8d1c-4cb8cd8453be",
   "metadata": {},
   "outputs": [],
   "source": [
    "# a posortować po wieku? malejąco?\n",
    "\n",
    "sorted(ludzie, key=lambda o: o.get('wiek', 0), reverse=True)"
   ]
  },
  {
   "cell_type": "code",
   "execution_count": null,
   "id": "543e74fa-aa8c-4ee6-91cf-3728471f82a1",
   "metadata": {},
   "outputs": [],
   "source": [
    "sorted(ludzie, key=lambda o: o.get('nazwisko', 0), reverse=True)"
   ]
  },
  {
   "cell_type": "markdown",
   "id": "e485247c-12c6-44b3-9531-829b19d56520",
   "metadata": {},
   "source": [
    "# if..elif..else"
   ]
  },
  {
   "cell_type": "code",
   "execution_count": null,
   "id": "20ef0fc4-369d-49a4-8e00-194a8c8a132c",
   "metadata": {},
   "outputs": [],
   "source": [
    "11 // 3 # część całkowita z dzielenia\n",
    "11 % 3 # reszta z dzielenia"
   ]
  },
  {
   "cell_type": "code",
   "execution_count": null,
   "id": "6f9d81cc-31fb-416d-827c-84374942d12a",
   "metadata": {},
   "outputs": [],
   "source": [
    "liczba = 10\n",
    "\n",
    "# czy parzysta?\n",
    "if liczba % 2:\n",
    "    print(f\"Liczba {liczba} jest parzysta\") # f-string\n",
    "else:\n",
    "    print(f\"Liczba {liczba} jest nieparzysta\")\n"
   ]
  },
  {
   "cell_type": "code",
   "execution_count": null,
   "id": "43b8961f-6258-40bb-82ab-fbba3cb2bb1c",
   "metadata": {},
   "outputs": [],
   "source": [
    "imie = 'Jan' # 'Kuba', 'Barnaba', 'Zofia'\n",
    "\n",
    "if imie.lower() == 'kuba':\n",
    "    print(f\"{imie} to imie męskie\")\n",
    "elif imie.lower() == 'barnaba':\n",
    "    print(f\"{imie} to imie męskie\")\n",
    "elif imie[-1] == 'a':\n",
    "    print(f\"Imię {imie} jest żeńskie\")\n",
    "else:\n",
    "    print(f\"{imie} to imie męskie\")\n"
   ]
  },
  {
   "cell_type": "code",
   "execution_count": null,
   "id": "f57ed825-bae3-4e63-baf1-5098adb9e56c",
   "metadata": {},
   "outputs": [],
   "source": [
    "imie = 'Barnaba'\n",
    "\n",
    "# zwróć uwagę na kolejność ifów!\n",
    "if imie[-1] == 'a':\n",
    "    print(f\"Imię {imie} jest żeńskie\")\n",
    "elif imie.lower() == 'kuba':\n",
    "    print(f\"{imie} to imie męskie\")\n",
    "elif imie.lower() == 'barnaba':\n",
    "    print(f\"{imie} to imie męskie\")\n",
    "else:\n",
    "    print(f\"{imie} to imie męskie\")\n"
   ]
  },
  {
   "cell_type": "markdown",
   "id": "1cd0fc5c-7faa-4a34-be00-ce7cdf0ab44a",
   "metadata": {},
   "source": [
    "# pętle"
   ]
  },
  {
   "cell_type": "markdown",
   "id": "c5fb1efc-808a-477d-9858-715b5d6ec5dd",
   "metadata": {},
   "source": [
    "## pętla for"
   ]
  },
  {
   "cell_type": "code",
   "execution_count": null,
   "id": "c8c15438-66d3-4e5c-a0b8-cd9c941724aa",
   "metadata": {},
   "outputs": [],
   "source": [
    "iterable = [ 1,'abc', 2,3, 'ala ma kota', 4,5 ]\n",
    "\n",
    "# pythonic-style\n",
    "for element in iterable:\n",
    "    print(element)"
   ]
  },
  {
   "cell_type": "code",
   "execution_count": null,
   "id": "4444e7bf-c897-470b-aaff-4362ed77a9db",
   "metadata": {},
   "outputs": [],
   "source": [
    "# tak nie robimy!\n",
    "for i in range(len(iterable)): # range(7)\n",
    "    print(i, iterable[i])\n"
   ]
  },
  {
   "cell_type": "code",
   "execution_count": null,
   "id": "7a6749d0-c1f3-44c6-9767-31135bfb11f1",
   "metadata": {},
   "outputs": [],
   "source": [
    "for i in range(10_000_000_000): # 123_12.21341\n",
    "    print(i)"
   ]
  },
  {
   "cell_type": "code",
   "execution_count": null,
   "id": "d739b952-9f10-49fe-9ee3-3b5910fada4a",
   "metadata": {},
   "outputs": [],
   "source": [
    "list(range(20))"
   ]
  },
  {
   "cell_type": "code",
   "execution_count": null,
   "id": "9e19e67f-13ff-44e3-b43e-6c9fa0bb96ed",
   "metadata": {},
   "outputs": [],
   "source": [
    "tuple(range(20))"
   ]
  },
  {
   "cell_type": "code",
   "execution_count": null,
   "id": "5ef29420-db53-4e2e-851d-0e7c4a0d7710",
   "metadata": {},
   "outputs": [],
   "source": [
    "zbior = { 1, 2, 3, 4, 5 }\n",
    "\n",
    "for el in zbior:\n",
    "    print(el)"
   ]
  },
  {
   "cell_type": "code",
   "execution_count": null,
   "id": "9ad0de48-abbd-4f28-8213-7f670fff6b1f",
   "metadata": {},
   "outputs": [],
   "source": [
    "for i in range(len(zbior)):\n",
    "    print(i, zbior[i])\n"
   ]
  },
  {
   "cell_type": "markdown",
   "id": "8cfb6bad-d30b-464b-8230-1084a54252c9",
   "metadata": {},
   "source": [
    "## Zadanie\n",
    "\n",
    "Wygeneruj listę 100 kolejnych liczby od 1 do 100 (hint: range(1, 100+1). A potem w pętli wypisz tylko te, które są podzielne przez 3."
   ]
  },
  {
   "cell_type": "code",
   "execution_count": null,
   "id": "a7e7983f-99cb-48a1-b7f6-9aa883449983",
   "metadata": {},
   "outputs": [],
   "source": [
    "lista = list(range(1, 100+1))\n",
    "\n",
    "for l in lista:\n",
    "    if not l % 3:\n",
    "        print(f\"{l} jest podzielna przez trzy\")\n",
    "    else:\n",
    "        print(\"nie jest podzielne przez trzy\")"
   ]
  },
  {
   "cell_type": "code",
   "execution_count": null,
   "id": "bf8b6866-8637-4d37-a997-adfcea3b5803",
   "metadata": {},
   "outputs": [],
   "source": [
    "## continue\n",
    "\n",
    "# for element in iterable:\n",
    "#     if element nie spełnia warunków:\n",
    "#         nic z nim nie rób\n",
    "#     else:\n",
    "#         czynności z elementem, złożone obliczeniowo\n",
    "\n",
    "# można zapisać z continue:\n",
    "\n",
    "# for element in iterable:\n",
    "#     if element nie spełnia warunków:\n",
    "#         continue # == przejdź do kolejnej iteracji\n",
    "#     czynności z elementem, złożone obliczeniowo\n",
    "\n"
   ]
  },
  {
   "cell_type": "markdown",
   "id": "622eae95-9854-4e96-acdc-24d0a4227f39",
   "metadata": {},
   "source": [
    "## pętla while"
   ]
  },
  {
   "cell_type": "code",
   "execution_count": null,
   "id": "2211c272-4d5c-4481-bcf6-7e44d45d5b57",
   "metadata": {},
   "outputs": [],
   "source": [
    "i = 0\n",
    "while i < 10:\n",
    "    print(i)\n",
    "    i = i + 1 \n"
   ]
  },
  {
   "cell_type": "code",
   "execution_count": null,
   "id": "cc03eee4-9906-44af-a77c-5831b008a5b6",
   "metadata": {},
   "outputs": [],
   "source": [
    "for i in range(20):\n",
    "    print(i)\n",
    "    if i == 10:\n",
    "        break"
   ]
  },
  {
   "cell_type": "markdown",
   "id": "13fac59f-1856-46bf-b565-5dc179d67c56",
   "metadata": {},
   "source": [
    "## Zadanie\n",
    "\n",
    "Wypisz kolejne liczby i ich kwadraty (podniesione do potęgi 2 -> x**2). Rób tak, dopóki liczba do kwadratu jest mniejsza niż 1000."
   ]
  },
  {
   "cell_type": "code",
   "execution_count": null,
   "id": "3423498d-648b-4844-9c40-db0cde892cc9",
   "metadata": {
    "scrolled": true
   },
   "outputs": [],
   "source": [
    "for i in range(100):\n",
    "    if i**2 > 10_000:\n",
    "        break\n",
    "\n",
    "    print(i, i**2)"
   ]
  },
  {
   "cell_type": "markdown",
   "id": "5e5cce0b-d203-4a3f-b799-1245fff8bf69",
   "metadata": {
    "collapsed": true,
    "jupyter": {
     "outputs_hidden": true
    }
   },
   "source": [
    "i = 1\n",
    "\n",
    "while i**2 < 10_000:\n",
    "    print(i, i**2)\n",
    "    i=i+1"
   ]
  },
  {
   "cell_type": "code",
   "execution_count": null,
   "id": "92133101-351f-4e75-bee4-adcc6990b992",
   "metadata": {},
   "outputs": [],
   "source": [
    "## Zadanie\n",
    "\n",
    "Ile czasu muszę czekać, aż z kwoty X zrobi się kwota Y na lokacie o oprocentowaniu P% w skali roku z kapitalizacją miesięczną?"
   ]
  },
  {
   "cell_type": "markdown",
   "id": "68f88fd5-ad9f-4321-bdd6-1389864c19bb",
   "metadata": {},
   "source": [
    "# enumerate, zip"
   ]
  },
  {
   "cell_type": "code",
   "execution_count": null,
   "id": "c123a053-a26b-4bfe-957b-809a6e575540",
   "metadata": {},
   "outputs": [],
   "source": [
    "## enumerate\n",
    "\n",
    "zbior = { 1, 2, 3, 4, 5 }\n",
    "i = 1\n",
    "for el in zbior:\n",
    "    print(f\"iteracja numer {i}\")\n",
    "    i = i + 1\n",
    "    print(el)\n"
   ]
  },
  {
   "cell_type": "code",
   "execution_count": null,
   "id": "0cd7fc33-f371-4c5d-897e-e7bf3724a7bc",
   "metadata": {},
   "outputs": [],
   "source": [
    "zbior = { 1, 2, 3, 4, 5 }\n",
    "\n",
    "for i, el in enumerate(zbior, start=1):\n",
    "    print(f\"iteracja numer {i}\")\n",
    "    print(el)\n"
   ]
  },
  {
   "cell_type": "code",
   "execution_count": null,
   "id": "cfea24a6-5384-4f30-8cd9-e2a16b91f411",
   "metadata": {},
   "outputs": [],
   "source": [
    "lista1 = [1, 2, 3, 4, 5]\n",
    "lista2 = ['a', 'b', 'c']\n",
    "\n",
    "for i in range(len(lista1)):\n",
    "    print(f\"lista1: {lista1[i]}, lista2: {lista2[i]}\")"
   ]
  },
  {
   "cell_type": "code",
   "execution_count": null,
   "id": "d0bb2f03-6b8c-4285-b5fc-54f7e0750796",
   "metadata": {},
   "outputs": [],
   "source": [
    "lista1 = [1, 2, 3, 4, 5]\n",
    "lista2 = ['a', 'b', 'c']\n",
    "\n",
    "for i in range(len(lista2)):\n",
    "    print(f\"lista1: {lista1[i]}, lista2: {lista2[i]}\")"
   ]
  },
  {
   "cell_type": "code",
   "execution_count": null,
   "id": "cbc1c66a-18a5-49e7-9e76-8492616158fc",
   "metadata": {},
   "outputs": [],
   "source": [
    "lista1 = [1, 2, 3, 4, 5]\n",
    "lista2 = ['a', 'b', 'c']\n",
    "\n",
    "for el1, el2 in zip(lista1, lista2) :\n",
    "    print(f\"lista1: {el1}, lista2: {el2}\")"
   ]
  },
  {
   "cell_type": "code",
   "execution_count": null,
   "id": "555fb469-dfb1-448c-8e13-b460c2c5ba42",
   "metadata": {},
   "outputs": [],
   "source": [
    "# zip na dłuższej liście?\n",
    "\n",
    "from itertools import zip_longest\n",
    "\n",
    "lista1 = [1, 2, 3, 4, 5]\n",
    "lista2 = ['a', 'b', 'c']\n",
    "\n",
    "for el1, el2 in zip_longest(lista1, lista2) :\n",
    "    print(f\"lista1: {el1}, lista2: {el2}\")"
   ]
  },
  {
   "cell_type": "markdown",
   "id": "c5af9523-7be8-482b-a415-eaf9c82da042",
   "metadata": {},
   "source": [
    "# pliki"
   ]
  },
  {
   "cell_type": "code",
   "execution_count": null,
   "id": "64680e39-d4ef-45dc-8d4e-e38f95080774",
   "metadata": {},
   "outputs": [],
   "source": [
    "fh = open(\"plik_test.txt\", 'r', encoding='utf-8')\n",
    "zawartosc = fh.read()\n",
    "fh.close()\n",
    "\n",
    "print(zawartosc)"
   ]
  },
  {
   "cell_type": "code",
   "execution_count": null,
   "id": "4eea482a-aa1f-4168-aa29-2537c1ad059e",
   "metadata": {},
   "outputs": [],
   "source": [
    "len(zawartosc)"
   ]
  },
  {
   "cell_type": "code",
   "execution_count": null,
   "id": "281259f8-e8d1-4c28-9b83-8362f92dbc19",
   "metadata": {},
   "outputs": [],
   "source": [
    "type(zawartosc)"
   ]
  },
  {
   "cell_type": "code",
   "execution_count": null,
   "id": "f81a98df-9644-4ddd-a3a5-cf20dd2ece89",
   "metadata": {},
   "outputs": [],
   "source": [
    "type(lista)"
   ]
  },
  {
   "cell_type": "code",
   "execution_count": null,
   "id": "ada8b24a-ac52-4fd4-8721-d8c8387b618a",
   "metadata": {},
   "outputs": [],
   "source": [
    "type(i)"
   ]
  },
  {
   "cell_type": "code",
   "execution_count": null,
   "id": "aeb6449c-a893-4b02-9a13-fdf53747436c",
   "metadata": {},
   "outputs": [],
   "source": [
    "isinstance(zawartosc, str)"
   ]
  },
  {
   "cell_type": "code",
   "execution_count": null,
   "id": "09ebd8e9-4256-42de-8a9b-2ce3beb500a0",
   "metadata": {},
   "outputs": [],
   "source": [
    "with open(\"plik_test.txt\", 'r', encoding='utf-8') as f:\n",
    "    zawartosc_pliku = f.read()\n",
    "\n",
    "print(zawartosc_pliku)"
   ]
  },
  {
   "cell_type": "code",
   "execution_count": null,
   "id": "d84b3697-5f2f-4660-a72a-d1127baaf847",
   "metadata": {},
   "outputs": [],
   "source": [
    "zawartosc_pliku.split()"
   ]
  },
  {
   "cell_type": "code",
   "execution_count": null,
   "id": "68c57b2d-14f3-4c34-962b-065533369525",
   "metadata": {},
   "outputs": [],
   "source": [
    "zawartosc_pliku.split(\"\\n\")"
   ]
  },
  {
   "cell_type": "code",
   "execution_count": null,
   "id": "ec706d5e-a4c4-477d-b3f8-421fefe98e29",
   "metadata": {},
   "outputs": [],
   "source": [
    "# wczytanie linia po linii\n",
    "with open(\"plik_test.txt\", 'r', encoding='utf-8') as f:\n",
    "    zawartosc_pliku_linie = f.readlines()\n",
    "\n",
    "zawartosc_pliku_linie"
   ]
  },
  {
   "cell_type": "code",
   "execution_count": null,
   "id": "0f051ae6-db06-46f2-a88e-02ec04addd5a",
   "metadata": {},
   "outputs": [],
   "source": [
    "for nr_linii, linia in enumerate(zawartosc_pliku_linie, start=1):\n",
    "    print(nr_linii, linia.rstrip())"
   ]
  },
  {
   "cell_type": "markdown",
   "id": "43b9d76e-b3cb-484f-bf44-5a4007704fad",
   "metadata": {},
   "source": [
    "## Zadanie\n",
    "\n",
    "Przygotuj plik tekstowy w stylu CSV - linie z wartościami w \"kolumnach\" rozdzielonych np. średnikiem.\n",
    "Wypisz w postaci krotek kolejne linie - każda kolumna to inny element w krotce.\n",
    "\n",
    "\n"
   ]
  },
  {
   "cell_type": "code",
   "execution_count": null,
   "id": "41ee88a5-38ce-4b41-a863-680376121851",
   "metadata": {},
   "outputs": [],
   "source": [
    "# otworzyć i wczytać linia po linii plik\n",
    "# w pętli rozdzielić linie - ze względu na ;\n",
    "# może coś usunąć?\n",
    "# wyświetlić na ekranie"
   ]
  },
  {
   "cell_type": "code",
   "execution_count": null,
   "id": "67b86dd3-e8bf-4a3e-ac00-0d952b55b351",
   "metadata": {},
   "outputs": [],
   "source": [
    "with open(\"ludzie.csv\", \"r\", encoding=\"utf-8\") as p:\n",
    "    for linia in p:\n",
    "        linia_czysta = linia.rstrip()\n",
    "        linia_czysta = linia_czysta.split(\";\")\n",
    "        linia_czysta[-1] = int(linia_czysta[-1])\n",
    "        linia_czysta = tuple(linia_czysta)\n",
    "        print(linia_czysta)"
   ]
  },
  {
   "cell_type": "code",
   "execution_count": null,
   "id": "4e8827c9-7838-4116-a16c-1f4fcd50142e",
   "metadata": {},
   "outputs": [],
   "source": [
    "# wczytanie pliku do dedykowanej struktury danych\n",
    "\n",
    "dane = [] # definiuje pustą listę\n",
    "with open(\"ludzie.csv\", \"r\", encoding=\"utf-8\") as p:\n",
    "    for linia in p:\n",
    "        linia_czysta = linia.rstrip()\n",
    "        linia_czysta = linia_czysta.split(\";\")\n",
    "        linia_czysta[-1] = int(linia_czysta[-1])\n",
    "        rekord = {\n",
    "            \"imie\": linia_czysta[0],\n",
    "            \"nazwisko\": linia_czysta[1],\n",
    "            \"wiek\": linia_czysta[2],\n",
    "        }\n",
    "        dane.append(rekord)\n",
    "\n",
    "# po forze\n",
    "dane"
   ]
  },
  {
   "cell_type": "markdown",
   "id": "2a34b5ce-15c7-4346-89c2-cccef8c3cd6a",
   "metadata": {},
   "source": [
    "## zapis do pliku"
   ]
  },
  {
   "cell_type": "code",
   "execution_count": null,
   "id": "966d44ea-4bfa-4f7c-9a43-6aa3cc652755",
   "metadata": {},
   "outputs": [],
   "source": [
    "lista_str = [ 'abc', 'ala', 'ma', 'kota' ] \n",
    "lista_str"
   ]
  },
  {
   "cell_type": "code",
   "execution_count": null,
   "id": "fd81c4cc-50c8-4c43-88ff-9f8479952b9a",
   "metadata": {},
   "outputs": [],
   "source": [
    "# łączenie listy stringów w jeden string\n",
    "\";\".join(lista_str)"
   ]
  },
  {
   "cell_type": "code",
   "execution_count": null,
   "id": "a9bff047-3dba-4b34-9d83-b6174a031c20",
   "metadata": {},
   "outputs": [],
   "source": [
    "osoby = [\n",
    "    (\"Jan\", \"Kowalski\", 50),\n",
    "    (\"Anna\", \"Nowak\", 30),\n",
    "    (\"Maria\", \"Iksińska\", 45),\n",
    "    (\"Zofia\", \"Jakaś\", 18),\n",
    "]\n",
    "osoby"
   ]
  },
  {
   "cell_type": "code",
   "execution_count": null,
   "id": "616965e8-689a-472c-af65-373ff69ab088",
   "metadata": {},
   "outputs": [],
   "source": [
    "for osoba in osoby:\n",
    "    linia = \";\".join(osoba)\n",
    "    print(linia)"
   ]
  },
  {
   "cell_type": "code",
   "execution_count": null,
   "id": "61e6bf74-c512-4077-881c-e7881e5e9bd6",
   "metadata": {},
   "outputs": [],
   "source": [
    "# list comprehention = listy składane\n",
    "lista = [ 'abc', 'ala', 'ma', 'kota' ] \n",
    "\n",
    "nowa_lista = []\n",
    "for el in lista:\n",
    "    wynik_el = el.upper() # funkcja coś robi z elementem\n",
    "    nowa_lista.append(wynik_el)\n",
    "\n",
    "nowa_lista"
   ]
  },
  {
   "cell_type": "code",
   "execution_count": null,
   "id": "76cc0754-9953-4e4d-be60-0c04a2bcfd6b",
   "metadata": {},
   "outputs": [],
   "source": [
    "nowa_lista = [  el.upper()    for el in lista  ]\n",
    "nowa_lista"
   ]
  },
  {
   "cell_type": "code",
   "execution_count": null,
   "id": "60354d5b-7ac9-4ad7-9135-3c83ddd0c617",
   "metadata": {},
   "outputs": [],
   "source": [
    "kwadraty_licz_parzystych = [ i**2  for i in range(100) if not i % 2]\n",
    "kwadraty_licz_parzystych"
   ]
  },
  {
   "cell_type": "code",
   "execution_count": null,
   "id": "f0fe527b-f390-4e63-a663-17ac61ffac78",
   "metadata": {},
   "outputs": [],
   "source": [
    "osoby = [\n",
    "    (\"Jan\", \"Kowalski\", 50),\n",
    "    (\"Anna\", \"Nowak\", 30),\n",
    "    (\"Maria\", \"Iksińska\", 45),\n",
    "    (\"Zofia\", \"Jakaś\", 18),\n",
    "]\n",
    "\n",
    "\n",
    "with open(\"nowi_ludzie.csv\", \"w\", encoding=\"utf-8\") as plik:\n",
    "    for osoba in osoby:\n",
    "        osoba_poprawiona = [ str(element) for element in osoba ] \n",
    "        linia = \";\".join(osoba_poprawiona)\n",
    "        print(linia)\n",
    "        plik.write(linia+\"\\n\")\n"
   ]
  },
  {
   "cell_type": "code",
   "execution_count": null,
   "id": "5b0529ea-8023-4c96-9111-99bf7fcf23ad",
   "metadata": {},
   "outputs": [],
   "source": [
    "# czy jeden ciąg znaków jest w innym ciągu?\n",
    "\n",
    "tekst_pelny = \"ala ma kota a kot ma ale\"\n",
    "tekst_szukany = \"KOT\"\n",
    "\n",
    "if tekst_szukany.lower() in tekst_pelny.lower():\n",
    "    print(\"tak, tekst szukany jest w pełnym tekście\")\n",
    "else:\n",
    "    print(\"nie ma\")"
   ]
  },
  {
   "cell_type": "code",
   "execution_count": null,
   "id": "be0d59a4-8242-4c44-9df5-18646d1b4317",
   "metadata": {},
   "outputs": [],
   "source": [
    "pelny_zakres = [ 1, 2, 3, 4, 5, 6, 7, 8, 9, 10] # list(range(1, 11))\n",
    "szukana = 1\n",
    "\n",
    "if szukana in pelny_zakres:\n",
    "    print(\"tak, szukana jest w pełnym zakresie\")\n",
    "else:\n",
    "    print(\"nie ma\")"
   ]
  },
  {
   "cell_type": "code",
   "execution_count": null,
   "id": "951251dd-9a01-4866-8f11-4a902ece0cd8",
   "metadata": {},
   "outputs": [],
   "source": [
    "## drugi sposób na pracę z plikami tekstowymi"
   ]
  },
  {
   "cell_type": "code",
   "execution_count": null,
   "id": "7a61e77e-1996-489a-8612-f4112f055bc3",
   "metadata": {},
   "outputs": [],
   "source": [
    "from pathlib import Path\n",
    "\n",
    "plik = Path(\"nowi_ludzie.csv\")\n",
    "tresc = plik.read_text(encoding='utf-8')\n",
    "tresc"
   ]
  },
  {
   "cell_type": "code",
   "execution_count": null,
   "id": "68fa1671-e0ca-4353-84b8-56425fd070e4",
   "metadata": {},
   "outputs": [],
   "source": [
    "nowy_plik = Path(\"jeszcze_bardziej_nowi_ludzie.csv\")\n",
    "nowy_plik.write_text(tresc, encoding=\"utf-8\")"
   ]
  },
  {
   "cell_type": "markdown",
   "id": "1caaffe7-7cd2-4f4f-ae7a-3ce763248171",
   "metadata": {},
   "source": [
    "# JSON"
   ]
  },
  {
   "cell_type": "code",
   "execution_count": null,
   "id": "6917d243-0d59-45f3-8834-6b01b5151107",
   "metadata": {},
   "outputs": [],
   "source": [
    "dane"
   ]
  },
  {
   "cell_type": "code",
   "execution_count": null,
   "id": "95fc30fa-e053-43ea-845c-6e4f41e28ab8",
   "metadata": {},
   "outputs": [],
   "source": [
    "import json"
   ]
  },
  {
   "cell_type": "code",
   "execution_count": null,
   "id": "646440d9-501f-4d84-bf85-9d9f623a7728",
   "metadata": {},
   "outputs": [],
   "source": [
    "json.dumps(dane)"
   ]
  },
  {
   "cell_type": "code",
   "execution_count": null,
   "id": "652d4029-03bc-456e-9ea7-8fdab243225e",
   "metadata": {},
   "outputs": [],
   "source": [
    "with open(\"ludki.json\", 'w', encoding='utf-8') as fp:\n",
    "    json.dump(dane, fp)"
   ]
  },
  {
   "cell_type": "code",
   "execution_count": null,
   "id": "78213858-9dd0-4912-897c-59e98dff5ad0",
   "metadata": {},
   "outputs": [],
   "source": [
    "with open(\"ludki.json\", 'r', encoding='utf-8') as fp:\n",
    "    dane = json.load(fp)\n",
    "\n",
    "dane"
   ]
  },
  {
   "cell_type": "code",
   "execution_count": null,
   "id": "026c741c-a967-47ed-8e11-e6421fd8badf",
   "metadata": {},
   "outputs": [],
   "source": [
    "type(dane[0]['wiek'])"
   ]
  },
  {
   "cell_type": "code",
   "execution_count": null,
   "id": "fbb41196-539c-4c35-b926-0da14a88a8a1",
   "metadata": {},
   "outputs": [],
   "source": [
    "json_str = Path(\"ludki.json\").read_text(encoding='utf-8')\n",
    "json.loads(json_str)"
   ]
  },
  {
   "cell_type": "markdown",
   "id": "37f3ebb7-7715-4643-9d5e-8a6045d14283",
   "metadata": {},
   "source": [
    "## Zadanie\n",
    "\n",
    "Dane z pliku ludzie.csv przepisz do pliku json.\n",
    "\n",
    "\n",
    "#### Rozwiązanie / idea rozwiązania\n",
    "\n",
    "1. oworzyć plik i wczytać zawartość -> open() + read() albo Path().read_text()\n",
    "2. podzielić wczytaną zawartość na linie, oczyścić je\n",
    "3. utworzyć listę (1 element = 1 linia z pliku) obiektów (najlepiej dict/słownik) odczytanych z linii -> split()\n",
    "4. zapisać całą listę do jsona -> json.dump()\n"
   ]
  },
  {
   "cell_type": "code",
   "execution_count": null,
   "id": "1c67cc5e-29ee-4a77-80da-7beb719ce154",
   "metadata": {},
   "outputs": [],
   "source": []
  }
 ],
 "metadata": {
  "kernelspec": {
   "display_name": ".venv",
   "language": "python",
   "name": "python3"
  },
  "language_info": {
   "codemirror_mode": {
    "name": "ipython",
    "version": 3
   },
   "file_extension": ".py",
   "mimetype": "text/x-python",
   "name": "python",
   "nbconvert_exporter": "python",
   "pygments_lexer": "ipython3",
   "version": "3.13.9"
  }
 },
 "nbformat": 4,
 "nbformat_minor": 5
}
