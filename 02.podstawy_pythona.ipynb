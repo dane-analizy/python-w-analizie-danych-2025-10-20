{
 "cells": [
  {
   "cell_type": "markdown",
   "id": "83bb46c2-77e4-4825-98ab-86009b951333",
   "metadata": {},
   "source": [
    "# Podstawowe typy i struktury danych  "
   ]
  },
  {
   "cell_type": "markdown",
   "id": "f7c85029-149d-47cc-b31f-a4132c3087c1",
   "metadata": {},
   "source": [
    "## liczby"
   ]
  },
  {
   "cell_type": "code",
   "execution_count": 1,
   "id": "e2b4e5e6-92c1-4d3e-a493-809e9a67cd12",
   "metadata": {},
   "outputs": [],
   "source": [
    "# zmienna liczbowa - int, float\n",
    "a = 1\n",
    "b = 1.23456"
   ]
  },
  {
   "cell_type": "code",
   "execution_count": 2,
   "id": "681b289a-1997-48f1-8a7f-fa0d5ae2896b",
   "metadata": {},
   "outputs": [
    {
     "name": "stdout",
     "output_type": "stream",
     "text": [
      "1\n"
     ]
    }
   ],
   "source": [
    "print(a)"
   ]
  },
  {
   "cell_type": "code",
   "execution_count": 3,
   "id": "18801c97-e7c7-4089-9ca0-4d84f3514ecd",
   "metadata": {},
   "outputs": [
    {
     "name": "stdout",
     "output_type": "stream",
     "text": [
      "1.23456\n"
     ]
    }
   ],
   "source": [
    "print(b)"
   ]
  },
  {
   "cell_type": "code",
   "execution_count": 4,
   "id": "160b5ac6-6463-45a8-95ed-3cf78b5c83dd",
   "metadata": {},
   "outputs": [
    {
     "data": {
      "text/plain": [
       "1"
      ]
     },
     "execution_count": 4,
     "metadata": {},
     "output_type": "execute_result"
    }
   ],
   "source": [
    "a"
   ]
  },
  {
   "cell_type": "code",
   "execution_count": 5,
   "id": "7ec48b51-ae76-4e9a-962e-5d862014a97c",
   "metadata": {},
   "outputs": [
    {
     "data": {
      "text/plain": [
       "1.23456"
      ]
     },
     "execution_count": 5,
     "metadata": {},
     "output_type": "execute_result"
    }
   ],
   "source": [
    "b"
   ]
  },
  {
   "cell_type": "code",
   "execution_count": 6,
   "id": "e5fb53a4-f19e-4c9c-97b0-b7ccd18d595a",
   "metadata": {},
   "outputs": [
    {
     "name": "stdout",
     "output_type": "stream",
     "text": [
      "1\n",
      "2\n",
      "3\n"
     ]
    }
   ],
   "source": [
    "aa = 1\n",
    "bb = 2\n",
    "cc = 3\n",
    "\n",
    "print(aa)\n",
    "print(bb)\n",
    "print(cc)"
   ]
  },
  {
   "cell_type": "code",
   "execution_count": 9,
   "id": "b28df8dd-2337-41c8-ad0f-d7acda4f7d9f",
   "metadata": {},
   "outputs": [
    {
     "data": {
      "text/plain": [
       "13"
      ]
     },
     "execution_count": 9,
     "metadata": {},
     "output_type": "execute_result"
    }
   ],
   "source": [
    "aa = aa + 10\n",
    "\n",
    "aa"
   ]
  },
  {
   "cell_type": "code",
   "execution_count": 8,
   "id": "30952ff0-a947-4afe-9566-a0b4a36591a8",
   "metadata": {},
   "outputs": [
    {
     "data": {
      "text/plain": [
       "3"
      ]
     },
     "execution_count": 8,
     "metadata": {},
     "output_type": "execute_result"
    }
   ],
   "source": [
    "aa = 3\n",
    "\n",
    "aa"
   ]
  },
  {
   "cell_type": "code",
   "execution_count": 10,
   "id": "a7bc38fa-f49d-49a9-942c-f37852f7f3dd",
   "metadata": {},
   "outputs": [
    {
     "data": {
      "text/plain": [
       "11.181818181818182"
      ]
     },
     "execution_count": 10,
     "metadata": {},
     "output_type": "execute_result"
    }
   ],
   "source": [
    "123/11"
   ]
  },
  {
   "cell_type": "markdown",
   "id": "479b3515-8409-4265-9bbd-222dc56a8e4b",
   "metadata": {},
   "source": [
    "## lista"
   ]
  },
  {
   "cell_type": "code",
   "execution_count": 13,
   "id": "dc80c089-00dc-4a53-9ccb-46c6960cb7f9",
   "metadata": {},
   "outputs": [
    {
     "data": {
      "text/plain": [
       "[1, 2, 3, 4, 5]"
      ]
     },
     "execution_count": 13,
     "metadata": {},
     "output_type": "execute_result"
    }
   ],
   "source": [
    "liczby = [1,2,3,4,5 ]\n",
    "liczby"
   ]
  },
  {
   "cell_type": "code",
   "execution_count": 14,
   "id": "dd181d96-549d-479c-bbf9-8307495f590b",
   "metadata": {},
   "outputs": [
    {
     "data": {
      "text/plain": [
       "['ala', 'ma', 'kota']"
      ]
     },
     "execution_count": 14,
     "metadata": {},
     "output_type": "execute_result"
    }
   ],
   "source": [
    "napisy = ['ala', 'ma', 'kota']\n",
    "napisy"
   ]
  },
  {
   "cell_type": "code",
   "execution_count": 16,
   "id": "56fee00b-76ab-4f6f-8acd-587d435dfcc1",
   "metadata": {},
   "outputs": [
    {
     "data": {
      "text/plain": [
       "[1, 2, 'ala', 3, 4, 'ma', 'kota']"
      ]
     },
     "execution_count": 16,
     "metadata": {},
     "output_type": "execute_result"
    }
   ],
   "source": [
    "lista_mieszana = [1,2,\"ala\",3,4, \"ma\", \"kota\"]\n",
    "lista_mieszana"
   ]
  },
  {
   "cell_type": "code",
   "execution_count": 17,
   "id": "07a597bd-50a6-4132-882e-ebeed864bd18",
   "metadata": {},
   "outputs": [],
   "source": [
    "# dodawanie elementu do listy - na koniec\n",
    "lista_mieszana.append(10)"
   ]
  },
  {
   "cell_type": "code",
   "execution_count": 18,
   "id": "26d43e75-5793-42b8-a52b-be03b0724ebe",
   "metadata": {},
   "outputs": [
    {
     "data": {
      "text/plain": [
       "[1, 2, 'ala', 3, 4, 'ma', 'kota', 10]"
      ]
     },
     "execution_count": 18,
     "metadata": {},
     "output_type": "execute_result"
    }
   ],
   "source": [
    "lista_mieszana"
   ]
  },
  {
   "cell_type": "markdown",
   "id": "019cc890-e284-44b9-90e3-ac2396eacc66",
   "metadata": {},
   "source": [
    "## napisy"
   ]
  },
  {
   "cell_type": "code",
   "execution_count": 19,
   "id": "5d07902f-a4e3-4e82-b81e-838bdb871adf",
   "metadata": {},
   "outputs": [
    {
     "data": {
      "text/plain": [
       "'python jest fajny i łatwy'"
      ]
     },
     "execution_count": 19,
     "metadata": {},
     "output_type": "execute_result"
    }
   ],
   "source": [
    "napis = \"python jest fajny i łatwy\"\n",
    "napis"
   ]
  },
  {
   "cell_type": "code",
   "execution_count": 20,
   "id": "68cc3600-5556-4a27-ab32-14eb1ff5ec4d",
   "metadata": {},
   "outputs": [
    {
     "data": {
      "text/plain": [
       "'PYTHON JEST FAJNY I ŁATWY'"
      ]
     },
     "execution_count": 20,
     "metadata": {},
     "output_type": "execute_result"
    }
   ],
   "source": [
    "napis.upper() # zmiana liter na wielkie"
   ]
  },
  {
   "cell_type": "code",
   "execution_count": 21,
   "id": "83d57a97-69cf-4e14-9a1d-e7d7a9ee4a68",
   "metadata": {},
   "outputs": [
    {
     "data": {
      "text/plain": [
       "'python jest fajny i łatwy'"
      ]
     },
     "execution_count": 21,
     "metadata": {},
     "output_type": "execute_result"
    }
   ],
   "source": [
    "napis"
   ]
  },
  {
   "cell_type": "code",
   "execution_count": 22,
   "id": "5602d3c8-2be0-4119-b0e9-d7fbcf0f276b",
   "metadata": {},
   "outputs": [
    {
     "data": {
      "text/plain": [
       "'Python Jest Fajny I Łatwy'"
      ]
     },
     "execution_count": 22,
     "metadata": {},
     "output_type": "execute_result"
    }
   ],
   "source": [
    "napis.title()"
   ]
  },
  {
   "cell_type": "code",
   "execution_count": 23,
   "id": "54cada98-88ca-48df-a438-0901920fd2d7",
   "metadata": {},
   "outputs": [
    {
     "data": {
      "text/plain": [
       "'python jest fajny i łatwy'"
      ]
     },
     "execution_count": 23,
     "metadata": {},
     "output_type": "execute_result"
    }
   ],
   "source": [
    "napis"
   ]
  },
  {
   "cell_type": "markdown",
   "id": "8fff0afd-f6df-4d91-a6a3-8ff0799e1c92",
   "metadata": {},
   "source": [
    "# krotka = tuple\n",
    "\n",
    "taka lista tylko do odczytu"
   ]
  },
  {
   "cell_type": "code",
   "execution_count": 24,
   "id": "6b9e4307-20a0-4c30-9834-00bbd807f1f9",
   "metadata": {},
   "outputs": [
    {
     "data": {
      "text/plain": [
       "(1, 2, 'ala', 3, 4, 'ma', 'kota')"
      ]
     },
     "execution_count": 24,
     "metadata": {},
     "output_type": "execute_result"
    }
   ],
   "source": [
    "krotka = (1,2,\"ala\",3,4, \"ma\", \"kota\")\n",
    "krotka"
   ]
  },
  {
   "cell_type": "code",
   "execution_count": 25,
   "id": "aff0581d-020b-43fd-9d5d-fbcf10fd634f",
   "metadata": {},
   "outputs": [
    {
     "ename": "AttributeError",
     "evalue": "'tuple' object has no attribute 'append'",
     "output_type": "error",
     "traceback": [
      "\u001b[31m---------------------------------------------------------------------------\u001b[39m",
      "\u001b[31mAttributeError\u001b[39m                            Traceback (most recent call last)",
      "\u001b[36mCell\u001b[39m\u001b[36m \u001b[39m\u001b[32mIn[25]\u001b[39m\u001b[32m, line 1\u001b[39m\n\u001b[32m----> \u001b[39m\u001b[32m1\u001b[39m \u001b[43mkrotka\u001b[49m\u001b[43m.\u001b[49m\u001b[43mappend\u001b[49m(\u001b[33m\"\u001b[39m\u001b[33mnowa wartość\u001b[39m\u001b[33m\"\u001b[39m)\n",
      "\u001b[31mAttributeError\u001b[39m: 'tuple' object has no attribute 'append'"
     ]
    }
   ],
   "source": [
    "krotka.append(\"nowa wartość\")"
   ]
  },
  {
   "cell_type": "code",
   "execution_count": 27,
   "id": "b1d8f44d-de55-4cce-90bb-8b6bb28df67d",
   "metadata": {},
   "outputs": [
    {
     "data": {
      "text/plain": [
       "[1, 2, 'ala', 3, 4, 'ma', 'kota']"
      ]
     },
     "execution_count": 27,
     "metadata": {},
     "output_type": "execute_result"
    }
   ],
   "source": [
    "# jak z krotki zrobić listę? -> rzutowanie = casting\n",
    "lista_z_krotki = list(krotka)\n",
    "lista_z_krotki"
   ]
  },
  {
   "cell_type": "code",
   "execution_count": 28,
   "id": "1580c062-dcf4-4017-81c9-35285723fd26",
   "metadata": {},
   "outputs": [
    {
     "data": {
      "text/plain": [
       "[1, 2, 'ala', 3, 4, 'ma', 'kota', 'nowa wartość']"
      ]
     },
     "execution_count": 28,
     "metadata": {},
     "output_type": "execute_result"
    }
   ],
   "source": [
    "lista_z_krotki.append(\"nowa wartość\")\n",
    "lista_z_krotki"
   ]
  },
  {
   "cell_type": "code",
   "execution_count": 29,
   "id": "bf9d6599-a231-44f8-a740-c184f9a41c4e",
   "metadata": {},
   "outputs": [
    {
     "data": {
      "text/plain": [
       "(1, 2, 'ala', 3, 4, 'ma', 'kota', 10)"
      ]
     },
     "execution_count": 29,
     "metadata": {},
     "output_type": "execute_result"
    }
   ],
   "source": [
    "# krotka z listy\n",
    "krotka_z_listy = tuple(lista_mieszana)\n",
    "krotka_z_listy"
   ]
  },
  {
   "cell_type": "code",
   "execution_count": 32,
   "id": "5365be92-cd91-4dee-a7d0-795dd1901733",
   "metadata": {},
   "outputs": [
    {
     "name": "stdout",
     "output_type": "stream",
     "text": [
      "1\n",
      "1.0\n"
     ]
    }
   ],
   "source": [
    "# rzutowanie dla liczb\n",
    "a = 1\n",
    "b = 1.8\n",
    "\n",
    "print(int(b))\n",
    "print(float(a))\n"
   ]
  },
  {
   "cell_type": "code",
   "execution_count": 33,
   "id": "2ac71cd8-3a46-40f6-9d42-1235feaddebd",
   "metadata": {},
   "outputs": [
    {
     "data": {
      "text/plain": [
       "[1, 2, 1, 1, 2, 3, 4, 5]"
      ]
     },
     "execution_count": 33,
     "metadata": {},
     "output_type": "execute_result"
    }
   ],
   "source": [
    "# zbiór = set\n",
    "lista_z_powtorzeniami = [ 1, 2, 1, 1, 2, 3, 4, 5 ]\n",
    "lista_z_powtorzeniami"
   ]
  },
  {
   "cell_type": "code",
   "execution_count": 35,
   "id": "6feb79d2-4042-40e4-833d-0961b2fc6de7",
   "metadata": {},
   "outputs": [
    {
     "data": {
      "text/plain": [
       "{1, 2, 3, 4, 5}"
      ]
     },
     "execution_count": 35,
     "metadata": {},
     "output_type": "execute_result"
    }
   ],
   "source": [
    "zbior = set( lista_z_powtorzeniami )\n",
    "zbior"
   ]
  },
  {
   "cell_type": "code",
   "execution_count": null,
   "id": "cda1d66d-36b8-4c33-bd29-720946a34c89",
   "metadata": {},
   "outputs": [],
   "source": [
    "# metody uniwersalne dla list, krotek i zbiorów (iteratorów)"
   ]
  },
  {
   "cell_type": "code",
   "execution_count": 36,
   "id": "176c3ee3-9512-4e2c-8deb-c37a560b593b",
   "metadata": {},
   "outputs": [
    {
     "data": {
      "text/plain": [
       "8"
      ]
     },
     "execution_count": 36,
     "metadata": {},
     "output_type": "execute_result"
    }
   ],
   "source": [
    "len(lista_z_powtorzeniami)"
   ]
  },
  {
   "cell_type": "code",
   "execution_count": 37,
   "id": "cb4920c2-a216-4b8c-9d06-c33f8dfb29ca",
   "metadata": {},
   "outputs": [
    {
     "data": {
      "text/plain": [
       "5"
      ]
     },
     "execution_count": 37,
     "metadata": {},
     "output_type": "execute_result"
    }
   ],
   "source": [
    "len(zbior)"
   ]
  },
  {
   "cell_type": "code",
   "execution_count": 38,
   "id": "2629e432-ec5a-40d7-9254-4b010acd4ea5",
   "metadata": {},
   "outputs": [
    {
     "data": {
      "text/plain": [
       "1"
      ]
     },
     "execution_count": 38,
     "metadata": {},
     "output_type": "execute_result"
    }
   ],
   "source": [
    "## indeksowanie = wybieranie elementów z iteratorów\n",
    "\n",
    "# indeks = 0 => pierwszy element na liście\n",
    "lista_z_powtorzeniami[0]"
   ]
  },
  {
   "cell_type": "code",
   "execution_count": 39,
   "id": "e4133bf5-37f7-46df-8c37-1753ad70a906",
   "metadata": {},
   "outputs": [
    {
     "data": {
      "text/plain": [
       "4"
      ]
     },
     "execution_count": 39,
     "metadata": {},
     "output_type": "execute_result"
    }
   ],
   "source": [
    "lista_z_powtorzeniami[6]"
   ]
  },
  {
   "cell_type": "code",
   "execution_count": 40,
   "id": "0f4f6b1f-7063-4a24-8a75-9a07d3cab85a",
   "metadata": {},
   "outputs": [
    {
     "data": {
      "text/plain": [
       "5"
      ]
     },
     "execution_count": 40,
     "metadata": {},
     "output_type": "execute_result"
    }
   ],
   "source": [
    "## ostatnie od końca\n",
    "lista_z_powtorzeniami[-1]"
   ]
  },
  {
   "cell_type": "code",
   "execution_count": 41,
   "id": "42ace126-8e58-4913-aec9-5b9ad95204f1",
   "metadata": {},
   "outputs": [
    {
     "data": {
      "text/plain": [
       "4"
      ]
     },
     "execution_count": 41,
     "metadata": {},
     "output_type": "execute_result"
    }
   ],
   "source": [
    "## prezdostatnie od końca\n",
    "lista_z_powtorzeniami[-2]"
   ]
  },
  {
   "cell_type": "code",
   "execution_count": 43,
   "id": "73875647-d889-4c54-a423-de1e7bee5cab",
   "metadata": {},
   "outputs": [
    {
     "data": {
      "text/plain": [
       "[1, 2, 1, 1, 2, 3, 4, 5]"
      ]
     },
     "execution_count": 43,
     "metadata": {},
     "output_type": "execute_result"
    }
   ],
   "source": [
    "lista_z_powtorzeniami"
   ]
  },
  {
   "cell_type": "code",
   "execution_count": 42,
   "id": "c0eb9220-fd5a-471a-8bae-bff91d25b483",
   "metadata": {},
   "outputs": [
    {
     "data": {
      "text/plain": [
       "[1, 2, 3]"
      ]
     },
     "execution_count": 42,
     "metadata": {},
     "output_type": "execute_result"
    }
   ],
   "source": [
    "## zakres\n",
    "lista_z_powtorzeniami[ 3:6  ] "
   ]
  },
  {
   "cell_type": "code",
   "execution_count": 44,
   "id": "e10846ed-b72b-4f6a-b806-6d14f39ac78c",
   "metadata": {},
   "outputs": [
    {
     "data": {
      "text/plain": [
       "[1, 1, 2, 4]"
      ]
     },
     "execution_count": 44,
     "metadata": {},
     "output_type": "execute_result"
    }
   ],
   "source": [
    "## co drugi element\n",
    "lista_z_powtorzeniami[ 0 : -1 : 2 ]"
   ]
  },
  {
   "cell_type": "code",
   "execution_count": 45,
   "id": "3b71bd75-29a2-411a-8760-ff84b38b4966",
   "metadata": {},
   "outputs": [
    {
     "data": {
      "text/plain": [
       "[1, 1, 4]"
      ]
     },
     "execution_count": 45,
     "metadata": {},
     "output_type": "execute_result"
    }
   ],
   "source": [
    "lista_z_powtorzeniami[ 0 : -1 : 3 ]"
   ]
  },
  {
   "cell_type": "code",
   "execution_count": 46,
   "id": "538bb0a9-b0e2-4f56-8618-5d12cebac237",
   "metadata": {},
   "outputs": [],
   "source": [
    "## odwrócenie kolejności"
   ]
  },
  {
   "cell_type": "code",
   "execution_count": 47,
   "id": "2078a42d-16cf-42a6-aa0b-652c937cde4b",
   "metadata": {},
   "outputs": [
    {
     "data": {
      "text/plain": [
       "[5, 4, 3, 2, 1, 1, 2, 1]"
      ]
     },
     "execution_count": 47,
     "metadata": {},
     "output_type": "execute_result"
    }
   ],
   "source": [
    "lista_z_powtorzeniami[ ::-1 ]"
   ]
  },
  {
   "cell_type": "code",
   "execution_count": 51,
   "id": "fca60edd-386e-4813-9f0e-ebaa79062a05",
   "metadata": {},
   "outputs": [
    {
     "data": {
      "text/plain": [
       "'to je'"
      ]
     },
     "execution_count": 51,
     "metadata": {},
     "output_type": "execute_result"
    }
   ],
   "source": [
    "# napis jest listą znaków\n",
    "napis = \"to jest jakiś napis\"\n",
    "\n",
    "napis[ :5 ] "
   ]
  },
  {
   "cell_type": "code",
   "execution_count": 52,
   "id": "7979d3e1-fd5c-41a4-93af-6402a57ce4a5",
   "metadata": {},
   "outputs": [
    {
     "data": {
      "text/plain": [
       "'st jakiś napis'"
      ]
     },
     "execution_count": 52,
     "metadata": {},
     "output_type": "execute_result"
    }
   ],
   "source": [
    "napis[ 5:] "
   ]
  },
  {
   "cell_type": "code",
   "execution_count": 53,
   "id": "70e8dc3f-af43-4091-9259-feb28a0cf0d2",
   "metadata": {},
   "outputs": [
    {
     "data": {
      "text/plain": [
       "'sipan śikaj tsej ot'"
      ]
     },
     "execution_count": 53,
     "metadata": {},
     "output_type": "execute_result"
    }
   ],
   "source": [
    "napis[::-1]"
   ]
  },
  {
   "cell_type": "code",
   "execution_count": null,
   "id": "3dccf03c-c83e-4895-89e1-f746c988a919",
   "metadata": {},
   "outputs": [],
   "source": []
  }
 ],
 "metadata": {
  "kernelspec": {
   "display_name": "Python 3 (ipykernel)",
   "language": "python",
   "name": "python3"
  },
  "language_info": {
   "codemirror_mode": {
    "name": "ipython",
    "version": 3
   },
   "file_extension": ".py",
   "mimetype": "text/x-python",
   "name": "python",
   "nbconvert_exporter": "python",
   "pygments_lexer": "ipython3",
   "version": "3.13.9"
  }
 },
 "nbformat": 4,
 "nbformat_minor": 5
}
