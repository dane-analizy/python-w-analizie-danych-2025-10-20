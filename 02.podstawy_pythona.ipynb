{
 "cells": [
  {
   "cell_type": "markdown",
   "id": "83bb46c2-77e4-4825-98ab-86009b951333",
   "metadata": {},
   "source": [
    "# Podstawowe typy i struktury danych  "
   ]
  },
  {
   "cell_type": "markdown",
   "id": "f7c85029-149d-47cc-b31f-a4132c3087c1",
   "metadata": {},
   "source": [
    "## liczby"
   ]
  },
  {
   "cell_type": "code",
   "execution_count": 1,
   "id": "e2b4e5e6-92c1-4d3e-a493-809e9a67cd12",
   "metadata": {},
   "outputs": [],
   "source": [
    "# zmienna liczbowa - int, float\n",
    "a = 1\n",
    "b = 1.23456"
   ]
  },
  {
   "cell_type": "code",
   "execution_count": 2,
   "id": "681b289a-1997-48f1-8a7f-fa0d5ae2896b",
   "metadata": {},
   "outputs": [
    {
     "name": "stdout",
     "output_type": "stream",
     "text": [
      "1\n"
     ]
    }
   ],
   "source": [
    "print(a)"
   ]
  },
  {
   "cell_type": "code",
   "execution_count": 3,
   "id": "18801c97-e7c7-4089-9ca0-4d84f3514ecd",
   "metadata": {},
   "outputs": [
    {
     "name": "stdout",
     "output_type": "stream",
     "text": [
      "1.23456\n"
     ]
    }
   ],
   "source": [
    "print(b)"
   ]
  },
  {
   "cell_type": "code",
   "execution_count": 4,
   "id": "160b5ac6-6463-45a8-95ed-3cf78b5c83dd",
   "metadata": {},
   "outputs": [
    {
     "data": {
      "text/plain": [
       "1"
      ]
     },
     "execution_count": 4,
     "metadata": {},
     "output_type": "execute_result"
    }
   ],
   "source": [
    "a"
   ]
  },
  {
   "cell_type": "code",
   "execution_count": 5,
   "id": "7ec48b51-ae76-4e9a-962e-5d862014a97c",
   "metadata": {},
   "outputs": [
    {
     "data": {
      "text/plain": [
       "1.23456"
      ]
     },
     "execution_count": 5,
     "metadata": {},
     "output_type": "execute_result"
    }
   ],
   "source": [
    "b"
   ]
  },
  {
   "cell_type": "code",
   "execution_count": 6,
   "id": "e5fb53a4-f19e-4c9c-97b0-b7ccd18d595a",
   "metadata": {},
   "outputs": [
    {
     "name": "stdout",
     "output_type": "stream",
     "text": [
      "1\n",
      "2\n",
      "3\n"
     ]
    }
   ],
   "source": [
    "aa = 1\n",
    "bb = 2\n",
    "cc = 3\n",
    "\n",
    "print(aa)\n",
    "print(bb)\n",
    "print(cc)"
   ]
  },
  {
   "cell_type": "code",
   "execution_count": 9,
   "id": "b28df8dd-2337-41c8-ad0f-d7acda4f7d9f",
   "metadata": {},
   "outputs": [
    {
     "data": {
      "text/plain": [
       "13"
      ]
     },
     "execution_count": 9,
     "metadata": {},
     "output_type": "execute_result"
    }
   ],
   "source": [
    "aa = aa + 10\n",
    "\n",
    "aa"
   ]
  },
  {
   "cell_type": "code",
   "execution_count": 8,
   "id": "30952ff0-a947-4afe-9566-a0b4a36591a8",
   "metadata": {},
   "outputs": [
    {
     "data": {
      "text/plain": [
       "3"
      ]
     },
     "execution_count": 8,
     "metadata": {},
     "output_type": "execute_result"
    }
   ],
   "source": [
    "aa = 3\n",
    "\n",
    "aa"
   ]
  },
  {
   "cell_type": "code",
   "execution_count": 10,
   "id": "a7bc38fa-f49d-49a9-942c-f37852f7f3dd",
   "metadata": {},
   "outputs": [
    {
     "data": {
      "text/plain": [
       "11.181818181818182"
      ]
     },
     "execution_count": 10,
     "metadata": {},
     "output_type": "execute_result"
    }
   ],
   "source": [
    "123/11"
   ]
  },
  {
   "cell_type": "markdown",
   "id": "479b3515-8409-4265-9bbd-222dc56a8e4b",
   "metadata": {},
   "source": [
    "## lista"
   ]
  },
  {
   "cell_type": "code",
   "execution_count": 13,
   "id": "dc80c089-00dc-4a53-9ccb-46c6960cb7f9",
   "metadata": {},
   "outputs": [
    {
     "data": {
      "text/plain": [
       "[1, 2, 3, 4, 5]"
      ]
     },
     "execution_count": 13,
     "metadata": {},
     "output_type": "execute_result"
    }
   ],
   "source": [
    "liczby = [1,2,3,4,5 ]\n",
    "liczby"
   ]
  },
  {
   "cell_type": "code",
   "execution_count": 14,
   "id": "dd181d96-549d-479c-bbf9-8307495f590b",
   "metadata": {},
   "outputs": [
    {
     "data": {
      "text/plain": [
       "['ala', 'ma', 'kota']"
      ]
     },
     "execution_count": 14,
     "metadata": {},
     "output_type": "execute_result"
    }
   ],
   "source": [
    "napisy = ['ala', 'ma', 'kota']\n",
    "napisy"
   ]
  },
  {
   "cell_type": "code",
   "execution_count": 16,
   "id": "56fee00b-76ab-4f6f-8acd-587d435dfcc1",
   "metadata": {},
   "outputs": [
    {
     "data": {
      "text/plain": [
       "[1, 2, 'ala', 3, 4, 'ma', 'kota']"
      ]
     },
     "execution_count": 16,
     "metadata": {},
     "output_type": "execute_result"
    }
   ],
   "source": [
    "lista_mieszana = [1,2,\"ala\",3,4, \"ma\", \"kota\"]\n",
    "lista_mieszana"
   ]
  },
  {
   "cell_type": "code",
   "execution_count": 17,
   "id": "07a597bd-50a6-4132-882e-ebeed864bd18",
   "metadata": {},
   "outputs": [],
   "source": [
    "# dodawanie elementu do listy - na koniec\n",
    "lista_mieszana.append(10)"
   ]
  },
  {
   "cell_type": "code",
   "execution_count": 18,
   "id": "26d43e75-5793-42b8-a52b-be03b0724ebe",
   "metadata": {},
   "outputs": [
    {
     "data": {
      "text/plain": [
       "[1, 2, 'ala', 3, 4, 'ma', 'kota', 10]"
      ]
     },
     "execution_count": 18,
     "metadata": {},
     "output_type": "execute_result"
    }
   ],
   "source": [
    "lista_mieszana"
   ]
  },
  {
   "cell_type": "markdown",
   "id": "019cc890-e284-44b9-90e3-ac2396eacc66",
   "metadata": {},
   "source": [
    "## napisy"
   ]
  },
  {
   "cell_type": "code",
   "execution_count": 19,
   "id": "5d07902f-a4e3-4e82-b81e-838bdb871adf",
   "metadata": {},
   "outputs": [
    {
     "data": {
      "text/plain": [
       "'python jest fajny i łatwy'"
      ]
     },
     "execution_count": 19,
     "metadata": {},
     "output_type": "execute_result"
    }
   ],
   "source": [
    "napis = \"python jest fajny i łatwy\"\n",
    "napis"
   ]
  },
  {
   "cell_type": "code",
   "execution_count": 20,
   "id": "68cc3600-5556-4a27-ab32-14eb1ff5ec4d",
   "metadata": {},
   "outputs": [
    {
     "data": {
      "text/plain": [
       "'PYTHON JEST FAJNY I ŁATWY'"
      ]
     },
     "execution_count": 20,
     "metadata": {},
     "output_type": "execute_result"
    }
   ],
   "source": [
    "napis.upper() # zmiana liter na wielkie"
   ]
  },
  {
   "cell_type": "code",
   "execution_count": 21,
   "id": "83d57a97-69cf-4e14-9a1d-e7d7a9ee4a68",
   "metadata": {},
   "outputs": [
    {
     "data": {
      "text/plain": [
       "'python jest fajny i łatwy'"
      ]
     },
     "execution_count": 21,
     "metadata": {},
     "output_type": "execute_result"
    }
   ],
   "source": [
    "napis"
   ]
  },
  {
   "cell_type": "code",
   "execution_count": 22,
   "id": "5602d3c8-2be0-4119-b0e9-d7fbcf0f276b",
   "metadata": {},
   "outputs": [
    {
     "data": {
      "text/plain": [
       "'Python Jest Fajny I Łatwy'"
      ]
     },
     "execution_count": 22,
     "metadata": {},
     "output_type": "execute_result"
    }
   ],
   "source": [
    "napis.title()"
   ]
  },
  {
   "cell_type": "code",
   "execution_count": 23,
   "id": "54cada98-88ca-48df-a438-0901920fd2d7",
   "metadata": {},
   "outputs": [
    {
     "data": {
      "text/plain": [
       "'python jest fajny i łatwy'"
      ]
     },
     "execution_count": 23,
     "metadata": {},
     "output_type": "execute_result"
    }
   ],
   "source": [
    "napis"
   ]
  },
  {
   "cell_type": "markdown",
   "id": "8fff0afd-f6df-4d91-a6a3-8ff0799e1c92",
   "metadata": {},
   "source": [
    "# krotka = tuple\n",
    "\n",
    "taka lista tylko do odczytu"
   ]
  },
  {
   "cell_type": "code",
   "execution_count": 24,
   "id": "6b9e4307-20a0-4c30-9834-00bbd807f1f9",
   "metadata": {},
   "outputs": [
    {
     "data": {
      "text/plain": [
       "(1, 2, 'ala', 3, 4, 'ma', 'kota')"
      ]
     },
     "execution_count": 24,
     "metadata": {},
     "output_type": "execute_result"
    }
   ],
   "source": [
    "krotka = (1,2,\"ala\",3,4, \"ma\", \"kota\")\n",
    "krotka"
   ]
  },
  {
   "cell_type": "code",
   "execution_count": 25,
   "id": "aff0581d-020b-43fd-9d5d-fbcf10fd634f",
   "metadata": {},
   "outputs": [
    {
     "ename": "AttributeError",
     "evalue": "'tuple' object has no attribute 'append'",
     "output_type": "error",
     "traceback": [
      "\u001b[31m---------------------------------------------------------------------------\u001b[39m",
      "\u001b[31mAttributeError\u001b[39m                            Traceback (most recent call last)",
      "\u001b[36mCell\u001b[39m\u001b[36m \u001b[39m\u001b[32mIn[25]\u001b[39m\u001b[32m, line 1\u001b[39m\n\u001b[32m----> \u001b[39m\u001b[32m1\u001b[39m \u001b[43mkrotka\u001b[49m\u001b[43m.\u001b[49m\u001b[43mappend\u001b[49m(\u001b[33m\"\u001b[39m\u001b[33mnowa wartość\u001b[39m\u001b[33m\"\u001b[39m)\n",
      "\u001b[31mAttributeError\u001b[39m: 'tuple' object has no attribute 'append'"
     ]
    }
   ],
   "source": [
    "krotka.append(\"nowa wartość\")"
   ]
  },
  {
   "cell_type": "code",
   "execution_count": 27,
   "id": "b1d8f44d-de55-4cce-90bb-8b6bb28df67d",
   "metadata": {},
   "outputs": [
    {
     "data": {
      "text/plain": [
       "[1, 2, 'ala', 3, 4, 'ma', 'kota']"
      ]
     },
     "execution_count": 27,
     "metadata": {},
     "output_type": "execute_result"
    }
   ],
   "source": [
    "# jak z krotki zrobić listę? -> rzutowanie = casting\n",
    "lista_z_krotki = list(krotka)\n",
    "lista_z_krotki"
   ]
  },
  {
   "cell_type": "code",
   "execution_count": 28,
   "id": "1580c062-dcf4-4017-81c9-35285723fd26",
   "metadata": {},
   "outputs": [
    {
     "data": {
      "text/plain": [
       "[1, 2, 'ala', 3, 4, 'ma', 'kota', 'nowa wartość']"
      ]
     },
     "execution_count": 28,
     "metadata": {},
     "output_type": "execute_result"
    }
   ],
   "source": [
    "lista_z_krotki.append(\"nowa wartość\")\n",
    "lista_z_krotki"
   ]
  },
  {
   "cell_type": "code",
   "execution_count": 29,
   "id": "bf9d6599-a231-44f8-a740-c184f9a41c4e",
   "metadata": {},
   "outputs": [
    {
     "data": {
      "text/plain": [
       "(1, 2, 'ala', 3, 4, 'ma', 'kota', 10)"
      ]
     },
     "execution_count": 29,
     "metadata": {},
     "output_type": "execute_result"
    }
   ],
   "source": [
    "# krotka z listy\n",
    "krotka_z_listy = tuple(lista_mieszana)\n",
    "krotka_z_listy"
   ]
  },
  {
   "cell_type": "code",
   "execution_count": 32,
   "id": "5365be92-cd91-4dee-a7d0-795dd1901733",
   "metadata": {},
   "outputs": [
    {
     "name": "stdout",
     "output_type": "stream",
     "text": [
      "1\n",
      "1.0\n"
     ]
    }
   ],
   "source": [
    "# rzutowanie dla liczb\n",
    "a = 1\n",
    "b = 1.8\n",
    "\n",
    "print(int(b))\n",
    "print(float(a))\n"
   ]
  },
  {
   "cell_type": "code",
   "execution_count": 33,
   "id": "2ac71cd8-3a46-40f6-9d42-1235feaddebd",
   "metadata": {},
   "outputs": [
    {
     "data": {
      "text/plain": [
       "[1, 2, 1, 1, 2, 3, 4, 5]"
      ]
     },
     "execution_count": 33,
     "metadata": {},
     "output_type": "execute_result"
    }
   ],
   "source": [
    "# zbiór = set\n",
    "lista_z_powtorzeniami = [ 1, 2, 1, 1, 2, 3, 4, 5 ]\n",
    "lista_z_powtorzeniami"
   ]
  },
  {
   "cell_type": "code",
   "execution_count": 35,
   "id": "6feb79d2-4042-40e4-833d-0961b2fc6de7",
   "metadata": {},
   "outputs": [
    {
     "data": {
      "text/plain": [
       "{1, 2, 3, 4, 5}"
      ]
     },
     "execution_count": 35,
     "metadata": {},
     "output_type": "execute_result"
    }
   ],
   "source": [
    "zbior = set( lista_z_powtorzeniami )\n",
    "zbior"
   ]
  },
  {
   "cell_type": "code",
   "execution_count": null,
   "id": "cda1d66d-36b8-4c33-bd29-720946a34c89",
   "metadata": {},
   "outputs": [],
   "source": [
    "# metody uniwersalne dla list, krotek i zbiorów (iteratorów)"
   ]
  },
  {
   "cell_type": "code",
   "execution_count": 36,
   "id": "176c3ee3-9512-4e2c-8deb-c37a560b593b",
   "metadata": {},
   "outputs": [
    {
     "data": {
      "text/plain": [
       "8"
      ]
     },
     "execution_count": 36,
     "metadata": {},
     "output_type": "execute_result"
    }
   ],
   "source": [
    "len(lista_z_powtorzeniami)"
   ]
  },
  {
   "cell_type": "code",
   "execution_count": 37,
   "id": "cb4920c2-a216-4b8c-9d06-c33f8dfb29ca",
   "metadata": {},
   "outputs": [
    {
     "data": {
      "text/plain": [
       "5"
      ]
     },
     "execution_count": 37,
     "metadata": {},
     "output_type": "execute_result"
    }
   ],
   "source": [
    "len(zbior)"
   ]
  },
  {
   "cell_type": "code",
   "execution_count": 38,
   "id": "2629e432-ec5a-40d7-9254-4b010acd4ea5",
   "metadata": {},
   "outputs": [
    {
     "data": {
      "text/plain": [
       "1"
      ]
     },
     "execution_count": 38,
     "metadata": {},
     "output_type": "execute_result"
    }
   ],
   "source": [
    "## indeksowanie = wybieranie elementów z iteratorów\n",
    "\n",
    "# indeks = 0 => pierwszy element na liście\n",
    "lista_z_powtorzeniami[0]"
   ]
  },
  {
   "cell_type": "code",
   "execution_count": 39,
   "id": "e4133bf5-37f7-46df-8c37-1753ad70a906",
   "metadata": {},
   "outputs": [
    {
     "data": {
      "text/plain": [
       "4"
      ]
     },
     "execution_count": 39,
     "metadata": {},
     "output_type": "execute_result"
    }
   ],
   "source": [
    "lista_z_powtorzeniami[6]"
   ]
  },
  {
   "cell_type": "code",
   "execution_count": 40,
   "id": "0f4f6b1f-7063-4a24-8a75-9a07d3cab85a",
   "metadata": {},
   "outputs": [
    {
     "data": {
      "text/plain": [
       "5"
      ]
     },
     "execution_count": 40,
     "metadata": {},
     "output_type": "execute_result"
    }
   ],
   "source": [
    "## ostatnie od końca\n",
    "lista_z_powtorzeniami[-1]"
   ]
  },
  {
   "cell_type": "code",
   "execution_count": 41,
   "id": "42ace126-8e58-4913-aec9-5b9ad95204f1",
   "metadata": {},
   "outputs": [
    {
     "data": {
      "text/plain": [
       "4"
      ]
     },
     "execution_count": 41,
     "metadata": {},
     "output_type": "execute_result"
    }
   ],
   "source": [
    "## prezdostatnie od końca\n",
    "lista_z_powtorzeniami[-2]"
   ]
  },
  {
   "cell_type": "code",
   "execution_count": 43,
   "id": "73875647-d889-4c54-a423-de1e7bee5cab",
   "metadata": {},
   "outputs": [
    {
     "data": {
      "text/plain": [
       "[1, 2, 1, 1, 2, 3, 4, 5]"
      ]
     },
     "execution_count": 43,
     "metadata": {},
     "output_type": "execute_result"
    }
   ],
   "source": [
    "lista_z_powtorzeniami"
   ]
  },
  {
   "cell_type": "code",
   "execution_count": 42,
   "id": "c0eb9220-fd5a-471a-8bae-bff91d25b483",
   "metadata": {},
   "outputs": [
    {
     "data": {
      "text/plain": [
       "[1, 2, 3]"
      ]
     },
     "execution_count": 42,
     "metadata": {},
     "output_type": "execute_result"
    }
   ],
   "source": [
    "## zakres\n",
    "lista_z_powtorzeniami[ 3:6  ] "
   ]
  },
  {
   "cell_type": "code",
   "execution_count": 44,
   "id": "e10846ed-b72b-4f6a-b806-6d14f39ac78c",
   "metadata": {},
   "outputs": [
    {
     "data": {
      "text/plain": [
       "[1, 1, 2, 4]"
      ]
     },
     "execution_count": 44,
     "metadata": {},
     "output_type": "execute_result"
    }
   ],
   "source": [
    "## co drugi element\n",
    "lista_z_powtorzeniami[ 0 : -1 : 2 ]"
   ]
  },
  {
   "cell_type": "code",
   "execution_count": 45,
   "id": "3b71bd75-29a2-411a-8760-ff84b38b4966",
   "metadata": {},
   "outputs": [
    {
     "data": {
      "text/plain": [
       "[1, 1, 4]"
      ]
     },
     "execution_count": 45,
     "metadata": {},
     "output_type": "execute_result"
    }
   ],
   "source": [
    "lista_z_powtorzeniami[ 0 : -1 : 3 ]"
   ]
  },
  {
   "cell_type": "code",
   "execution_count": 46,
   "id": "538bb0a9-b0e2-4f56-8618-5d12cebac237",
   "metadata": {},
   "outputs": [],
   "source": [
    "## odwrócenie kolejności"
   ]
  },
  {
   "cell_type": "code",
   "execution_count": 47,
   "id": "2078a42d-16cf-42a6-aa0b-652c937cde4b",
   "metadata": {},
   "outputs": [
    {
     "data": {
      "text/plain": [
       "[5, 4, 3, 2, 1, 1, 2, 1]"
      ]
     },
     "execution_count": 47,
     "metadata": {},
     "output_type": "execute_result"
    }
   ],
   "source": [
    "lista_z_powtorzeniami[ ::-1 ]"
   ]
  },
  {
   "cell_type": "code",
   "execution_count": 51,
   "id": "fca60edd-386e-4813-9f0e-ebaa79062a05",
   "metadata": {},
   "outputs": [
    {
     "data": {
      "text/plain": [
       "'to je'"
      ]
     },
     "execution_count": 51,
     "metadata": {},
     "output_type": "execute_result"
    }
   ],
   "source": [
    "# napis jest listą znaków\n",
    "napis = \"to jest jakiś napis\"\n",
    "\n",
    "napis[ :5 ] "
   ]
  },
  {
   "cell_type": "code",
   "execution_count": 52,
   "id": "7979d3e1-fd5c-41a4-93af-6402a57ce4a5",
   "metadata": {},
   "outputs": [
    {
     "data": {
      "text/plain": [
       "'st jakiś napis'"
      ]
     },
     "execution_count": 52,
     "metadata": {},
     "output_type": "execute_result"
    }
   ],
   "source": [
    "napis[ 5:] "
   ]
  },
  {
   "cell_type": "code",
   "execution_count": 53,
   "id": "70e8dc3f-af43-4091-9259-feb28a0cf0d2",
   "metadata": {},
   "outputs": [
    {
     "data": {
      "text/plain": [
       "'sipan śikaj tsej ot'"
      ]
     },
     "execution_count": 53,
     "metadata": {},
     "output_type": "execute_result"
    }
   ],
   "source": [
    "napis[::-1]"
   ]
  },
  {
   "cell_type": "code",
   "execution_count": 54,
   "id": "3dccf03c-c83e-4895-89e1-f746c988a919",
   "metadata": {},
   "outputs": [
    {
     "data": {
      "text/plain": [
       "[1, 2, 3, 10, 20, 30]"
      ]
     },
     "execution_count": 54,
     "metadata": {},
     "output_type": "execute_result"
    }
   ],
   "source": [
    "# połączenie dwóch list\n",
    "lista_1 = [1, 2, 3]\n",
    "lista_2 = [10, 20, 30]\n",
    "\n",
    "lista_1 + lista_2"
   ]
  },
  {
   "cell_type": "code",
   "execution_count": 55,
   "id": "92017cc2-3632-4c8d-a96a-1fef13d754d0",
   "metadata": {},
   "outputs": [
    {
     "data": {
      "text/plain": [
       "[10, 20, 30, 1, 2, 3]"
      ]
     },
     "execution_count": 55,
     "metadata": {},
     "output_type": "execute_result"
    }
   ],
   "source": [
    "lista_2 + lista_1"
   ]
  },
  {
   "cell_type": "code",
   "execution_count": 59,
   "id": "6bbeb66b-a671-4d39-9bf6-cb452b900bc3",
   "metadata": {},
   "outputs": [
    {
     "data": {
      "text/plain": [
       "'abcdekjihgf'"
      ]
     },
     "execution_count": 59,
     "metadata": {},
     "output_type": "execute_result"
    }
   ],
   "source": [
    "alfabet = 'abcdefghijklmnopqrstuvwxyz'\n",
    "alfabet[:5] + alfabet[10:4:-1]"
   ]
  },
  {
   "cell_type": "code",
   "execution_count": 60,
   "id": "2e3b23ac-7a93-45aa-8e09-cade6f6f9b39",
   "metadata": {},
   "outputs": [
    {
     "data": {
      "text/plain": [
       "(1, 2, 'ala', 3, 4, 'ma', 'kota')"
      ]
     },
     "execution_count": 60,
     "metadata": {},
     "output_type": "execute_result"
    }
   ],
   "source": [
    "krotka"
   ]
  },
  {
   "cell_type": "code",
   "execution_count": 61,
   "id": "2c72fa3c-a393-43bb-a63c-14bec5a84369",
   "metadata": {},
   "outputs": [
    {
     "data": {
      "text/plain": [
       "(3, 4, 'ma')"
      ]
     },
     "execution_count": 61,
     "metadata": {},
     "output_type": "execute_result"
    }
   ],
   "source": [
    "krotka[3:6]"
   ]
  },
  {
   "cell_type": "code",
   "execution_count": 63,
   "id": "f7d78b51-b2f1-4246-8ce4-6c3b68a62cc1",
   "metadata": {},
   "outputs": [
    {
     "data": {
      "text/plain": [
       "{1, 2, 3, 4, 5}"
      ]
     },
     "execution_count": 63,
     "metadata": {},
     "output_type": "execute_result"
    }
   ],
   "source": [
    "zbior"
   ]
  },
  {
   "cell_type": "code",
   "execution_count": 65,
   "id": "ab555f90-3433-4ce7-89a6-51725d667f32",
   "metadata": {},
   "outputs": [
    {
     "data": {
      "text/plain": [
       "4"
      ]
     },
     "execution_count": 65,
     "metadata": {},
     "output_type": "execute_result"
    }
   ],
   "source": [
    "list(zbior)[3]"
   ]
  },
  {
   "cell_type": "markdown",
   "id": "5edfb7ca-1be5-4476-8f8d-3b2ebf11b1c8",
   "metadata": {},
   "source": [
    "## Zadanie\n",
    "\n",
    "Zbuduj listę dni tygodnia. Dodaj (spróbuj przez `.append()`) do niej dotatkowy wtorek i piątek. A następnie stwórz zbiór z unikalnymi dniami tygodnia i go wyświelt."
   ]
  },
  {
   "cell_type": "code",
   "execution_count": 66,
   "id": "2d35bdd3-40d9-47df-9e93-8aaf901c3f53",
   "metadata": {},
   "outputs": [
    {
     "data": {
      "text/plain": [
       "['pn', 'wt', 'sr', 'czw', 'pt', 'sb', 'nd']"
      ]
     },
     "execution_count": 66,
     "metadata": {},
     "output_type": "execute_result"
    }
   ],
   "source": [
    "dni_tygodnia = [\"pn\", \"wt\", \"sr\", \"czw\", \"pt\", \"sb\", \"nd\"]\n",
    "dni_tygodnia"
   ]
  },
  {
   "cell_type": "code",
   "execution_count": 67,
   "id": "d96cb0d4-0a55-4de2-bbea-0ca952a81249",
   "metadata": {},
   "outputs": [
    {
     "data": {
      "text/plain": [
       "['pn', 'wt', 'sr', 'czw', 'pt', 'sb', 'nd', 'pt', 'wt']"
      ]
     },
     "execution_count": 67,
     "metadata": {},
     "output_type": "execute_result"
    }
   ],
   "source": [
    "dni_tygodnia.append(\"pt\")\n",
    "dni_tygodnia.append(\"wt\")\n",
    "dni_tygodnia"
   ]
  },
  {
   "cell_type": "code",
   "execution_count": 71,
   "id": "aa07ca25-37b6-4d8b-b3dd-e07b8d86c155",
   "metadata": {},
   "outputs": [],
   "source": [
    "dni_tygodnia = set(dni_tygodnia)"
   ]
  },
  {
   "cell_type": "code",
   "execution_count": 72,
   "id": "23b9b223-5ee2-4292-a99e-27cc0ef05a8f",
   "metadata": {},
   "outputs": [
    {
     "data": {
      "text/plain": [
       "{'czw', 'nd', 'pn', 'pt', 'sb', 'sr', 'wt'}"
      ]
     },
     "execution_count": 72,
     "metadata": {},
     "output_type": "execute_result"
    }
   ],
   "source": [
    "dni_tygodnia"
   ]
  },
  {
   "cell_type": "markdown",
   "id": "23f63406-a558-4842-9b41-2f627a9c42ee",
   "metadata": {},
   "source": [
    "# Sortowanie list itp"
   ]
  },
  {
   "cell_type": "code",
   "execution_count": 73,
   "id": "75352f2a-2976-4bf3-826f-e1518c788c8e",
   "metadata": {},
   "outputs": [
    {
     "data": {
      "text/plain": [
       "[123, 7536, 1, 15, 726, 124, 167, 835, 157]"
      ]
     },
     "execution_count": 73,
     "metadata": {},
     "output_type": "execute_result"
    }
   ],
   "source": [
    "lista = [123, 7536,1, 15, 726, 124, 167,835,157]\n",
    "lista"
   ]
  },
  {
   "cell_type": "code",
   "execution_count": 76,
   "id": "49d74bc9-2519-41bf-b25d-cb98e1f2896e",
   "metadata": {},
   "outputs": [
    {
     "data": {
      "text/plain": [
       "{1, 15, 123, 124, 157, 167, 726, 835, 7536}"
      ]
     },
     "execution_count": 76,
     "metadata": {},
     "output_type": "execute_result"
    }
   ],
   "source": [
    "set(lista)"
   ]
  },
  {
   "cell_type": "code",
   "execution_count": 77,
   "id": "a7f60e07-ae38-4b04-8529-199c89db2d6b",
   "metadata": {},
   "outputs": [],
   "source": [
    "## sortowanie \"w miejscu\"\n",
    "lista.sort()"
   ]
  },
  {
   "cell_type": "code",
   "execution_count": 79,
   "id": "c843eac6-89ab-4d05-a7b4-0230b7bcc7fe",
   "metadata": {},
   "outputs": [
    {
     "data": {
      "text/plain": [
       "[1, 15, 123, 124, 157, 167, 726, 835, 7536]"
      ]
     },
     "execution_count": 79,
     "metadata": {},
     "output_type": "execute_result"
    }
   ],
   "source": [
    "lista"
   ]
  },
  {
   "cell_type": "code",
   "execution_count": null,
   "id": "f795c779-3757-4c3c-a948-8eeb64105572",
   "metadata": {},
   "outputs": [],
   "source": [
    "## sortowanie bez zmiany samej listy"
   ]
  },
  {
   "cell_type": "code",
   "execution_count": 80,
   "id": "2bc0b604-bd42-4313-835e-c162fd12e498",
   "metadata": {},
   "outputs": [
    {
     "data": {
      "text/plain": [
       "[123, 7536, 1, 15, 726, 124, 167, 835, 157]"
      ]
     },
     "execution_count": 80,
     "metadata": {},
     "output_type": "execute_result"
    }
   ],
   "source": [
    "lista = [123, 7536,1, 15, 726, 124, 167,835,157]\n",
    "lista"
   ]
  },
  {
   "cell_type": "code",
   "execution_count": 82,
   "id": "64eda604-ca34-4017-bdee-80b01ba1b481",
   "metadata": {},
   "outputs": [],
   "source": [
    "lista_posortowana = sorted(lista)"
   ]
  },
  {
   "cell_type": "code",
   "execution_count": 83,
   "id": "9b8328d0-677c-4ff9-829c-e1480e80af87",
   "metadata": {},
   "outputs": [
    {
     "data": {
      "text/plain": [
       "[1, 15, 123, 124, 157, 167, 726, 835, 7536]"
      ]
     },
     "execution_count": 83,
     "metadata": {},
     "output_type": "execute_result"
    }
   ],
   "source": [
    "lista_posortowana"
   ]
  },
  {
   "cell_type": "code",
   "execution_count": 84,
   "id": "fdbefbcd-0a13-45c4-91a0-395ed7899525",
   "metadata": {},
   "outputs": [
    {
     "data": {
      "text/plain": [
       "[123, 7536, 1, 15, 726, 124, 167, 835, 157]"
      ]
     },
     "execution_count": 84,
     "metadata": {},
     "output_type": "execute_result"
    }
   ],
   "source": [
    "lista"
   ]
  },
  {
   "cell_type": "code",
   "execution_count": 85,
   "id": "a36be2ef-9a5d-41b7-b0f3-cac1c9949e37",
   "metadata": {},
   "outputs": [
    {
     "data": {
      "text/plain": [
       "['czw', 'nd', 'pn', 'pt', 'sb', 'sr', 'wt']"
      ]
     },
     "execution_count": 85,
     "metadata": {},
     "output_type": "execute_result"
    }
   ],
   "source": [
    "dni_tygodnia = [\"pn\", \"wt\", \"sr\", \"czw\", \"pt\", \"sb\", \"nd\"]\n",
    "sorted(dni_tygodnia)"
   ]
  },
  {
   "cell_type": "code",
   "execution_count": 86,
   "id": "fc57b8f0-e313-4cf5-a695-56b6fd3ca5b2",
   "metadata": {},
   "outputs": [
    {
     "data": {
      "text/plain": [
       "[(1, 'pn'), (2, 'wt'), (3, 'sr'), (4, 'czw'), (5, 'pt'), (6, 'sb'), (7, 'nd')]"
      ]
     },
     "execution_count": 86,
     "metadata": {},
     "output_type": "execute_result"
    }
   ],
   "source": [
    "dni_tygodnia_krotki = [\n",
    "    (1, \"pn\"),\n",
    "    (2, \"wt\"),\n",
    "    (3, \"sr\"),\n",
    "    (4, \"czw\"),\n",
    "    (5, \"pt\"),\n",
    "    (6, \"sb\"),\n",
    "    (7, \"nd\")\n",
    "]\n",
    "\n",
    "dni_tygodnia_krotki"
   ]
  },
  {
   "cell_type": "code",
   "execution_count": 87,
   "id": "41a47dd4-be41-4c9d-acb3-950989d3f159",
   "metadata": {},
   "outputs": [
    {
     "data": {
      "text/plain": [
       "(4, 'czw')"
      ]
     },
     "execution_count": 87,
     "metadata": {},
     "output_type": "execute_result"
    }
   ],
   "source": [
    "dni_tygodnia_krotki[3]"
   ]
  },
  {
   "cell_type": "code",
   "execution_count": 88,
   "id": "ad94915c-7edc-49bb-b83b-1951a6d036cd",
   "metadata": {
    "scrolled": true
   },
   "outputs": [
    {
     "data": {
      "text/plain": [
       "'czw'"
      ]
     },
     "execution_count": 88,
     "metadata": {},
     "output_type": "execute_result"
    }
   ],
   "source": [
    "dni_tygodnia_krotki[3][1]"
   ]
  },
  {
   "cell_type": "code",
   "execution_count": 89,
   "id": "3a45a899-5fa0-4770-8dad-76cd13d7df0e",
   "metadata": {},
   "outputs": [
    {
     "data": {
      "text/plain": [
       "'z'"
      ]
     },
     "execution_count": 89,
     "metadata": {},
     "output_type": "execute_result"
    }
   ],
   "source": [
    "dni_tygodnia_krotki[3][1][1]"
   ]
  },
  {
   "cell_type": "code",
   "execution_count": 90,
   "id": "2d0ab23e-4ac8-4e74-ac92-78cea55cd571",
   "metadata": {},
   "outputs": [
    {
     "data": {
      "text/plain": [
       "{(1, 'pn'), (2, 'wt'), (3, 'sr'), (4, 'czw'), (5, 'pt'), (6, 'sb'), (7, 'nd')}"
      ]
     },
     "execution_count": 90,
     "metadata": {},
     "output_type": "execute_result"
    }
   ],
   "source": [
    "set(dni_tygodnia_krotki)"
   ]
  },
  {
   "cell_type": "code",
   "execution_count": 92,
   "id": "efd546c6-2ed0-40a6-ba82-8cec41a5763a",
   "metadata": {},
   "outputs": [
    {
     "data": {
      "text/plain": [
       "[(1, 'pn'), (5, 'pt'), (2, 'wt'), (6, 'sb'), (3, 'sr'), (7, 'nd'), (4, 'czw')]"
      ]
     },
     "execution_count": 92,
     "metadata": {},
     "output_type": "execute_result"
    }
   ],
   "source": [
    "dni_tygodnia_krotki = [\n",
    "    (1, \"pn\"),\n",
    "    (5, \"pt\"),\n",
    "    (2, \"wt\"),\n",
    "    (6, \"sb\"),\n",
    "    (3, \"sr\"),\n",
    "    (7, \"nd\"),\n",
    "    (4, \"czw\"),\n",
    "]\n",
    "dni_tygodnia_krotki"
   ]
  },
  {
   "cell_type": "code",
   "execution_count": 93,
   "id": "205a65b4-c59c-443a-8291-de4fd45c647c",
   "metadata": {},
   "outputs": [
    {
     "data": {
      "text/plain": [
       "[(1, 'pn'), (2, 'wt'), (3, 'sr'), (4, 'czw'), (5, 'pt'), (6, 'sb'), (7, 'nd')]"
      ]
     },
     "execution_count": 93,
     "metadata": {},
     "output_type": "execute_result"
    }
   ],
   "source": [
    "sorted(dni_tygodnia_krotki)"
   ]
  },
  {
   "cell_type": "code",
   "execution_count": 94,
   "id": "1e5cefee-eeb5-494b-b626-5f2b98c5e629",
   "metadata": {},
   "outputs": [
    {
     "data": {
      "text/plain": [
       "[('pn', 1), ('pt', 5), ('wt', 2), ('sb', 6), ('sr', 3), ('nd', 7), ('czw', 4)]"
      ]
     },
     "execution_count": 94,
     "metadata": {},
     "output_type": "execute_result"
    }
   ],
   "source": [
    "dni_tygodnia_krotki_2 = [\n",
    "    (\"pn\", 1),\n",
    "    (\"pt\", 5),\n",
    "    (\"wt\", 2),\n",
    "    (\"sb\", 6),\n",
    "    (\"sr\", 3),\n",
    "    (\"nd\", 7),\n",
    "    (\"czw\", 4),\n",
    "]\n",
    "dni_tygodnia_krotki_2"
   ]
  },
  {
   "cell_type": "code",
   "execution_count": 97,
   "id": "a666b256-1721-452d-9c53-e4a6b8edb5ae",
   "metadata": {},
   "outputs": [
    {
     "data": {
      "text/plain": [
       "[('czw', 4), ('nd', 7), ('pn', 1), ('pt', 5), ('sb', 6), ('sr', 3), ('wt', 2)]"
      ]
     },
     "execution_count": 97,
     "metadata": {},
     "output_type": "execute_result"
    }
   ],
   "source": [
    "sorted(dni_tygodnia_krotki_2)"
   ]
  },
  {
   "cell_type": "code",
   "execution_count": 98,
   "id": "85ad41b1-6064-4855-a442-bf9d2fd2f96c",
   "metadata": {},
   "outputs": [
    {
     "data": {
      "text/plain": [
       "[('pn', 1), ('wt', 2), ('sr', 3), ('czw', 4), ('pt', 5), ('sb', 6), ('nd', 7)]"
      ]
     },
     "execution_count": 98,
     "metadata": {},
     "output_type": "execute_result"
    }
   ],
   "source": [
    "sorted(dni_tygodnia_krotki_2, key=lambda x: x[1])"
   ]
  },
  {
   "cell_type": "code",
   "execution_count": 101,
   "id": "a0b0f225-cfc7-4693-8495-0220a8b88fc3",
   "metadata": {},
   "outputs": [
    {
     "data": {
      "text/plain": [
       "[('czw', '07'),\n",
       " ('pn', 1),\n",
       " ('wt', 2),\n",
       " ('sr', 3),\n",
       " ('pt', 5),\n",
       " ('sb', 6),\n",
       " ('nd', 7)]"
      ]
     },
     "execution_count": 101,
     "metadata": {},
     "output_type": "execute_result"
    }
   ],
   "source": [
    "# uwaga na porównywanie!\n",
    "dni_tygodnia_krotki_3 = [\n",
    "    (\"pn\", 1),\n",
    "    (\"pt\", 5),\n",
    "    (\"wt\", 2),\n",
    "    (\"sb\", 6),\n",
    "    (\"sr\", 3),\n",
    "    (\"nd\", 7),\n",
    "    (\"czw\", \"07\"),\n",
    "]\n",
    "\n",
    "sorted(dni_tygodnia_krotki_3, key=lambda x: str(x[1]))"
   ]
  },
  {
   "cell_type": "markdown",
   "id": "78a87a2c-7d41-4a05-b100-915b02ce677e",
   "metadata": {},
   "source": [
    "# Słowniki = dict"
   ]
  },
  {
   "cell_type": "code",
   "execution_count": 2,
   "id": "cd2bb3d7-fa74-4c74-88d8-91e112f198ee",
   "metadata": {},
   "outputs": [
    {
     "data": {
      "text/plain": [
       "{1, 2, 5, 34}"
      ]
     },
     "execution_count": 2,
     "metadata": {},
     "output_type": "execute_result"
    }
   ],
   "source": [
    "zbior = {1,2,34,5,5,5}\n",
    "zbior"
   ]
  },
  {
   "cell_type": "code",
   "execution_count": 4,
   "id": "bd1aff17-1a52-448d-8c47-46da6442e475",
   "metadata": {},
   "outputs": [
    {
     "data": {
      "text/plain": [
       "{'klucz': 'wartosc',\n",
       " 'klucz_a': 1,\n",
       " 'klucz_b': [1, 2, 3],\n",
       " ('pn', 1): {'temp': 10, 'cisnienie': 1024}}"
      ]
     },
     "execution_count": 4,
     "metadata": {},
     "output_type": "execute_result"
    }
   ],
   "source": [
    "slownik = {\n",
    "    \"klucz\": \"wartosc\",\n",
    "    \"klucz_a\": 1,\n",
    "    \"klucz_b\": [1,2,3],\n",
    "    (\"pn\", 1): {\"temp\": 10, \"cisnienie\": 1024}\n",
    "}\n",
    "\n",
    "slownik"
   ]
  },
  {
   "cell_type": "code",
   "execution_count": 5,
   "id": "ac312da1-5c03-472d-9c56-98ccf4e7aaae",
   "metadata": {},
   "outputs": [],
   "source": [
    "lista_slownikow = [slownik, {\n",
    "    \"klucz_a\": 10,\n",
    "    \"klucz_b\": ['a','b','c'],\n",
    "    (\"pn\", 1): {\"temp\": 10, \"cisnienie\": 1024}\n",
    "}]"
   ]
  },
  {
   "cell_type": "code",
   "execution_count": 6,
   "id": "e7a8d740-69c3-465a-ab75-0a94209e39cb",
   "metadata": {},
   "outputs": [
    {
     "data": {
      "text/plain": [
       "[{'klucz': 'wartosc',\n",
       "  'klucz_a': 1,\n",
       "  'klucz_b': [1, 2, 3],\n",
       "  ('pn', 1): {'temp': 10, 'cisnienie': 1024}},\n",
       " {'klucz_a': 10,\n",
       "  'klucz_b': ['a', 'b', 'c'],\n",
       "  ('pn', 1): {'temp': 10, 'cisnienie': 1024}}]"
      ]
     },
     "execution_count": 6,
     "metadata": {},
     "output_type": "execute_result"
    }
   ],
   "source": [
    "lista_slownikow"
   ]
  },
  {
   "cell_type": "code",
   "execution_count": 7,
   "id": "5c2ebe95-97ba-467b-b013-ad57cadeff45",
   "metadata": {},
   "outputs": [
    {
     "data": {
      "text/plain": [
       "[1, 2, 3]"
      ]
     },
     "execution_count": 7,
     "metadata": {},
     "output_type": "execute_result"
    }
   ],
   "source": [
    "slownik['klucz_b']"
   ]
  },
  {
   "cell_type": "code",
   "execution_count": 8,
   "id": "244ee09a-f0f3-414e-a7b9-eb3b7e5a0437",
   "metadata": {},
   "outputs": [
    {
     "ename": "KeyError",
     "evalue": "0",
     "output_type": "error",
     "traceback": [
      "\u001b[31m---------------------------------------------------------------------------\u001b[39m",
      "\u001b[31mKeyError\u001b[39m                                  Traceback (most recent call last)",
      "\u001b[36mCell\u001b[39m\u001b[36m \u001b[39m\u001b[32mIn[8]\u001b[39m\u001b[32m, line 1\u001b[39m\n\u001b[32m----> \u001b[39m\u001b[32m1\u001b[39m \u001b[43mslownik\u001b[49m\u001b[43m[\u001b[49m\u001b[32;43m0\u001b[39;49m\u001b[43m]\u001b[49m\n",
      "\u001b[31mKeyError\u001b[39m: 0"
     ]
    }
   ],
   "source": [
    "slownik[0]"
   ]
  },
  {
   "cell_type": "code",
   "execution_count": 9,
   "id": "94888f8e-508a-4d29-8a0d-a3d56fe332b9",
   "metadata": {},
   "outputs": [],
   "source": [
    "slownik[0] = 'wartosc dla klucza zero'"
   ]
  },
  {
   "cell_type": "code",
   "execution_count": 10,
   "id": "52871fe0-bc43-452d-9343-88c316a0e29f",
   "metadata": {},
   "outputs": [
    {
     "data": {
      "text/plain": [
       "{'klucz': 'wartosc',\n",
       " 'klucz_a': 1,\n",
       " 'klucz_b': [1, 2, 3],\n",
       " ('pn', 1): {'temp': 10, 'cisnienie': 1024},\n",
       " 0: 'wartosc dla klucza zero'}"
      ]
     },
     "execution_count": 10,
     "metadata": {},
     "output_type": "execute_result"
    }
   ],
   "source": [
    "slownik\n"
   ]
  },
  {
   "cell_type": "code",
   "execution_count": 11,
   "id": "e478dd6d-311e-4201-b408-71d078937a70",
   "metadata": {},
   "outputs": [],
   "source": [
    "slownik['klucz_a'] = 'druga wartość dla klucz_a'"
   ]
  },
  {
   "cell_type": "code",
   "execution_count": 12,
   "id": "b6cc0092-6940-4b6c-84d8-0f4b119d5ec4",
   "metadata": {},
   "outputs": [
    {
     "data": {
      "text/plain": [
       "{'klucz': 'wartosc',\n",
       " 'klucz_a': 'druga wartość dla klucz_a',\n",
       " 'klucz_b': [1, 2, 3],\n",
       " ('pn', 1): {'temp': 10, 'cisnienie': 1024},\n",
       " 0: 'wartosc dla klucza zero'}"
      ]
     },
     "execution_count": 12,
     "metadata": {},
     "output_type": "execute_result"
    }
   ],
   "source": [
    "slownik"
   ]
  },
  {
   "cell_type": "code",
   "execution_count": 16,
   "id": "3752a959-b7f7-4121-89f0-d8b648022bc6",
   "metadata": {},
   "outputs": [],
   "source": [
    "slownik_temperatury = {\n",
    "    (2025,10,10): 23,\n",
    "    (2025,10,11): 22,\n",
    "    (2025,10,12): 26,\n",
    "}"
   ]
  },
  {
   "cell_type": "code",
   "execution_count": 19,
   "id": "fbdee888-ded3-4369-9fa3-6e3e65550f2b",
   "metadata": {},
   "outputs": [
    {
     "ename": "KeyError",
     "evalue": "(2025, 10, 13)",
     "output_type": "error",
     "traceback": [
      "\u001b[31m---------------------------------------------------------------------------\u001b[39m",
      "\u001b[31mKeyError\u001b[39m                                  Traceback (most recent call last)",
      "\u001b[36mCell\u001b[39m\u001b[36m \u001b[39m\u001b[32mIn[19]\u001b[39m\u001b[32m, line 5\u001b[39m\n\u001b[32m      2\u001b[39m miesiac = \u001b[32m10\u001b[39m\n\u001b[32m      3\u001b[39m dzien = \u001b[32m13\u001b[39m\n\u001b[32m----> \u001b[39m\u001b[32m5\u001b[39m \u001b[43mslownik_temperatury\u001b[49m\u001b[43m[\u001b[49m\u001b[43m \u001b[49m\u001b[43m(\u001b[49m\u001b[43mrok\u001b[49m\u001b[43m,\u001b[49m\u001b[43m \u001b[49m\u001b[43mmiesiac\u001b[49m\u001b[43m,\u001b[49m\u001b[43m \u001b[49m\u001b[43mdzien\u001b[49m\u001b[43m)\u001b[49m\u001b[43m \u001b[49m\u001b[43m]\u001b[49m\n",
      "\u001b[31mKeyError\u001b[39m: (2025, 10, 13)"
     ]
    }
   ],
   "source": [
    "rok = 2025\n",
    "miesiac = 10\n",
    "dzien = 13\n",
    "\n",
    "slownik_temperatury[ (rok, miesiac, dzien) ]"
   ]
  },
  {
   "cell_type": "code",
   "execution_count": 20,
   "id": "22f2c5e9-4098-4f8b-8011-e957e100caeb",
   "metadata": {},
   "outputs": [
    {
     "data": {
      "text/plain": [
       "{'klucz': 'wartosc',\n",
       " 'klucz_a': 'druga wartość dla klucz_a',\n",
       " 'klucz_b': [1, 2, 3],\n",
       " ('pn', 1): {'temp': 10, 'cisnienie': 1024},\n",
       " 0: 'wartosc dla klucza zero'}"
      ]
     },
     "execution_count": 20,
     "metadata": {},
     "output_type": "execute_result"
    }
   ],
   "source": [
    "slownik"
   ]
  },
  {
   "cell_type": "code",
   "execution_count": 22,
   "id": "6cce02a1-9737-4083-ab94-9aceb5336a91",
   "metadata": {},
   "outputs": [
    {
     "ename": "KeyError",
     "evalue": "'klucz_nie_istnienjacy'",
     "output_type": "error",
     "traceback": [
      "\u001b[31m---------------------------------------------------------------------------\u001b[39m",
      "\u001b[31mKeyError\u001b[39m                                  Traceback (most recent call last)",
      "\u001b[36mCell\u001b[39m\u001b[36m \u001b[39m\u001b[32mIn[22]\u001b[39m\u001b[32m, line 1\u001b[39m\n\u001b[32m----> \u001b[39m\u001b[32m1\u001b[39m \u001b[43mslownik\u001b[49m\u001b[43m[\u001b[49m\u001b[33;43m'\u001b[39;49m\u001b[33;43mklucz_nie_istnienjacy\u001b[39;49m\u001b[33;43m'\u001b[39;49m\u001b[43m]\u001b[49m\n",
      "\u001b[31mKeyError\u001b[39m: 'klucz_nie_istnienjacy'"
     ]
    }
   ],
   "source": [
    "slownik['klucz_nie_istnienjacy']"
   ]
  },
  {
   "cell_type": "code",
   "execution_count": 24,
   "id": "9b9de02e-524d-4097-b38e-809d85b0e6d4",
   "metadata": {},
   "outputs": [
    {
     "name": "stdout",
     "output_type": "stream",
     "text": [
      "None\n"
     ]
    }
   ],
   "source": [
    "print(slownik.get('klucz_nie_istnienjacy'))"
   ]
  },
  {
   "cell_type": "code",
   "execution_count": 25,
   "id": "83b9dab8-5f2c-41e3-a1d0-4228d079e62e",
   "metadata": {},
   "outputs": [
    {
     "name": "stdout",
     "output_type": "stream",
     "text": [
      "brak wartości\n"
     ]
    }
   ],
   "source": [
    "print(slownik.get('klucz_nie_istnienjacy', \"brak wartości\"))"
   ]
  },
  {
   "cell_type": "code",
   "execution_count": 27,
   "id": "911d3fd1-7384-4959-ae0e-a3a592a6af54",
   "metadata": {},
   "outputs": [
    {
     "data": {
      "text/plain": [
       "'brak pomiaru'"
      ]
     },
     "execution_count": 27,
     "metadata": {},
     "output_type": "execute_result"
    }
   ],
   "source": [
    "slownik_temperatury.get( (2024, miesiac, dzien), \"brak pomiaru\" )"
   ]
  },
  {
   "cell_type": "markdown",
   "id": "1717b9ed-a12c-4111-82a4-32b57f684c50",
   "metadata": {},
   "source": [
    "## Zadanie\n",
    "\n",
    "Zbuduj słownik zawierający imię i nazwisko.\n",
    "Dodaj do niego klucz z wiekiem.\n",
    "\n",
    "A potem zbuduj słownik dla kolejnej osoby - od razu z imieniem, nazwiskiem i wiekiem.\n",
    "Z obu słowników zbuduj listę.\n"
   ]
  },
  {
   "cell_type": "code",
   "execution_count": 28,
   "id": "4554da34-871a-43b5-a020-b8e11f4dad6b",
   "metadata": {},
   "outputs": [
    {
     "data": {
      "text/plain": [
       "[{'imie': 'Jan', 'nazwisko': 'Nowak', 'wiek': 50},\n",
       " {'imie': 'Anna', 'nazwisko': 'Kowalska', 'wiek': 30}]"
      ]
     },
     "execution_count": 28,
     "metadata": {},
     "output_type": "execute_result"
    }
   ],
   "source": [
    "osoba_1 = {\n",
    "    \"imie\": \"Jan\",\n",
    "    \"nazwisko\": \"Nowak\",\n",
    "}\n",
    "osoba_1['wiek'] = 50\n",
    "\n",
    "osoba_2 = {\n",
    "    \"imie\": \"Anna\",\n",
    "    \"nazwisko\": \"Kowalska\",\n",
    "    \"wiek\": 30\n",
    "}\n",
    "\n",
    "ludzie = [osoba_1, osoba_2]\n",
    "ludzie"
   ]
  },
  {
   "cell_type": "code",
   "execution_count": 30,
   "id": "b0b530d5-8246-49ed-8d1c-4cb8cd8453be",
   "metadata": {},
   "outputs": [
    {
     "data": {
      "text/plain": [
       "[{'imie': 'Jan', 'nazwisko': 'Nowak', 'wiek': 50},\n",
       " {'imie': 'Anna', 'nazwisko': 'Kowalska', 'wiek': 30}]"
      ]
     },
     "execution_count": 30,
     "metadata": {},
     "output_type": "execute_result"
    }
   ],
   "source": [
    "# a posortować po wieku? malejąco?\n",
    "\n",
    "sorted(ludzie, key=lambda o: o.get('wiek', 0), reverse=True)"
   ]
  },
  {
   "cell_type": "code",
   "execution_count": 31,
   "id": "543e74fa-aa8c-4ee6-91cf-3728471f82a1",
   "metadata": {},
   "outputs": [
    {
     "data": {
      "text/plain": [
       "[{'imie': 'Jan', 'nazwisko': 'Nowak', 'wiek': 50},\n",
       " {'imie': 'Anna', 'nazwisko': 'Kowalska', 'wiek': 30}]"
      ]
     },
     "execution_count": 31,
     "metadata": {},
     "output_type": "execute_result"
    }
   ],
   "source": [
    "sorted(ludzie, key=lambda o: o.get('nazwisko', 0), reverse=True)"
   ]
  },
  {
   "cell_type": "code",
   "execution_count": null,
   "id": "da2dbe98-9ec5-4705-84d3-c57f3ce11c1d",
   "metadata": {},
   "outputs": [],
   "source": []
  }
 ],
 "metadata": {
  "kernelspec": {
   "display_name": "Python 3 (ipykernel)",
   "language": "python",
   "name": "python3"
  },
  "language_info": {
   "codemirror_mode": {
    "name": "ipython",
    "version": 3
   },
   "file_extension": ".py",
   "mimetype": "text/x-python",
   "name": "python",
   "nbconvert_exporter": "python",
   "pygments_lexer": "ipython3",
   "version": "3.13.9"
  }
 },
 "nbformat": 4,
 "nbformat_minor": 5
}
