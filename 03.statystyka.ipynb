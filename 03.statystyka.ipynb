{
 "cells": [
  {
   "cell_type": "markdown",
   "id": "4a030b9e-ad30-4977-8064-80f9f2321d24",
   "metadata": {},
   "source": [
    "# Statystyka"
   ]
  },
  {
   "cell_type": "markdown",
   "id": "658688cf-4b29-4dd3-94df-fa248782dba7",
   "metadata": {},
   "source": [
    "## Średnia\n",
    "\n",
    "Suma wszystlich liczb podzielona przez ich liczbę"
   ]
  },
  {
   "cell_type": "code",
   "execution_count": 1,
   "id": "92a25db5-df77-4892-9307-4ce5d2d86692",
   "metadata": {},
   "outputs": [
    {
     "data": {
      "text/plain": [
       "7"
      ]
     },
     "execution_count": 1,
     "metadata": {},
     "output_type": "execute_result"
    }
   ],
   "source": [
    "dane = [1, 2, 6, 8, 12, 4, 1]\n",
    "\n",
    "len(dane)\n",
    "\n"
   ]
  },
  {
   "cell_type": "code",
   "execution_count": 2,
   "id": "6bc91803-1f78-4c24-9e98-be521093a261",
   "metadata": {},
   "outputs": [
    {
     "data": {
      "text/plain": [
       "34"
      ]
     },
     "execution_count": 2,
     "metadata": {},
     "output_type": "execute_result"
    }
   ],
   "source": [
    "sum(dane)"
   ]
  },
  {
   "cell_type": "code",
   "execution_count": 3,
   "id": "cadb6f23-e985-4310-93ed-84d8cbf9f259",
   "metadata": {},
   "outputs": [
    {
     "data": {
      "text/plain": [
       "12"
      ]
     },
     "execution_count": 3,
     "metadata": {},
     "output_type": "execute_result"
    }
   ],
   "source": [
    "max(dane)"
   ]
  },
  {
   "cell_type": "code",
   "execution_count": 4,
   "id": "07e9ca83-bc67-4f8d-b898-46492f5ef535",
   "metadata": {},
   "outputs": [
    {
     "data": {
      "text/plain": [
       "1"
      ]
     },
     "execution_count": 4,
     "metadata": {},
     "output_type": "execute_result"
    }
   ],
   "source": [
    "min(dane)"
   ]
  },
  {
   "cell_type": "code",
   "execution_count": 5,
   "id": "1a258fde-db89-4618-ae81-44a5dc87152f",
   "metadata": {},
   "outputs": [
    {
     "data": {
      "text/plain": [
       "4.857142857142857"
      ]
     },
     "execution_count": 5,
     "metadata": {},
     "output_type": "execute_result"
    }
   ],
   "source": [
    "srednia = sum(dane) / len(dane)\n",
    "srednia"
   ]
  },
  {
   "cell_type": "markdown",
   "id": "615d56e2-1049-4d90-883e-49f304a61c96",
   "metadata": {},
   "source": [
    "## Mediana\n",
    "\n",
    "Wartość środkowa - dzieli zbór na połowę poniżej mediany i połowę powyżej mediany."
   ]
  },
  {
   "cell_type": "code",
   "execution_count": 12,
   "id": "1131ea32-a4c4-488a-a9cc-209c7773155f",
   "metadata": {},
   "outputs": [
    {
     "data": {
      "text/plain": [
       "[160, 165, 172, 176, 180, 180, 183, 190]"
      ]
     },
     "execution_count": 12,
     "metadata": {},
     "output_type": "execute_result"
    }
   ],
   "source": [
    "wzrost = ( 165, 176, 160, 180, 183, 172, 190, 180 )\n",
    "wzrost = sorted(wzrost)\n",
    "wzrost"
   ]
  },
  {
   "cell_type": "code",
   "execution_count": 13,
   "id": "d3a7ee9a-0a11-453b-b2a8-ec49959b57f3",
   "metadata": {
    "scrolled": true
   },
   "outputs": [
    {
     "data": {
      "text/plain": [
       "4"
      ]
     },
     "execution_count": 13,
     "metadata": {},
     "output_type": "execute_result"
    }
   ],
   "source": [
    "len(wzrost) // 2"
   ]
  },
  {
   "cell_type": "code",
   "execution_count": 14,
   "id": "d5a6d2c7-fb4e-49d0-8a9a-fc0c369e3dcd",
   "metadata": {},
   "outputs": [
    {
     "data": {
      "text/plain": [
       "178.0"
      ]
     },
     "execution_count": 14,
     "metadata": {},
     "output_type": "execute_result"
    }
   ],
   "source": [
    "if len(wzrost) % 2 == 1:\n",
    "    mediana = wzrost[ len(wzrost) // 2  ]\n",
    "else:\n",
    "    mediana = ( wzrost[ (len(wzrost) // 2) - 1 ]  + wzrost[ len(wzrost) // 2] ) / 2\n",
    "    \n",
    "mediana"
   ]
  },
  {
   "cell_type": "markdown",
   "id": "43dcdee2-22c4-4650-821f-bf226504de2f",
   "metadata": {},
   "source": [
    "## Rozstęp\n",
    "\n",
    "Różnica między wartością maksymalną a minimalną"
   ]
  },
  {
   "cell_type": "code",
   "execution_count": 15,
   "id": "5192693b-9442-4318-a71b-d0cfb075f080",
   "metadata": {},
   "outputs": [
    {
     "data": {
      "text/plain": [
       "30"
      ]
     },
     "execution_count": 15,
     "metadata": {},
     "output_type": "execute_result"
    }
   ],
   "source": [
    "rozstep = max(wzrost) - min(wzrost)\n",
    "rozstep"
   ]
  },
  {
   "cell_type": "markdown",
   "id": "f5730d9f-51de-44b2-883f-eed0136da576",
   "metadata": {},
   "source": [
    "## Wariancja\n",
    "\n",
    "Miara jak bardzo wartości różnią się od średniej."
   ]
  },
  {
   "cell_type": "code",
   "execution_count": 16,
   "id": "2373a67e-f037-405e-a5f1-19ae966def04",
   "metadata": {},
   "outputs": [
    {
     "data": {
      "text/plain": [
       "[160, 165, 172, 176, 180, 180, 183, 190]"
      ]
     },
     "execution_count": 16,
     "metadata": {},
     "output_type": "execute_result"
    }
   ],
   "source": [
    "wzrost"
   ]
  },
  {
   "cell_type": "code",
   "execution_count": 17,
   "id": "bb9e3da3-3aad-4335-bd91-67b7ed44bf98",
   "metadata": {},
   "outputs": [
    {
     "data": {
      "text/plain": [
       "[248.0625, 115.5625, 14.0625, 0.0625, 18.0625, 18.0625, 52.5625, 203.0625]"
      ]
     },
     "execution_count": 17,
     "metadata": {},
     "output_type": "execute_result"
    }
   ],
   "source": [
    "sr_wzrost = sum(wzrost) / len(wzrost)\n",
    "\n",
    "roznica_od_sr_wzrost = [ (sr_wzrost - w)**2 for w in wzrost  ]\n",
    "roznica_od_sr_wzrost"
   ]
  },
  {
   "cell_type": "code",
   "execution_count": 25,
   "id": "eb4bbe33-126f-4729-b1db-ef332cf5f10e",
   "metadata": {},
   "outputs": [
    {
     "data": {
      "text/plain": [
       "95.64285714285714"
      ]
     },
     "execution_count": 25,
     "metadata": {},
     "output_type": "execute_result"
    }
   ],
   "source": [
    "srednia_roznica = sum(roznica_od_sr_wzrost) / (len(roznica_od_sr_wzrost) -1 )\n",
    "srednia_roznica"
   ]
  },
  {
   "cell_type": "markdown",
   "id": "48ff6430-a506-4801-83ed-517370fa9699",
   "metadata": {},
   "source": [
    "## Odchylenie standardowe\n",
    "\n",
    "Pierwiastek z wariancji"
   ]
  },
  {
   "cell_type": "code",
   "execution_count": 27,
   "id": "ba741d71-47bb-4224-b04f-3136ff6000db",
   "metadata": {},
   "outputs": [
    {
     "data": {
      "text/plain": [
       "9.779716618739888"
      ]
     },
     "execution_count": 27,
     "metadata": {},
     "output_type": "execute_result"
    }
   ],
   "source": [
    "odchylenie_std = srednia_roznica**0.5 # pierwiastek kwadratowy = podniesienie do potęgi 0.5\n",
    "odchylenie_std"
   ]
  },
  {
   "cell_type": "markdown",
   "id": "7059c502-b7b5-4ca0-b5d4-96db3d4619e5",
   "metadata": {},
   "source": [
    "# Gotowe funkcje"
   ]
  },
  {
   "cell_type": "code",
   "execution_count": 20,
   "id": "aeab64ab-f77b-4e74-bb6c-9f84fca1b063",
   "metadata": {},
   "outputs": [],
   "source": [
    "import statistics"
   ]
  },
  {
   "cell_type": "code",
   "execution_count": 21,
   "id": "275fec04-1329-43b6-8148-3280a642b4bb",
   "metadata": {},
   "outputs": [
    {
     "data": {
      "text/plain": [
       "4.857142857142857"
      ]
     },
     "execution_count": 21,
     "metadata": {},
     "output_type": "execute_result"
    }
   ],
   "source": [
    "# srednia\n",
    "statistics.mean(dane)"
   ]
  },
  {
   "cell_type": "code",
   "execution_count": 23,
   "id": "9439fbdd-0d4a-43c7-81fb-38ebdb3ab994",
   "metadata": {},
   "outputs": [
    {
     "data": {
      "text/plain": [
       "178.0"
      ]
     },
     "execution_count": 23,
     "metadata": {},
     "output_type": "execute_result"
    }
   ],
   "source": [
    "# mediana\n",
    "statistics.median(wzrost)"
   ]
  },
  {
   "cell_type": "code",
   "execution_count": 24,
   "id": "0f87622e-3ff6-4794-abaa-c9ec6c2c4b10",
   "metadata": {},
   "outputs": [
    {
     "data": {
      "text/plain": [
       "95.64285714285714"
      ]
     },
     "execution_count": 24,
     "metadata": {},
     "output_type": "execute_result"
    }
   ],
   "source": [
    "# wariancja\n",
    "statistics.variance(wzrost)"
   ]
  },
  {
   "cell_type": "code",
   "execution_count": 26,
   "id": "187afe9b-b473-4655-9ffd-90e8cade50f7",
   "metadata": {},
   "outputs": [
    {
     "data": {
      "text/plain": [
       "9.779716618739888"
      ]
     },
     "execution_count": 26,
     "metadata": {},
     "output_type": "execute_result"
    }
   ],
   "source": [
    "# odchylenie stndardowe\n",
    "statistics.stdev(wzrost)"
   ]
  },
  {
   "cell_type": "code",
   "execution_count": 28,
   "id": "2adb4a5e-048f-4427-9d75-e9209dd8eb37",
   "metadata": {},
   "outputs": [
    {
     "data": {
      "text/plain": [
       "180"
      ]
     },
     "execution_count": 28,
     "metadata": {},
     "output_type": "execute_result"
    }
   ],
   "source": [
    "# dominanta = moda\n",
    "statistics.mode(wzrost)"
   ]
  },
  {
   "cell_type": "markdown",
   "id": "04c70601-d994-4f02-9361-c60bb4a58758",
   "metadata": {},
   "source": [
    "## Zadanie\n",
    "\n",
    "Policz dominantę \"na piechotę\" - nie korzystając z funkcji wbudowanych.\n",
    "\n",
    "Hint:\n",
    "- przejdź przez kolejne elementy listy\n",
    "- sprawdź czy dany element już był wcześniej\n",
    "    - jeśli nie to stwórz w słowniku nowy klucz i przypisz mu wartość 1\n",
    "    - jeśli był - dodaj wartość 1 do licznika (wartości dla klucza w słowniku)\n",
    "- znajdz i wypisz klucz o największej wartości"
   ]
  },
  {
   "cell_type": "code",
   "execution_count": 29,
   "id": "decd2dc5-635d-4fa5-a907-eab1c57e397a",
   "metadata": {},
   "outputs": [
    {
     "name": "stdout",
     "output_type": "stream",
     "text": [
      "k1\n",
      "k2\n",
      "k3\n"
     ]
    }
   ],
   "source": [
    "# przechodzenie przez słownik\n",
    "slownik = {\n",
    "    'k1': 1,\n",
    "    'k2': 20,\n",
    "    'k3': 'ala ma kota'\n",
    "}\n",
    "\n",
    "for element in slownik:\n",
    "    print(element)"
   ]
  },
  {
   "cell_type": "code",
   "execution_count": 30,
   "id": "8d32a5da-54e0-4836-81e1-17ea6ac0ca1a",
   "metadata": {},
   "outputs": [
    {
     "data": {
      "text/plain": [
       "dict_keys(['k1', 'k2', 'k3'])"
      ]
     },
     "execution_count": 30,
     "metadata": {},
     "output_type": "execute_result"
    }
   ],
   "source": [
    "slownik.keys()"
   ]
  },
  {
   "cell_type": "code",
   "execution_count": 31,
   "id": "ff699ca3-7945-4c08-99a3-e29cbf675d26",
   "metadata": {},
   "outputs": [
    {
     "data": {
      "text/plain": [
       "dict_values([1, 20, 'ala ma kota'])"
      ]
     },
     "execution_count": 31,
     "metadata": {},
     "output_type": "execute_result"
    }
   ],
   "source": [
    "slownik.values()"
   ]
  },
  {
   "cell_type": "code",
   "execution_count": 33,
   "id": "4da1770b-8943-4b7e-937b-611c55938843",
   "metadata": {},
   "outputs": [
    {
     "data": {
      "text/plain": [
       "[('k1', 1), ('k2', 20), ('k3', 'ala ma kota')]"
      ]
     },
     "execution_count": 33,
     "metadata": {},
     "output_type": "execute_result"
    }
   ],
   "source": [
    "list(   zip(slownik.keys(), slownik.values())   )"
   ]
  },
  {
   "cell_type": "code",
   "execution_count": 34,
   "id": "4efbe5a8-28e5-424e-b7d0-a7d7f3daaf9b",
   "metadata": {},
   "outputs": [
    {
     "name": "stdout",
     "output_type": "stream",
     "text": [
      "kKlucz: k1, Wartość: 1\n",
      "kKlucz: k2, Wartość: 20\n",
      "kKlucz: k3, Wartość: ala ma kota\n"
     ]
    }
   ],
   "source": [
    "for k, v in zip(slownik.keys(), slownik.values()):\n",
    "    print(f\"Klucz: {k}, Wartość: {v}\")"
   ]
  },
  {
   "cell_type": "code",
   "execution_count": 35,
   "id": "34c3856f-6066-4e96-b58d-9dc020ffbe99",
   "metadata": {},
   "outputs": [
    {
     "data": {
      "text/plain": [
       "dict_items([('k1', 1), ('k2', 20), ('k3', 'ala ma kota')])"
      ]
     },
     "execution_count": 35,
     "metadata": {},
     "output_type": "execute_result"
    }
   ],
   "source": [
    "slownik.items()"
   ]
  },
  {
   "cell_type": "code",
   "execution_count": 36,
   "id": "6af9dbdf-87f3-43f2-825e-b4235721a217",
   "metadata": {},
   "outputs": [
    {
     "name": "stdout",
     "output_type": "stream",
     "text": [
      "Klucz: k1, Wartość: 1\n",
      "Klucz: k2, Wartość: 20\n",
      "Klucz: k3, Wartość: ala ma kota\n"
     ]
    }
   ],
   "source": [
    "for k, v in slownik.items():\n",
    "    print(f\"Klucz: {k}, Wartość: {v}\")"
   ]
  },
  {
   "cell_type": "code",
   "execution_count": null,
   "id": "210e919d-75c1-4b7c-b7d4-d5ecffe0b0f5",
   "metadata": {},
   "outputs": [],
   "source": [
    "s = {}\n",
    "# s[nowy_klucz] = wartosc\n",
    "\n",
    "# s[klucz] = s[klucz] + 1"
   ]
  },
  {
   "cell_type": "markdown",
   "id": "dadf3869-65ad-49e7-8f08-1337411af97c",
   "metadata": {},
   "source": [
    "## rozwiązanie zadania"
   ]
  },
  {
   "cell_type": "code",
   "execution_count": 41,
   "id": "4df50847-4685-4489-ace1-b91b811c80b5",
   "metadata": {},
   "outputs": [],
   "source": [
    "dane = [ 165, 176, 160, 180, 183, 172, 190, 180, 200, 200, 200, 200 ]"
   ]
  },
  {
   "cell_type": "code",
   "execution_count": 42,
   "id": "a4aa1301-95e2-4094-b495-dad11bfde5b3",
   "metadata": {},
   "outputs": [
    {
     "data": {
      "text/plain": [
       "{165: 1, 176: 1, 160: 1, 180: 2, 183: 1, 172: 1, 190: 1, 200: 4}"
      ]
     },
     "execution_count": 42,
     "metadata": {},
     "output_type": "execute_result"
    }
   ],
   "source": [
    "licznik_wystapien = {}\n",
    "\n",
    "# przejdź przez kolejne elementy listy\n",
    "for el in dane:\n",
    "    # sprawdź czy dany element już był wcześniej\n",
    "    if el in licznik_wystapien.keys():\n",
    "        # jeśli był - dodaj wartość 1 do licznika (wartości dla klucza w słowniku)\n",
    "        licznik_wystapien[el] = licznik_wystapien[el] + 1\n",
    "        # licznik_wystapien[el] += 1\n",
    "    else:\n",
    "        # jeśli nie to stwórz w słowniku nowy klucz i przypisz mu wartość 1\n",
    "        licznik_wystapien[el] = 1\n",
    "\n",
    "licznik_wystapien"
   ]
  },
  {
   "cell_type": "code",
   "execution_count": 43,
   "id": "502baf5f-b3b4-4401-87f0-3a35ef92f37a",
   "metadata": {},
   "outputs": [
    {
     "name": "stdout",
     "output_type": "stream",
     "text": [
      "Dominanta to 200, występuje 4 razy\n"
     ]
    }
   ],
   "source": [
    "# znajdz i wypisz klucz o największej wartości\n",
    "max_val = -99999\n",
    "for k,v in licznik_wystapien.items():\n",
    "    if v > max_val:\n",
    "        max_val = v\n",
    "        klucz_z_max_val = k\n",
    "\n",
    "print(f\"Dominanta to {klucz_z_max_val}, występuje {max_val} razy\")\n"
   ]
  },
  {
   "cell_type": "code",
   "execution_count": 44,
   "id": "d9749591-08a9-4fe7-be85-c26b11ff96e7",
   "metadata": {},
   "outputs": [
    {
     "data": {
      "text/plain": [
       "200"
      ]
     },
     "execution_count": 44,
     "metadata": {},
     "output_type": "execute_result"
    }
   ],
   "source": [
    "statistics.mode(dane)"
   ]
  },
  {
   "cell_type": "markdown",
   "id": "a6efce8f-45ae-4b1d-8314-1b7ab669800a",
   "metadata": {},
   "source": [
    "## lekka modyfikacja - która pizza jest najpopularniejsza?\n"
   ]
  },
  {
   "cell_type": "code",
   "execution_count": 48,
   "id": "2be7eaf3-56e2-4d93-8f6c-b31bff7eb038",
   "metadata": {},
   "outputs": [
    {
     "data": {
      "text/plain": [
       "['margerita',\n",
       " 'margerita',\n",
       " 'margerita',\n",
       " 'margerita',\n",
       " 'margerita',\n",
       " 'margerita',\n",
       " 'margerita',\n",
       " 'margerita',\n",
       " 'margerita',\n",
       " 'margerita',\n",
       " 'hawajska',\n",
       " 'hawajska',\n",
       " 'hawajska',\n",
       " 'hawajska',\n",
       " 'capriciosa',\n",
       " 'capriciosa',\n",
       " 'pepperoni',\n",
       " 'pepperoni',\n",
       " 'pepperoni',\n",
       " 'pepperoni',\n",
       " 'pepperoni',\n",
       " 'pepperoni',\n",
       " 'pepperoni',\n",
       " 'pepperoni',\n",
       " 'pepperoni',\n",
       " 'pepperoni',\n",
       " 'pepperoni',\n",
       " 'pepperoni',\n",
       " 'pepperoni',\n",
       " 'pepperoni',\n",
       " 'pepperoni']"
      ]
     },
     "execution_count": 48,
     "metadata": {},
     "output_type": "execute_result"
    }
   ],
   "source": [
    "['margerita'] * 10 + ['hawajska'] * 4 + ['capriciosa'] * 2 + ['pepperoni'] * 15"
   ]
  },
  {
   "cell_type": "code",
   "execution_count": 57,
   "id": "ae438864-a8fa-487f-878b-ea4f3bd0b6ee",
   "metadata": {},
   "outputs": [
    {
     "name": "stdout",
     "output_type": "stream",
     "text": [
      "Dominanta (najpopularniejsza pizza) to pepperoni, występuje 15 razy\n"
     ]
    }
   ],
   "source": [
    "dane = ['margerita'] * 3 + ['hawajska'] * 6 + ['capriciosa'] * 7 + ['pepperoni'] * 15\n",
    "\n",
    "licznik_wystapien = {}\n",
    "\n",
    "# przejdź przez kolejne elementy listy\n",
    "for el in dane:\n",
    "    # sprawdź czy dany element już był wcześniej\n",
    "    if el in licznik_wystapien.keys():\n",
    "        # jeśli był - dodaj wartość 1 do licznika (wartości dla klucza w słowniku)\n",
    "        licznik_wystapien[el] = licznik_wystapien[el] + 1\n",
    "        # licznik_wystapien[el] += 1\n",
    "    else:\n",
    "        # jeśli nie to stwórz w słowniku nowy klucz i przypisz mu wartość 1\n",
    "        licznik_wystapien[el] = 1\n",
    "\n",
    "max_val = -99999\n",
    "for k,v in licznik_wystapien.items():\n",
    "    if v > max_val:\n",
    "        max_val = v\n",
    "        klucz_z_max_val = k\n",
    "\n",
    "print(f\"Dominanta (najpopularniejsza pizza) to {klucz_z_max_val}, występuje {max_val} razy\")"
   ]
  },
  {
   "cell_type": "code",
   "execution_count": 58,
   "id": "32d31a17-ce1e-4715-8a16-d88f88cfec9a",
   "metadata": {},
   "outputs": [
    {
     "data": {
      "text/plain": [
       "{'margerita': 3, 'hawajska': 6, 'capriciosa': 7, 'pepperoni': 15}"
      ]
     },
     "execution_count": 58,
     "metadata": {},
     "output_type": "execute_result"
    }
   ],
   "source": [
    "licznik_wystapien"
   ]
  },
  {
   "cell_type": "code",
   "execution_count": 59,
   "id": "0e8548d7-8419-4a44-abb0-78f1f79e73ba",
   "metadata": {},
   "outputs": [
    {
     "data": {
      "text/plain": [
       "['capriciosa', 'hawajska', 'margerita', 'pepperoni']"
      ]
     },
     "execution_count": 59,
     "metadata": {},
     "output_type": "execute_result"
    }
   ],
   "source": [
    "# sortowanie slowników\n",
    "\n",
    "sorted( licznik_wystapien ) "
   ]
  },
  {
   "cell_type": "code",
   "execution_count": 60,
   "id": "26c371e7-dcd7-48ec-99e9-4169315f1445",
   "metadata": {},
   "outputs": [
    {
     "data": {
      "text/plain": [
       "['capriciosa', 'hawajska', 'margerita', 'pepperoni']"
      ]
     },
     "execution_count": 60,
     "metadata": {},
     "output_type": "execute_result"
    }
   ],
   "source": [
    "sorted( licznik_wystapien.keys() ) "
   ]
  },
  {
   "cell_type": "code",
   "execution_count": 61,
   "id": "5cc1badd-d0d2-4e77-9df1-0d4c38dd4201",
   "metadata": {},
   "outputs": [
    {
     "data": {
      "text/plain": [
       "[3, 6, 7, 15]"
      ]
     },
     "execution_count": 61,
     "metadata": {},
     "output_type": "execute_result"
    }
   ],
   "source": [
    "sorted( licznik_wystapien.values() ) "
   ]
  },
  {
   "cell_type": "code",
   "execution_count": 62,
   "id": "2c9aa46c-c21b-4e47-b9c5-c24e9ab4ab7c",
   "metadata": {},
   "outputs": [
    {
     "data": {
      "text/plain": [
       "[('capriciosa', 7), ('hawajska', 6), ('margerita', 3), ('pepperoni', 15)]"
      ]
     },
     "execution_count": 62,
     "metadata": {},
     "output_type": "execute_result"
    }
   ],
   "source": [
    "sorted( licznik_wystapien.items() )  # sortowanie po kluczach - wynik to lista krotek"
   ]
  },
  {
   "cell_type": "code",
   "execution_count": 63,
   "id": "77552005-9533-40a0-b370-90b66918616d",
   "metadata": {},
   "outputs": [
    {
     "data": {
      "text/plain": [
       "[('margerita', 3), ('hawajska', 6), ('capriciosa', 7), ('pepperoni', 15)]"
      ]
     },
     "execution_count": 63,
     "metadata": {},
     "output_type": "execute_result"
    }
   ],
   "source": [
    "sorted( licznik_wystapien.items(), key=lambda kv: kv[1] )  # sortowanie po wartościach - wynik to lista krotek"
   ]
  },
  {
   "cell_type": "code",
   "execution_count": 65,
   "id": "94732308-a5ef-498b-a28f-56eef8d8a6ad",
   "metadata": {},
   "outputs": [
    {
     "data": {
      "text/plain": [
       "{'margerita': 3, 'hawajska': 6, 'capriciosa': 7, 'pepperoni': 15}"
      ]
     },
     "execution_count": 65,
     "metadata": {},
     "output_type": "execute_result"
    }
   ],
   "source": [
    "lista_krotek = [('margerita', 3), ('hawajska', 6), ('capriciosa', 7), ('pepperoni', 15)]\n",
    "\n",
    "# dict-comprehention\n",
    "{ k:v for k,v in lista_krotek }\n",
    "    "
   ]
  },
  {
   "cell_type": "code",
   "execution_count": 66,
   "id": "6fa896e9-57a0-457d-8486-cb28951fc950",
   "metadata": {},
   "outputs": [
    {
     "data": {
      "text/plain": [
       "{'margerita': 3, 'hawajska': 6, 'capriciosa': 7, 'pepperoni': 15}"
      ]
     },
     "execution_count": 66,
     "metadata": {},
     "output_type": "execute_result"
    }
   ],
   "source": [
    "licznik_wystapien"
   ]
  },
  {
   "cell_type": "code",
   "execution_count": 67,
   "id": "77aacbad-4f35-468f-a51b-a8f3b6d55e56",
   "metadata": {},
   "outputs": [
    {
     "data": {
      "text/plain": [
       "('pepperoni', 15)"
      ]
     },
     "execution_count": 67,
     "metadata": {},
     "output_type": "execute_result"
    }
   ],
   "source": [
    "sorted( licznik_wystapien.items(), key=lambda kv: kv[1] )[-1]"
   ]
  },
  {
   "cell_type": "code",
   "execution_count": 68,
   "id": "2fea0c2f-2c6f-4a43-91d3-e1288e57c862",
   "metadata": {},
   "outputs": [],
   "source": [
    "from collections import Counter"
   ]
  },
  {
   "cell_type": "code",
   "execution_count": 69,
   "id": "5906c95b-6bcf-4468-8d67-7235c09434dc",
   "metadata": {},
   "outputs": [
    {
     "data": {
      "text/plain": [
       "['margerita',\n",
       " 'margerita',\n",
       " 'margerita',\n",
       " 'hawajska',\n",
       " 'hawajska',\n",
       " 'hawajska',\n",
       " 'hawajska',\n",
       " 'hawajska',\n",
       " 'hawajska',\n",
       " 'capriciosa',\n",
       " 'capriciosa',\n",
       " 'capriciosa',\n",
       " 'capriciosa',\n",
       " 'capriciosa',\n",
       " 'capriciosa',\n",
       " 'capriciosa',\n",
       " 'pepperoni',\n",
       " 'pepperoni',\n",
       " 'pepperoni',\n",
       " 'pepperoni',\n",
       " 'pepperoni',\n",
       " 'pepperoni',\n",
       " 'pepperoni',\n",
       " 'pepperoni',\n",
       " 'pepperoni',\n",
       " 'pepperoni',\n",
       " 'pepperoni',\n",
       " 'pepperoni',\n",
       " 'pepperoni',\n",
       " 'pepperoni',\n",
       " 'pepperoni']"
      ]
     },
     "execution_count": 69,
     "metadata": {},
     "output_type": "execute_result"
    }
   ],
   "source": [
    "dane"
   ]
  },
  {
   "cell_type": "code",
   "execution_count": 71,
   "id": "58600919-3f28-47c2-a51b-24e0dc175989",
   "metadata": {},
   "outputs": [
    {
     "data": {
      "text/plain": [
       "Counter({'pepperoni': 15, 'capriciosa': 7, 'hawajska': 6, 'margerita': 3})"
      ]
     },
     "execution_count": 71,
     "metadata": {},
     "output_type": "execute_result"
    }
   ],
   "source": [
    "dane_counter = Counter(dane)\n",
    "dane_counter"
   ]
  },
  {
   "cell_type": "code",
   "execution_count": 76,
   "id": "0d800989-cd0e-4f03-b6bd-b8c54b2734de",
   "metadata": {},
   "outputs": [
    {
     "data": {
      "text/plain": [
       "('pepperoni', 15)"
      ]
     },
     "execution_count": 76,
     "metadata": {},
     "output_type": "execute_result"
    }
   ],
   "source": [
    "dane_counter.most_common()[0]"
   ]
  },
  {
   "cell_type": "code",
   "execution_count": null,
   "id": "87204c6a-f34c-44d3-9c1d-d71ddc4179ba",
   "metadata": {},
   "outputs": [],
   "source": [
    "# najczęściej występujące słowo w pliku\n",
    "tresc = Path(nazwa_pliku).read_text()\n",
    "slowa = tresc.lower().split()\n",
    "licznik = Counter(slowa)\n",
    "licznik.most_common()[0]\n",
    "\n"
   ]
  },
  {
   "cell_type": "code",
   "execution_count": 78,
   "id": "c8e1ede9-269d-44be-ab30-013fa5c231d9",
   "metadata": {},
   "outputs": [
    {
     "data": {
      "text/plain": [
       "Counter({'ma': 2, 'ala': 1, 'kota,': 1, 'kota': 1, 'też': 1, 'janek': 1})"
      ]
     },
     "execution_count": 78,
     "metadata": {},
     "output_type": "execute_result"
    }
   ],
   "source": [
    "Counter(\"ala ma kota, kota ma też janek\".split())"
   ]
  },
  {
   "cell_type": "code",
   "execution_count": null,
   "id": "cc0340b4-bbb8-41f6-aa67-029ee506008d",
   "metadata": {},
   "outputs": [],
   "source": []
  }
 ],
 "metadata": {
  "kernelspec": {
   "display_name": "Python 3 (ipykernel)",
   "language": "python",
   "name": "python3"
  },
  "language_info": {
   "codemirror_mode": {
    "name": "ipython",
    "version": 3
   },
   "file_extension": ".py",
   "mimetype": "text/x-python",
   "name": "python",
   "nbconvert_exporter": "python",
   "pygments_lexer": "ipython3",
   "version": "3.13.9"
  }
 },
 "nbformat": 4,
 "nbformat_minor": 5
}
