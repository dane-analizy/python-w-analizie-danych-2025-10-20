{
 "cells": [
  {
   "cell_type": "code",
   "execution_count": 1,
   "id": "84505ea1-b9e0-479a-b66b-6171ada4fbb9",
   "metadata": {},
   "outputs": [
    {
     "name": "stdout",
     "output_type": "stream",
     "text": [
      "Requirement already satisfied: numpy in c:\\users\\lemur\\desktop\\work\\szkolenie_comarch\\2025_10_20-22\\kod\\.venv\\lib\\site-packages (2.3.4)\n"
     ]
    }
   ],
   "source": [
    "!pip install numpy"
   ]
  },
  {
   "cell_type": "code",
   "execution_count": 2,
   "id": "f21b3a1b-8aec-4cb1-a9e7-7018e7bd41e4",
   "metadata": {},
   "outputs": [],
   "source": [
    "import numpy as np"
   ]
  },
  {
   "cell_type": "code",
   "execution_count": 7,
   "id": "cde8ee4f-2986-42eb-9a52-9aaa9a3db6d0",
   "metadata": {},
   "outputs": [
    {
     "data": {
      "text/plain": [
       "array([1., 2., 3.])"
      ]
     },
     "execution_count": 7,
     "metadata": {},
     "output_type": "execute_result"
    }
   ],
   "source": [
    "tablica = np.array( [1, 2.0, 3] )\n",
    "tablica"
   ]
  },
  {
   "cell_type": "code",
   "execution_count": 8,
   "id": "e94447dc-bfd2-498c-aa06-8b7f3b21318d",
   "metadata": {},
   "outputs": [
    {
     "data": {
      "text/plain": [
       "array(['a', 'bc', 'def'], dtype='<U3')"
      ]
     },
     "execution_count": 8,
     "metadata": {},
     "output_type": "execute_result"
    }
   ],
   "source": [
    "np.array( ['a', 'bc', 'def'] )"
   ]
  },
  {
   "cell_type": "code",
   "execution_count": 9,
   "id": "02272c2a-ec4f-47b4-b693-bd8ec72cb938",
   "metadata": {},
   "outputs": [
    {
     "data": {
      "text/plain": [
       "array([{'a': 1}, {'bc': 41}, {'def': 2141}], dtype=object)"
      ]
     },
     "execution_count": 9,
     "metadata": {},
     "output_type": "execute_result"
    }
   ],
   "source": [
    "np.array( [{'a': 1}, {'bc':41}, {'def':2141}] )"
   ]
  },
  {
   "cell_type": "code",
   "execution_count": 10,
   "id": "80094aa3-6008-4f2a-ad2c-01819ce1d78a",
   "metadata": {},
   "outputs": [
    {
     "data": {
      "text/plain": [
       "array([1., 2., 3.])"
      ]
     },
     "execution_count": 10,
     "metadata": {},
     "output_type": "execute_result"
    }
   ],
   "source": [
    "tablica = np.array( [1, 2.0, 3] )\n",
    "tablica"
   ]
  },
  {
   "cell_type": "code",
   "execution_count": 14,
   "id": "2401ced3-4089-470b-8565-32a642a81d52",
   "metadata": {},
   "outputs": [
    {
     "data": {
      "text/plain": [
       "np.float64(2.0)"
      ]
     },
     "execution_count": 14,
     "metadata": {},
     "output_type": "execute_result"
    }
   ],
   "source": [
    "tablica[1]"
   ]
  },
  {
   "cell_type": "code",
   "execution_count": 13,
   "id": "b613d877-9b92-496d-a154-0320ffa7b23e",
   "metadata": {},
   "outputs": [
    {
     "name": "stdout",
     "output_type": "stream",
     "text": [
      "2.0\n"
     ]
    }
   ],
   "source": [
    "print(tablica[1])"
   ]
  },
  {
   "cell_type": "code",
   "execution_count": 15,
   "id": "0235a2e4-ab89-4e3e-80f5-f1926fbf8f18",
   "metadata": {},
   "outputs": [
    {
     "data": {
      "text/plain": [
       "np.float64(3.0)"
      ]
     },
     "execution_count": 15,
     "metadata": {},
     "output_type": "execute_result"
    }
   ],
   "source": [
    "tablica[-1]"
   ]
  },
  {
   "cell_type": "code",
   "execution_count": 16,
   "id": "425a952a-19ad-48b8-bd02-7b8b9992c4c1",
   "metadata": {},
   "outputs": [
    {
     "data": {
      "text/plain": [
       "array([2., 3.])"
      ]
     },
     "execution_count": 16,
     "metadata": {},
     "output_type": "execute_result"
    }
   ],
   "source": [
    "tablica[1:]"
   ]
  },
  {
   "cell_type": "code",
   "execution_count": 17,
   "id": "ed7f15ef-0942-4441-a698-3638c48ed8dd",
   "metadata": {},
   "outputs": [],
   "source": [
    "lista = [1, 2, 3, 4, 5] \n",
    "tablica = np.array( lista )"
   ]
  },
  {
   "cell_type": "code",
   "execution_count": 18,
   "id": "1569a6fe-34a7-4bf2-a5c8-090d5df494f5",
   "metadata": {},
   "outputs": [
    {
     "data": {
      "text/plain": [
       "[1, 2, 3, 4, 5]"
      ]
     },
     "execution_count": 18,
     "metadata": {},
     "output_type": "execute_result"
    }
   ],
   "source": [
    "lista"
   ]
  },
  {
   "cell_type": "code",
   "execution_count": 19,
   "id": "b7dfc27f-f07e-4901-b2fa-e5ac09326bf1",
   "metadata": {},
   "outputs": [
    {
     "data": {
      "text/plain": [
       "array([1, 2, 3, 4, 5])"
      ]
     },
     "execution_count": 19,
     "metadata": {},
     "output_type": "execute_result"
    }
   ],
   "source": [
    "tablica"
   ]
  },
  {
   "cell_type": "code",
   "execution_count": 24,
   "id": "84245282-49a2-474f-8dfd-5fd7893d2dc2",
   "metadata": {},
   "outputs": [
    {
     "data": {
      "text/plain": [
       "[1, 2, 3, 4, 5, 1, 2, 3, 4, 5, 1, 2, 3, 4, 5, 1, 2, 3, 4, 5, 1, 2, 3, 4, 5]"
      ]
     },
     "execution_count": 24,
     "metadata": {},
     "output_type": "execute_result"
    }
   ],
   "source": [
    "lista * 5"
   ]
  },
  {
   "cell_type": "code",
   "execution_count": 21,
   "id": "70f3ee49-a39a-4852-8ea8-f73187e35355",
   "metadata": {},
   "outputs": [
    {
     "data": {
      "text/plain": [
       "['pizza',\n",
       " 'pizza',\n",
       " 'pizza',\n",
       " 'pizza',\n",
       " 'pizza',\n",
       " 'pizza',\n",
       " 'pizza',\n",
       " 'pizza',\n",
       " 'pizza',\n",
       " 'pizza']"
      ]
     },
     "execution_count": 21,
     "metadata": {},
     "output_type": "execute_result"
    }
   ],
   "source": [
    "['pizza'] * 10"
   ]
  },
  {
   "cell_type": "code",
   "execution_count": 25,
   "id": "7648dd85-8f56-4d0b-bfd5-c53766ac6144",
   "metadata": {},
   "outputs": [
    {
     "data": {
      "text/plain": [
       "array([ 5, 10, 15, 20, 25])"
      ]
     },
     "execution_count": 25,
     "metadata": {},
     "output_type": "execute_result"
    }
   ],
   "source": [
    "tablica * 5"
   ]
  },
  {
   "cell_type": "code",
   "execution_count": 27,
   "id": "efedbdbb-cce1-41d9-9f10-504d60b02827",
   "metadata": {},
   "outputs": [
    {
     "data": {
      "text/plain": [
       "[1, 2, 3, 4, 5, 1, 2, 3, 4, 5]"
      ]
     },
     "execution_count": 27,
     "metadata": {},
     "output_type": "execute_result"
    }
   ],
   "source": [
    "lista + lista"
   ]
  },
  {
   "cell_type": "code",
   "execution_count": 28,
   "id": "b32526b8-d3a2-47cd-aac0-785a3194c10c",
   "metadata": {},
   "outputs": [
    {
     "data": {
      "text/plain": [
       "array([ 2,  4,  6,  8, 10])"
      ]
     },
     "execution_count": 28,
     "metadata": {},
     "output_type": "execute_result"
    }
   ],
   "source": [
    "tablica + tablica"
   ]
  },
  {
   "cell_type": "code",
   "execution_count": 29,
   "id": "bf18d924-ab2e-4671-801e-2567798fd5b8",
   "metadata": {},
   "outputs": [],
   "source": [
    "tabl_a = np.array( [ 1, 2, 3] )\n",
    "tabl_b = np.array( [ 4, 5, 6, 7] )"
   ]
  },
  {
   "cell_type": "code",
   "execution_count": 30,
   "id": "79b1d6cf-f07d-46b6-99f8-18468ad1f408",
   "metadata": {},
   "outputs": [
    {
     "ename": "ValueError",
     "evalue": "operands could not be broadcast together with shapes (3,) (4,) ",
     "output_type": "error",
     "traceback": [
      "\u001b[31m---------------------------------------------------------------------------\u001b[39m",
      "\u001b[31mValueError\u001b[39m                                Traceback (most recent call last)",
      "\u001b[36mCell\u001b[39m\u001b[36m \u001b[39m\u001b[32mIn[30]\u001b[39m\u001b[32m, line 1\u001b[39m\n\u001b[32m----> \u001b[39m\u001b[32m1\u001b[39m \u001b[43mtabl_a\u001b[49m\u001b[43m \u001b[49m\u001b[43m+\u001b[49m\u001b[43m \u001b[49m\u001b[43mtabl_b\u001b[49m\n",
      "\u001b[31mValueError\u001b[39m: operands could not be broadcast together with shapes (3,) (4,) "
     ]
    }
   ],
   "source": [
    "tabl_a + tabl_b"
   ]
  },
  {
   "cell_type": "code",
   "execution_count": 34,
   "id": "46a9d147-84c8-4317-9d91-efefc2631fa0",
   "metadata": {},
   "outputs": [
    {
     "data": {
      "text/plain": [
       "array([[1, 2, 3],\n",
       "       [4, 5, 6]])"
      ]
     },
     "execution_count": 34,
     "metadata": {},
     "output_type": "execute_result"
    }
   ],
   "source": [
    "tab_2d = np.array( [ (1,2,3), [4,5,6] ] )\n",
    "tab_2d"
   ]
  },
  {
   "cell_type": "code",
   "execution_count": 40,
   "id": "9ca1d916-3952-4b2d-b798-0c7b049c9b2c",
   "metadata": {},
   "outputs": [
    {
     "data": {
      "text/plain": [
       "array([[[  1,   2,   3],\n",
       "        [  4,   5,   6],\n",
       "        [  7,   8,   9]],\n",
       "\n",
       "       [[ 10,  20,  30],\n",
       "        [ 40,  50,  60],\n",
       "        [ 70,  80,  90]],\n",
       "\n",
       "       [[100, 200, 300],\n",
       "        [400, 500, 600],\n",
       "        [700, 800, 900]]])"
      ]
     },
     "execution_count": 40,
     "metadata": {},
     "output_type": "execute_result"
    }
   ],
   "source": [
    "tab_3d = np.array(\n",
    "    [\n",
    "        [  [1, 2, 3], [4, 5, 6], [7, 8, 9] ],\n",
    "        [  [10, 20, 30], [40, 50, 60], [70, 80, 90] ],\n",
    "        [  [100, 200, 300], [400, 500, 600], [700, 800, 900] ],\n",
    "    ]\n",
    "    )\n",
    "tab_3d"
   ]
  },
  {
   "cell_type": "code",
   "execution_count": 39,
   "id": "4f00369a-1d4f-4070-b60d-8e9f6469e2f9",
   "metadata": {},
   "outputs": [
    {
     "data": {
      "text/plain": [
       "3"
      ]
     },
     "execution_count": 39,
     "metadata": {},
     "output_type": "execute_result"
    }
   ],
   "source": [
    "tab_3d.ndim"
   ]
  },
  {
   "cell_type": "code",
   "execution_count": 41,
   "id": "a8215b80-db4e-4c3c-8cb2-b1d4c5d30040",
   "metadata": {},
   "outputs": [
    {
     "data": {
      "text/plain": [
       "2"
      ]
     },
     "execution_count": 41,
     "metadata": {},
     "output_type": "execute_result"
    }
   ],
   "source": [
    "tab_2d.ndim"
   ]
  },
  {
   "cell_type": "code",
   "execution_count": 42,
   "id": "b995d6a2-acab-47a3-b9dc-b7ac6c769645",
   "metadata": {},
   "outputs": [
    {
     "data": {
      "text/plain": [
       "array([[1, 2, 3],\n",
       "       [4, 5, 6]])"
      ]
     },
     "execution_count": 42,
     "metadata": {},
     "output_type": "execute_result"
    }
   ],
   "source": [
    "tab_2d"
   ]
  },
  {
   "cell_type": "code",
   "execution_count": 44,
   "id": "b417aee4-8367-49b1-aae7-40b5630e983c",
   "metadata": {},
   "outputs": [
    {
     "data": {
      "text/plain": [
       "array([1, 2])"
      ]
     },
     "execution_count": 44,
     "metadata": {},
     "output_type": "execute_result"
    }
   ],
   "source": [
    "tab_2d[ 0 , 0:2 ] "
   ]
  },
  {
   "cell_type": "code",
   "execution_count": 46,
   "id": "3d7a5470-d530-41e8-b580-95971c211199",
   "metadata": {},
   "outputs": [
    {
     "data": {
      "text/plain": [
       "array([3, 6])"
      ]
     },
     "execution_count": 46,
     "metadata": {},
     "output_type": "execute_result"
    }
   ],
   "source": [
    "tab_3d[ 0 , 0:2, 2 ] "
   ]
  },
  {
   "cell_type": "code",
   "execution_count": 53,
   "id": "498570d3-dddb-4d60-8c29-1cf686e72a68",
   "metadata": {},
   "outputs": [
    {
     "data": {
      "text/plain": [
       "1"
      ]
     },
     "execution_count": 53,
     "metadata": {},
     "output_type": "execute_result"
    }
   ],
   "source": [
    "tab_3d[ 1, -1]"
   ]
  },
  {
   "cell_type": "code",
   "execution_count": 54,
   "id": "6d240f52-3cc2-4468-aa5f-8afc24bee4bf",
   "metadata": {},
   "outputs": [
    {
     "data": {
      "text/plain": [
       "array([[1, 2, 3],\n",
       "       [4, 5, 6]])"
      ]
     },
     "execution_count": 54,
     "metadata": {},
     "output_type": "execute_result"
    }
   ],
   "source": [
    "tab_2d"
   ]
  },
  {
   "cell_type": "code",
   "execution_count": 55,
   "id": "46f68e1e-972c-4f73-9c01-0d1cde5330ea",
   "metadata": {},
   "outputs": [
    {
     "data": {
      "text/plain": [
       "array([[1, 4],\n",
       "       [2, 5],\n",
       "       [3, 6]])"
      ]
     },
     "execution_count": 55,
     "metadata": {},
     "output_type": "execute_result"
    }
   ],
   "source": [
    "tab_2d.T"
   ]
  },
  {
   "cell_type": "code",
   "execution_count": 58,
   "id": "ce899a1d-275d-44b1-a3f5-f199630fddcc",
   "metadata": {},
   "outputs": [
    {
     "data": {
      "text/plain": [
       "(2, 3)"
      ]
     },
     "execution_count": 58,
     "metadata": {},
     "output_type": "execute_result"
    }
   ],
   "source": [
    "tab_2d.shape"
   ]
  },
  {
   "cell_type": "code",
   "execution_count": 59,
   "id": "6f29b546-5484-4d9b-9d21-e1dfa726c235",
   "metadata": {},
   "outputs": [
    {
     "data": {
      "text/plain": [
       "(3, 2)"
      ]
     },
     "execution_count": 59,
     "metadata": {},
     "output_type": "execute_result"
    }
   ],
   "source": [
    "tab_2d.T.shape"
   ]
  },
  {
   "cell_type": "code",
   "execution_count": 61,
   "id": "ffeb404f-cf38-4196-b050-294ecaf09920",
   "metadata": {},
   "outputs": [
    {
     "data": {
      "text/plain": [
       "27"
      ]
     },
     "execution_count": 61,
     "metadata": {},
     "output_type": "execute_result"
    }
   ],
   "source": [
    "tab_3d.size"
   ]
  },
  {
   "cell_type": "code",
   "execution_count": 65,
   "id": "eda0c03c-08bf-4745-ae67-687d3286e4c2",
   "metadata": {},
   "outputs": [
    {
     "data": {
      "text/plain": [
       "array([  1,   2,   3,   4,   5,   6,   7,   8,   9,  10,  20,  30,  40,\n",
       "        50,  60,  70,  80,  90, 100, 200, 300, 400, 500, 600, 700, 800,\n",
       "       900])"
      ]
     },
     "execution_count": 65,
     "metadata": {},
     "output_type": "execute_result"
    }
   ],
   "source": [
    "tab_3d.flatten()"
   ]
  },
  {
   "cell_type": "code",
   "execution_count": 66,
   "id": "8076a733-9871-4f46-a8ef-dcc34f75023b",
   "metadata": {},
   "outputs": [
    {
     "data": {
      "text/plain": [
       "array([  1,  10, 100,   4,  40, 400,   7,  70, 700,   2,  20, 200,   5,\n",
       "        50, 500,   8,  80, 800,   3,  30, 300,   6,  60, 600,   9,  90,\n",
       "       900])"
      ]
     },
     "execution_count": 66,
     "metadata": {},
     "output_type": "execute_result"
    }
   ],
   "source": [
    "tab_3d.T.flatten()"
   ]
  },
  {
   "cell_type": "code",
   "execution_count": 70,
   "id": "902110ac-fc19-49e1-abcc-4047524f528b",
   "metadata": {},
   "outputs": [
    {
     "data": {
      "text/plain": [
       "array([[14, 32],\n",
       "       [32, 77]])"
      ]
     },
     "execution_count": 70,
     "metadata": {},
     "output_type": "execute_result"
    }
   ],
   "source": [
    "np.dot(tab_2d, tab_2d.T)"
   ]
  },
  {
   "cell_type": "code",
   "execution_count": 71,
   "id": "fb06d7c8-caa5-43ee-b4ff-3dcac0a156f6",
   "metadata": {},
   "outputs": [
    {
     "data": {
      "text/plain": [
       "np.float64(185.0)"
      ]
     },
     "execution_count": 71,
     "metadata": {},
     "output_type": "execute_result"
    }
   ],
   "source": [
    "np.mean(tab_3d)"
   ]
  },
  {
   "cell_type": "code",
   "execution_count": 73,
   "id": "e8681de8-b3a1-4f42-9699-f7f3df8dc8b4",
   "metadata": {},
   "outputs": [
    {
     "data": {
      "text/plain": [
       "array([[[  1,   2,   3],\n",
       "        [  4,   5,   6],\n",
       "        [  7,   8,   9]],\n",
       "\n",
       "       [[ 10,  20,  30],\n",
       "        [ 40,  50,  60],\n",
       "        [ 70,  80,  90]],\n",
       "\n",
       "       [[100, 200, 300],\n",
       "        [  0, 500, 600],\n",
       "        [700, 800, 900]]])"
      ]
     },
     "execution_count": 73,
     "metadata": {},
     "output_type": "execute_result"
    }
   ],
   "source": [
    "tab_3d[ 2, 1, 0 ] = 0\n",
    "tab_3d"
   ]
  },
  {
   "cell_type": "code",
   "execution_count": 75,
   "id": "4dc96619-6325-4b5c-a849-86fc57356e82",
   "metadata": {},
   "outputs": [
    {
     "data": {
      "text/plain": [
       "array([[0., 0., 0., 0., 0.],\n",
       "       [0., 0., 0., 0., 0.],\n",
       "       [0., 0., 0., 0., 0.],\n",
       "       [0., 0., 0., 0., 0.],\n",
       "       [0., 0., 0., 0., 0.]])"
      ]
     },
     "execution_count": 75,
     "metadata": {},
     "output_type": "execute_result"
    }
   ],
   "source": [
    "np.zeros( (5, 5) )"
   ]
  },
  {
   "cell_type": "markdown",
   "id": "2d9f108f-466d-41d3-8b4f-bf8390e68f0f",
   "metadata": {},
   "source": [
    "## Zadanie\n",
    "\n",
    "Przygotuj macierz z tabliczką mnożenia.\n",
    "\n",
    "Hint:\n",
    "- zrób macierz (array w numpy) 10x10 z samymi zerami\n",
    "- przebiegnij w for po jednym wymiarze (range())\n",
    "- w środku tego fora - przebignij for-em po drugim wymiarze\n",
    "- w macierz na przecięciu wstaw wynik mnożenia indeksów z for-ów\n",
    "- "
   ]
  },
  {
   "cell_type": "code",
   "execution_count": 81,
   "id": "0c69eec4-c782-451e-9f82-60d107ffe9a9",
   "metadata": {},
   "outputs": [
    {
     "data": {
      "text/plain": [
       "array([[  1,   2,   3,   4,   5,   6,   7,   8,   9,  10],\n",
       "       [  2,   4,   6,   8,  10,  12,  14,  16,  18,  20],\n",
       "       [  3,   6,   9,  12,  15,  18,  21,  24,  27,  30],\n",
       "       [  4,   8,  12,  16,  20,  24,  28,  32,  36,  40],\n",
       "       [  5,  10,  15,  20,  25,  30,  35,  40,  45,  50],\n",
       "       [  6,  12,  18,  24,  30,  36,  42,  48,  54,  60],\n",
       "       [  7,  14,  21,  28,  35,  42,  49,  56,  63,  70],\n",
       "       [  8,  16,  24,  32,  40,  48,  56,  64,  72,  80],\n",
       "       [  9,  18,  27,  36,  45,  54,  63,  72,  81,  90],\n",
       "       [ 10,  20,  30,  40,  50,  60,  70,  80,  90, 100]], dtype=int8)"
      ]
     },
     "execution_count": 81,
     "metadata": {},
     "output_type": "execute_result"
    }
   ],
   "source": [
    "tabliczka_mnozenia = np.zeros( (10, 10), dtype=np.int8)\n",
    "for x in range(1, 11):\n",
    "    for y in range(1, 11):\n",
    "        w = x * y\n",
    "        tabliczka_mnozenia[x-1, y-1] = w \n",
    "\n",
    "tabliczka_mnozenia"
   ]
  },
  {
   "cell_type": "code",
   "execution_count": 80,
   "id": "eb38ce85-8563-49d3-bd15-085a4b0f9906",
   "metadata": {},
   "outputs": [
    {
     "data": {
      "text/plain": [
       "dtype('float64')"
      ]
     },
     "execution_count": 80,
     "metadata": {},
     "output_type": "execute_result"
    }
   ],
   "source": [
    "tabliczka_mnozenia.dtype"
   ]
  },
  {
   "cell_type": "code",
   "execution_count": null,
   "id": "3e8beae4-0430-4c60-a7cf-66654caae97a",
   "metadata": {},
   "outputs": [],
   "source": []
  }
 ],
 "metadata": {
  "kernelspec": {
   "display_name": "Python 3 (ipykernel)",
   "language": "python",
   "name": "python3"
  },
  "language_info": {
   "codemirror_mode": {
    "name": "ipython",
    "version": 3
   },
   "file_extension": ".py",
   "mimetype": "text/x-python",
   "name": "python",
   "nbconvert_exporter": "python",
   "pygments_lexer": "ipython3",
   "version": "3.13.9"
  }
 },
 "nbformat": 4,
 "nbformat_minor": 5
}
