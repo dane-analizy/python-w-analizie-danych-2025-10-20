{
 "cells": [
  {
   "cell_type": "code",
   "execution_count": null,
   "id": "ac7a50ed-184d-4612-a08e-e7826dc35b1b",
   "metadata": {},
   "outputs": [],
   "source": [
    "!pip install scipy"
   ]
  },
  {
   "cell_type": "code",
   "execution_count": null,
   "id": "7a8c2b16-de90-4e1b-9e51-59bed585a0e6",
   "metadata": {},
   "outputs": [],
   "source": [
    "!pip install pandas matplotlib seaborn"
   ]
  },
  {
   "cell_type": "markdown",
   "id": "900ed313-f2f8-4ef7-b1db-e8d772ecde87",
   "metadata": {},
   "source": [
    "## Rozkłady statystyczne\n",
    "\n",
    "dokumentacja https://docs.scipy.org/doc/scipy/reference/stats.html"
   ]
  },
  {
   "cell_type": "code",
   "execution_count": 2,
   "id": "611569fc-d104-4372-93bc-ade106e72084",
   "metadata": {},
   "outputs": [],
   "source": [
    "from scipy import stats"
   ]
  },
  {
   "cell_type": "code",
   "execution_count": 15,
   "id": "8c712d98-b621-4c79-850a-faf7c74ceac8",
   "metadata": {},
   "outputs": [
    {
     "data": {
      "text/plain": [
       "array([ 0.22403321, -0.36123397,  0.13561827,  1.12581938,  0.35941715,\n",
       "       -0.51521155, -1.40610025,  0.13457116, -0.15857418, -0.8988229 ,\n",
       "        0.58702381,  1.1623275 , -0.71054786, -1.36298917, -0.07949301,\n",
       "       -0.03726287,  0.69171715, -0.10397229, -0.55015719,  0.70631238,\n",
       "       -1.61785229, -1.42538307,  2.02462462, -2.08583944, -1.5312037 ,\n",
       "       -0.56991328,  1.45446337,  1.13302584, -1.23517275,  0.63801041,\n",
       "        0.64757904,  0.29605558, -0.32068536,  0.89078641,  0.73190749,\n",
       "       -1.59560051, -0.69144935, -1.49644491, -0.47423014, -0.27070376,\n",
       "       -0.3545998 ,  1.39765414,  0.43970627, -0.71971126, -1.59751634,\n",
       "        0.57143947,  0.82406594,  0.08367619, -1.63792569, -0.16921249])"
      ]
     },
     "execution_count": 15,
     "metadata": {},
     "output_type": "execute_result"
    }
   ],
   "source": [
    "rozklad_norm = stats.norm().rvs(size=50)\n",
    "rozklad_norm"
   ]
  },
  {
   "cell_type": "code",
   "execution_count": 13,
   "id": "571713f0-860e-43a3-87d2-6187779d468a",
   "metadata": {},
   "outputs": [
    {
     "data": {
      "text/plain": [
       "array([0.22976349, 0.08370756, 0.02327905, 0.76425617, 0.75702403,\n",
       "       0.63034507, 0.24335952, 0.16709624, 0.3613958 , 0.20920549,\n",
       "       0.33774633, 0.55889228, 0.61891784, 0.72628142, 0.00363037,\n",
       "       0.29204238, 0.23726607, 0.99906931, 0.46402308, 0.31531279,\n",
       "       0.54820671, 0.08146001, 0.10379809, 0.58526292, 0.28990816,\n",
       "       0.13832067, 0.27499879, 0.7623766 , 0.47245733, 0.81760838,\n",
       "       0.20452177, 0.97491827, 0.98640755, 0.73333098, 0.93102698,\n",
       "       0.48092061, 0.29781206, 0.94631832, 0.40915106, 0.60520845,\n",
       "       0.45964476, 0.68126124, 0.779518  , 0.89378417, 0.28506341,\n",
       "       0.95432053, 0.82675508, 0.56408741, 0.28214585, 0.28137052])"
      ]
     },
     "execution_count": 13,
     "metadata": {},
     "output_type": "execute_result"
    }
   ],
   "source": [
    "rozklad_uni = stats.uniform().rvs(size=50)\n",
    "rozklad_uni "
   ]
  },
  {
   "cell_type": "code",
   "execution_count": 25,
   "id": "4adca01a-4a62-46fb-a09f-c8bcfe3dc6cc",
   "metadata": {},
   "outputs": [
    {
     "data": {
      "text/plain": [
       "array([3, 0, 3, 3, 1, 1, 2, 4, 1, 4, 4, 2, 0, 1, 2, 1, 1, 0, 0, 1, 2, 2,\n",
       "       3, 1, 2, 1, 1, 2, 2, 1, 4, 4, 4, 2, 2, 4, 2, 0, 1, 1, 0, 2, 2, 2,\n",
       "       0, 3, 2, 2, 1, 0, 2, 1, 6, 3, 3, 2, 0, 1, 6, 2, 1, 2, 3, 2, 2, 0,\n",
       "       2, 1, 1, 4, 5, 2, 2, 0, 1, 2, 4, 3, 0, 2, 3, 1, 4, 4, 3, 2, 3, 1,\n",
       "       2, 4, 2, 2, 2, 3, 2, 1, 3, 2, 2, 2])"
      ]
     },
     "execution_count": 25,
     "metadata": {},
     "output_type": "execute_result"
    }
   ],
   "source": [
    "rozklad_poisson = stats.poisson.rvs(mu=2, size=100)\n",
    "rozklad_poisson"
   ]
  },
  {
   "cell_type": "code",
   "execution_count": 23,
   "id": "a58e37e5-7407-4010-843b-6a9cdac26bc1",
   "metadata": {},
   "outputs": [],
   "source": [
    "from collections import Counter"
   ]
  },
  {
   "cell_type": "code",
   "execution_count": 26,
   "id": "68b70b10-f60d-48d8-ac00-1ae4f3540911",
   "metadata": {},
   "outputs": [
    {
     "data": {
      "text/plain": [
       "Counter({np.int64(2): 36,\n",
       "         np.int64(1): 23,\n",
       "         np.int64(3): 14,\n",
       "         np.int64(0): 12,\n",
       "         np.int64(4): 12,\n",
       "         np.int64(6): 2,\n",
       "         np.int64(5): 1})"
      ]
     },
     "execution_count": 26,
     "metadata": {},
     "output_type": "execute_result"
    }
   ],
   "source": [
    "Counter(rozklad_poisson)"
   ]
  },
  {
   "cell_type": "code",
   "execution_count": 27,
   "id": "23295462-1142-4724-8e5b-7d57d2ca3c55",
   "metadata": {},
   "outputs": [
    {
     "data": {
      "text/plain": [
       "Counter({np.float64(0.2297634894222904): 1,\n",
       "         np.float64(0.0837075568097817): 1,\n",
       "         np.float64(0.023279051065152268): 1,\n",
       "         np.float64(0.7642561721369155): 1,\n",
       "         np.float64(0.7570240306073812): 1,\n",
       "         np.float64(0.6303450705595491): 1,\n",
       "         np.float64(0.2433595213358617): 1,\n",
       "         np.float64(0.16709624357009578): 1,\n",
       "         np.float64(0.3613957997232815): 1,\n",
       "         np.float64(0.20920549147419043): 1,\n",
       "         np.float64(0.3377463319116235): 1,\n",
       "         np.float64(0.5588922825842741): 1,\n",
       "         np.float64(0.6189178412732338): 1,\n",
       "         np.float64(0.7262814157590708): 1,\n",
       "         np.float64(0.0036303679334939165): 1,\n",
       "         np.float64(0.29204237551620826): 1,\n",
       "         np.float64(0.23726606609593404): 1,\n",
       "         np.float64(0.999069310683586): 1,\n",
       "         np.float64(0.4640230774087294): 1,\n",
       "         np.float64(0.31531279383581956): 1,\n",
       "         np.float64(0.5482067132584825): 1,\n",
       "         np.float64(0.08146001067722852): 1,\n",
       "         np.float64(0.10379809194716227): 1,\n",
       "         np.float64(0.5852629191964254): 1,\n",
       "         np.float64(0.2899081589916034): 1,\n",
       "         np.float64(0.13832067460151565): 1,\n",
       "         np.float64(0.274998791125057): 1,\n",
       "         np.float64(0.7623766049377921): 1,\n",
       "         np.float64(0.47245732504168814): 1,\n",
       "         np.float64(0.8176083810479823): 1,\n",
       "         np.float64(0.20452177485699574): 1,\n",
       "         np.float64(0.9749182682763422): 1,\n",
       "         np.float64(0.9864075473541909): 1,\n",
       "         np.float64(0.7333309844050578): 1,\n",
       "         np.float64(0.9310269775479997): 1,\n",
       "         np.float64(0.4809206060337903): 1,\n",
       "         np.float64(0.29781206287265105): 1,\n",
       "         np.float64(0.9463183154756987): 1,\n",
       "         np.float64(0.4091510612752203): 1,\n",
       "         np.float64(0.605208448108909): 1,\n",
       "         np.float64(0.45964476371068863): 1,\n",
       "         np.float64(0.6812612398528388): 1,\n",
       "         np.float64(0.7795180031266032): 1,\n",
       "         np.float64(0.8937841703345407): 1,\n",
       "         np.float64(0.2850634112624876): 1,\n",
       "         np.float64(0.9543205273981964): 1,\n",
       "         np.float64(0.8267550761215422): 1,\n",
       "         np.float64(0.564087411209132): 1,\n",
       "         np.float64(0.2821458500089129): 1,\n",
       "         np.float64(0.28137051787729084): 1})"
      ]
     },
     "execution_count": 27,
     "metadata": {},
     "output_type": "execute_result"
    }
   ],
   "source": [
    "Counter(rozklad_uni)"
   ]
  },
  {
   "cell_type": "markdown",
   "id": "ccf5e7b2-e121-449b-9d3b-92c8192160af",
   "metadata": {},
   "source": [
    "## Całkowanie\n",
    "\n",
    "dokumentacja https://docs.scipy.org/doc/scipy/reference/integrate.html"
   ]
  },
  {
   "cell_type": "code",
   "execution_count": 28,
   "id": "321d1590-d216-4e49-b70b-a018615efe68",
   "metadata": {},
   "outputs": [],
   "source": [
    "from scipy import integrate"
   ]
  },
  {
   "cell_type": "code",
   "execution_count": 30,
   "id": "89ef4e0b-c926-4164-b6e6-9b9fd5a4895e",
   "metadata": {},
   "outputs": [],
   "source": [
    "from math import sin"
   ]
  },
  {
   "cell_type": "code",
   "execution_count": 31,
   "id": "0e4edaeb-1ed2-4aba-8554-88b62c98732d",
   "metadata": {},
   "outputs": [
    {
     "data": {
      "text/plain": [
       "(1.9999999957076557, 2.2204460444848536e-14)"
      ]
     },
     "execution_count": 31,
     "metadata": {},
     "output_type": "execute_result"
    }
   ],
   "source": [
    "integrate.quad(a=0, b=3.1415, func=sin)"
   ]
  },
  {
   "cell_type": "code",
   "execution_count": 37,
   "id": "e0c26917-3ed6-437e-bcd0-244b12d2e88a",
   "metadata": {},
   "outputs": [],
   "source": [
    "# definiowanie własnych funkcji\n",
    "def parabola():\n",
    "    # ciało funkcji - to co się ma dziać jak funkcja jest wywołana\n",
    "    print(\"jestem teraz wewnątrz funkcji 'parabola'\")\n"
   ]
  },
  {
   "cell_type": "code",
   "execution_count": 39,
   "id": "30ebe995-bcbd-4052-81e7-825d3a6b9816",
   "metadata": {},
   "outputs": [
    {
     "name": "stdout",
     "output_type": "stream",
     "text": [
      "jestem teraz wewnątrz funkcji 'parabola'\n"
     ]
    }
   ],
   "source": [
    "parabola()"
   ]
  },
  {
   "cell_type": "code",
   "execution_count": 43,
   "id": "4c5ba87d-fa9a-46da-a71c-cb24c2fcf00c",
   "metadata": {},
   "outputs": [],
   "source": [
    "# funkcja z parametrem\n",
    "def parabola_2(x):\n",
    "    print(f\"jestem teraz wewnątrz funkcji 'parabola_2', a podałeś x={x}\")"
   ]
  },
  {
   "cell_type": "code",
   "execution_count": 44,
   "id": "54a9f8eb-3030-407e-82ed-26c1ac006453",
   "metadata": {},
   "outputs": [
    {
     "name": "stdout",
     "output_type": "stream",
     "text": [
      "jestem teraz wewnątrz funkcji 'parabola_2', a podałeś x=5\n"
     ]
    }
   ],
   "source": [
    "parabola_2(5)"
   ]
  },
  {
   "cell_type": "code",
   "execution_count": 46,
   "id": "590572aa-85a1-488d-8ce2-0eed50ab3321",
   "metadata": {},
   "outputs": [
    {
     "name": "stdout",
     "output_type": "stream",
     "text": [
      "jestem teraz wewnątrz funkcji 'parabola_2', a podałeś x=100\n"
     ]
    }
   ],
   "source": [
    "parabola_2(100)"
   ]
  },
  {
   "cell_type": "code",
   "execution_count": 58,
   "id": "57d25332-d965-4683-b602-7c84ff75b8a3",
   "metadata": {},
   "outputs": [],
   "source": [
    "# funkcja zwracająca wartość\n",
    "def parabola_3(x, a, b, c):\n",
    "    print(f\"Podałeś: a={a}, b={b}, c={c}, x={x}\")\n",
    "    y = a*x**2 + b*x + c\n",
    "    print(f\"Wynik: y={y}\")\n",
    "    return y"
   ]
  },
  {
   "cell_type": "code",
   "execution_count": 59,
   "id": "0a5c36a2-e5ed-4e07-aa1d-a0e87cbe6325",
   "metadata": {},
   "outputs": [
    {
     "name": "stdout",
     "output_type": "stream",
     "text": [
      "Podałeś: a=1, b=0, c=0, x=6\n",
      "Wynik: y=36\n"
     ]
    },
    {
     "data": {
      "text/plain": [
       "36"
      ]
     },
     "execution_count": 59,
     "metadata": {},
     "output_type": "execute_result"
    }
   ],
   "source": [
    "parabola_3(a=1, b=0, c=0, x=6)"
   ]
  },
  {
   "cell_type": "code",
   "execution_count": 60,
   "id": "8f073856-11b0-4068-bea8-be60f3b1989e",
   "metadata": {},
   "outputs": [
    {
     "name": "stdout",
     "output_type": "stream",
     "text": [
      "Podałeś: a=1, b=0, c=0, x=5.0\n",
      "Wynik: y=25.0\n",
      "Podałeś: a=1, b=0, c=0, x=0.13046735741414128\n",
      "Wynik: y=0.017021731350629288\n",
      "Podałeś: a=1, b=0, c=0, x=9.86953264258586\n",
      "Wynik: y=97.40767458306782\n",
      "Podałeś: a=1, b=0, c=0, x=0.6746831665550772\n",
      "Wynik: y=0.45519737523278603\n",
      "Podałeś: a=1, b=0, c=0, x=9.325316833444923\n",
      "Wynik: y=86.96153404413124\n",
      "Podałeś: a=1, b=0, c=0, x=1.6029521585048778\n",
      "Wynik: y=2.569455622455447\n",
      "Podałeś: a=1, b=0, c=0, x=8.397047841495123\n",
      "Wynik: y=70.51041245235791\n",
      "Podałeś: a=1, b=0, c=0, x=2.8330230293537637\n",
      "Wynik: y=8.026019484848776\n",
      "Podałeś: a=1, b=0, c=0, x=7.166976970646236\n",
      "Wynik: y=51.365558897773504\n",
      "Podałeś: a=1, b=0, c=0, x=4.255628305091844\n",
      "Wynik: y=18.110372271098882\n",
      "Podałeś: a=1, b=0, c=0, x=5.744371694908156\n",
      "Wynik: y=32.997806169262\n",
      "Podałeś: a=1, b=0, c=0, x=0.021714184870959663\n",
      "Wynik: y=0.0004715058246102135\n",
      "Podałeś: a=1, b=0, c=0, x=9.978285815129041\n",
      "Wynik: y=99.56618780840543\n",
      "Podałeś: a=1, b=0, c=0, x=0.34921254322145856\n",
      "Wynik: y=0.12194940034319907\n",
      "Podałeś: a=1, b=0, c=0, x=9.650787456778541\n",
      "Wynik: y=93.13769853591403\n",
      "Podałeś: a=1, b=0, c=0, x=1.0959113670679157\n",
      "Wynik: y=1.2010217244686678\n",
      "Podałeś: a=1, b=0, c=0, x=8.904088632932083\n",
      "Wynik: y=79.28279438311034\n",
      "Podałeś: a=1, b=0, c=0, x=2.1862143266569767\n",
      "Wynik: y=4.779533082080218\n",
      "Podałeś: a=1, b=0, c=0, x=7.813785673343023\n",
      "Wynik: y=61.05524654894069\n",
      "Podałeś: a=1, b=0, c=0, x=3.528035686492699\n",
      "Wynik: y=12.447035805166012\n",
      "Podałeś: a=1, b=0, c=0, x=6.471964313507301\n",
      "Wynik: y=41.88632207531203\n"
     ]
    },
    {
     "data": {
      "text/plain": [
       "(333.33333333333326, 3.700743415417188e-12)"
      ]
     },
     "execution_count": 60,
     "metadata": {},
     "output_type": "execute_result"
    }
   ],
   "source": [
    "integrate.quad(a=0, b=10, func=parabola_3, args=(1, 0, 0))"
   ]
  },
  {
   "cell_type": "markdown",
   "id": "eb257471-fdfd-4200-af0d-ab53bfaae121",
   "metadata": {},
   "source": [
    "## szukanie minimum funkcji"
   ]
  },
  {
   "cell_type": "code",
   "execution_count": 61,
   "id": "60dbdaea-5ebe-4466-8a97-457e476cf5bd",
   "metadata": {},
   "outputs": [],
   "source": [
    "from scipy import optimize"
   ]
  },
  {
   "cell_type": "code",
   "execution_count": 66,
   "id": "ac6781e5-0042-43f3-a8ec-5bc2705fdea4",
   "metadata": {},
   "outputs": [
    {
     "name": "stdout",
     "output_type": "stream",
     "text": [
      "Podałeś: a=1, b=5, c=15, x=0.0\n",
      "Wynik: y=15.0\n",
      "Podałeś: a=1, b=5, c=15, x=1.0\n",
      "Wynik: y=21.0\n",
      "Podałeś: a=1, b=5, c=15, x=-1.618034\n",
      "Wynik: y=9.527864025156\n",
      "Podałeś: a=1, b=5, c=15, x=-2.5\n",
      "Wynik: y=8.75\n",
      "Podałeś: a=1, b=5, c=15, x=-3.927050974844\n",
      "Wynik: y=10.786474484803213\n",
      "Podałeś: a=1, b=5, c=15, x=-3.0450849526572634\n",
      "Wynik: y=9.047117605613373\n",
      "Podałeś: a=1, b=5, c=15, x=-2.163118974844\n",
      "Wynik: y=8.863488825110156\n",
      "Podałeś: a=1, b=5, c=15, x=-2.49999996299\n",
      "Wynik: y=8.750000000000002\n",
      "Podałeś: a=1, b=5, c=15, x=-2.50000003701\n",
      "Wynik: y=8.75\n",
      "Podałeś: a=1, b=5, c=15, x=-2.7082039419001225\n",
      "Wynik: y=8.793348881422748\n",
      "Podałeś: a=1, b=5, c=15, x=-2.5000000740200004\n",
      "Wynik: y=8.750000000000005\n"
     ]
    },
    {
     "data": {
      "text/plain": [
       " message: \n",
       "          Optimization terminated successfully;\n",
       "          The returned value satisfies the termination criteria\n",
       "          (using xtol = 1.48e-08 )\n",
       " success: True\n",
       "     fun: 8.75\n",
       "       x: -2.50000003701\n",
       "     nit: 6\n",
       "    nfev: 11"
      ]
     },
     "execution_count": 66,
     "metadata": {},
     "output_type": "execute_result"
    }
   ],
   "source": [
    "opt = optimize.minimize_scalar(parabola_3, args=(1, 5, 15))\n",
    "opt"
   ]
  },
  {
   "cell_type": "code",
   "execution_count": 68,
   "id": "085548b6-7dca-4860-a6eb-5dbd3c11c96f",
   "metadata": {},
   "outputs": [
    {
     "data": {
      "text/plain": [
       "(np.float64(-2.50000003701), np.float64(8.75))"
      ]
     },
     "execution_count": 68,
     "metadata": {},
     "output_type": "execute_result"
    }
   ],
   "source": [
    "opt.x, opt.fun"
   ]
  },
  {
   "cell_type": "code",
   "execution_count": 65,
   "id": "a16932c5-2598-49f8-910a-4190db7f599a",
   "metadata": {},
   "outputs": [
    {
     "name": "stdout",
     "output_type": "stream",
     "text": [
      "Podałeś: a=1, b=5, c=15, x=-2.5\n",
      "Wynik: y=8.75\n"
     ]
    },
    {
     "data": {
      "text/plain": [
       "8.75"
      ]
     },
     "execution_count": 65,
     "metadata": {},
     "output_type": "execute_result"
    }
   ],
   "source": [
    "parabola_3(-2.5, 1, 5, 15)"
   ]
  },
  {
   "cell_type": "code",
   "execution_count": null,
   "id": "5cc66f1b-6c97-4298-a7e9-8f271b6c802f",
   "metadata": {},
   "outputs": [],
   "source": []
  }
 ],
 "metadata": {
  "kernelspec": {
   "display_name": "Python 3 (ipykernel)",
   "language": "python",
   "name": "python3"
  },
  "language_info": {
   "codemirror_mode": {
    "name": "ipython",
    "version": 3
   },
   "file_extension": ".py",
   "mimetype": "text/x-python",
   "name": "python",
   "nbconvert_exporter": "python",
   "pygments_lexer": "ipython3",
   "version": "3.13.9"
  }
 },
 "nbformat": 4,
 "nbformat_minor": 5
}
