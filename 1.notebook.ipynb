{
 "cells": [
  {
   "cell_type": "raw",
   "id": "98ca774f-626d-4d68-a3fb-aa93720ad7fe",
   "metadata": {},
   "source": [
    "1wetwtwt - komórka rawjrjrjrj"
   ]
  },
  {
   "cell_type": "markdown",
   "id": "62c2ed33-64b5-4074-8b2e-fe4c3b416895",
   "metadata": {},
   "source": [
    "# nagłowek\n",
    "## pod tytułem\n",
    "### rozdział\n",
    "\n",
    "normalny tekst - w komórce markdown\n",
    "\n",
    "*italic* **bold** ~przekreślenie~\n",
    "\n",
    "Lista numerowana:\n",
    "1. jedne\n",
    "2. dwa\n",
    "    1. dwa a\n",
    "    2. dwa b\n",
    "4. trzy\n",
    "\n",
    "Lista nie numerowana:\n",
    "- jeden\n",
    "- dwa\n",
    "- trzy\n",
    "    - trzy a\n",
    "    - trzy b\n",
    "- cztery\n",
    "\n",
    "\n",
    "Dokumentacja Markdown: https://www.markdownguide.org/cheat-sheet/\n",
    "\n",
    "[Dokumentacja Markdown](https://www.markdownguide.org/cheat-sheet/)\n"
   ]
  },
  {
   "cell_type": "code",
   "execution_count": 1,
   "id": "6a413850-656d-49f7-a281-2c79d0f34729",
   "metadata": {},
   "outputs": [
    {
     "name": "stdout",
     "output_type": "stream",
     "text": [
      "ala ma kota\n"
     ]
    }
   ],
   "source": [
    "# kod\n",
    "print(\"ala ma kota\")"
   ]
  },
  {
   "cell_type": "code",
   "execution_count": 2,
   "id": "edd54a68-9604-414c-948f-a98a9a0fa21c",
   "metadata": {},
   "outputs": [
    {
     "name": "stdout",
     "output_type": "stream",
     "text": [
      "przed pętlą\n",
      "0\n",
      "1\n",
      "2\n",
      "3\n",
      "4\n",
      "5\n",
      "6\n",
      "7\n",
      "8\n",
      "9\n",
      "po pętli\n"
     ]
    }
   ],
   "source": [
    "print(\"przed pętlą\")\n",
    "for i in range(10):\n",
    "    print(i)\n",
    "print(\"po pętli\")"
   ]
  }
 ],
 "metadata": {
  "kernelspec": {
   "display_name": "Python 3 (ipykernel)",
   "language": "python",
   "name": "python3"
  },
  "language_info": {
   "codemirror_mode": {
    "name": "ipython",
    "version": 3
   },
   "file_extension": ".py",
   "mimetype": "text/x-python",
   "name": "python",
   "nbconvert_exporter": "python",
   "pygments_lexer": "ipython3",
   "version": "3.13.9"
  }
 },
 "nbformat": 4,
 "nbformat_minor": 5
}
